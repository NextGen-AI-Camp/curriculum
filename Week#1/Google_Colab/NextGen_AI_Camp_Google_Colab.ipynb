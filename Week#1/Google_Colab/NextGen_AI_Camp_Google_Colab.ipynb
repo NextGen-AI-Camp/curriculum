{
  "nbformat": 4,
  "nbformat_minor": 0,
  "metadata": {
    "colab": {
      "provenance": [],
      "toc_visible": true,
      "gpuType": "T4"
    },
    "kernelspec": {
      "name": "python3",
      "display_name": "Python 3"
    },
    "language_info": {
      "name": "python"
    },
    "accelerator": "GPU"
  },
  "cells": [
    {
      "cell_type": "markdown",
      "source": [
        "# **แนะนำ Google Colab**\n"
      ],
      "metadata": {
        "id": "lZsjHfennZPx"
      }
    },
    {
      "cell_type": "markdown",
      "source": [
        "## Google Colab คืออะไร\n",
        "\n",
        "**Google Colab** หรือ **Google Colaboratory** เป็นเครื่องมือหนึ่งในชุดเครื่องมือของ Google ที่มีลักษณะเป็นแพลตฟอร์มสำหรับการพัฒนาและรันโค้ด Python ผ่านเว็บบราวเซอร์ ในรูปแบบของเอกสารเชิงโต้ตอบ (Interactive Documents) ที่เรียกว่า Jupyter Notebook\n",
        "\n",
        "\n",
        "<div>\n",
        "<br>\n",
        "<img src=\"https://static1.anpoimages.com/wordpress/wp-content/uploads/2023/03/what-is-google-colab-hero-copy.jpg\" width=\"600\"/>\n",
        "<br>\n",
        "</div>"
      ],
      "metadata": {
        "id": "2tyZW2og0Ot4"
      }
    },
    {
      "cell_type": "markdown",
      "source": [
        "## ประโยชน์และการใช้งาน Google Colab\n",
        "1. พัฒนาและทดลองโมเดล Machine Learning:\n",
        "  - การใช้ทรัพยากรคลาวด์: ใช้ทรัพยากร GPU และ TPU ของ Google ในการประมวลผลที่มีประสิทธิภาพสูง โดยไม่ต้องมีฮาร์ดแวร์เฉพาะทางที่บ้าน\n",
        "  - รองรับไลบรารีต่างๆ: Colab รองรับไลบรารี Machine Learning ยอดนิยม เช่น TensorFlow, Keras, PyTorch เป็นต้น\n",
        "\n",
        "2. วิเคราะห์และประมวลผลข้อมูล:\n",
        "  - การจัดการและวิเคราะห์ข้อมูล: ใช้ Pandas, NumPy, Matplotlib, และ Seaborn สำหรับการวิเคราะห์และสร้างกราฟข้อมูล\n",
        "  - การทำข้อมูลเชิงลึก: ใช้สำหรับการทำ Data Wrangling, Data Cleaning และการวิเคราะห์ข้อมูลเชิงลึก\n",
        "\n",
        "3. เขียนและทดสอบโค้ด:\n",
        "  - แพลตฟอร์มฟรีและเข้าถึงได้ง่าย: ไม่ต้องติดตั้งซอฟต์แวร์ใดๆ เพื่อเริ่มเขียนและทดสอบโค้ด\n",
        "  - การทำงานร่วมกัน: สามารถแชร์โน้ตบุ๊กให้อื่นๆ ตรวจสอบและร่วมแก้ไขได้\n",
        "\n",
        "4. ทำโปรเจ็กต์ด้านโปรแกรมมิ่ง:\n",
        "  - การบันทึกและเรียกใช้ไฟล์ใน Google Drive: เชื่อมต่อกับ Google Drive เพื่อจัดเก็บและเข้าถึงไฟล์โปรเจ็กต์ได้ง่ายดายทุกที่ทุกเวลา\n",
        "  - การเชื่อมต่อกับ GitHub: สามารถก๊อปปี้และดึงเอาโน้ตบุ๊กจาก GitHub มาใช้หรืออัปโหลดกลับไปที่ GitHub"
      ],
      "metadata": {
        "id": "RhytlVfbzs4n"
      }
    },
    {
      "cell_type": "markdown",
      "source": [
        "# **การเข้าสู่ระบบและเริ่มต้นใช้งาน Google Colab**\n",
        "\n",
        "1. เปิดเว็บเบราว์เซอร์: ใช้เว็บเบราว์เซอร์ที่คุณต้องการ เช่น Google Chrome, Firefox, Safari หรือ Microsoft Edge\n",
        "2. ไปที่หน้าเข้าสู่ระบบของ Google\n",
        "3. เข้าสู่ Google Colab ที่ https://colab.research.google.com/\n",
        "\n",
        "<div>\n",
        "<br>\n",
        "<img src=\"https://lh6.googleusercontent.com/ZlyhfyyNHXD3NkKKZ5_YLgCksg-iF1M4mFLyvhC654FyjY6kHrtPJwpV31Utc3uElE5KYFKf9zOgXcd-PPEzgClAVMYiWhlvwS3aK0dGdXT5WpVVHrZXaWWqmZD1PoQUhCtqBP3o\" width=\"600\"/>\n",
        "<br>\n",
        "</div>"
      ],
      "metadata": {
        "id": "AbEJJZfkqt2Y"
      }
    },
    {
      "cell_type": "markdown",
      "source": [
        "# **รู้จักกับ Jupyter Notebook บน Google Colab**\n",
        "\n",
        "**Jupyter Notebook** คือ เครื่องมือที่ใช้เขียน code ในการที่เราจะสร้าง machine learning model เป็นเครื่องมือที่ที่นิยมมากในกลุ่มคนที่ทำงานด้าน Data Science เหมาะกับการทำงานที่เกี่ยวกับการจัดการข้อมูลเป็นจำนวนมากแล้วยังต้องรายงานงานวิจัยที่ตนเองได้ทำขึ้นมา\n",
        "\n",
        "ซึ่งตัว Jupyter Notebook ก็ได้ออกแบบมาตรงตามจุดประสงค์การใช้งานไม่ว่าจะเป็น การเรียกใช้งาน library พร้อมทั้งเขียน code และดูผลได้เลย Jupyter Notebook นั้นถูกออกแบบมาให้ทำงานและอ่านได้ง่ายกว่าการที่เรา text editer รวมไปถึงเรายังสามารถที่จะพิมพ์ตัวหนังสือภาษาไทยลงไปได้เลย เหมือนเราพิมพ์รายงานใน Microsoft Word ได้เลยทีเดียว\n"
      ],
      "metadata": {
        "id": "GLWh-dUDwHP1"
      }
    },
    {
      "cell_type": "markdown",
      "source": [
        "## แนะนำส่วนประกอบต่าง ๆ ของ Jupyter Notebook\n",
        "\n",
        "1. Menu Bar (แถบเมนู): เมนูหลักสำหรับการเข้าถึงฟังก์ชันต่าง ๆ เช่น File, Edit, View, Insert, Runtime, Tools, Help\n",
        "2. Notebook Cells (เซลล์โน้ตบุ๊ก):\n",
        "  - Code Cells: สำหรับเขียนและรันโค้ด Python\n",
        "  - Markdown Cells: สำหรับเขียนข้อความและอธิบายโดยใช้ Markdown\n",
        "3. Runtime: กระบวนการเบื้องหลังที่รันโค้ด สามารถรีสตาร์ทได้\n",
        "4. Output Cells: แสดงผลลัพธ์จากการรันโค้ดใน Code Cells"
      ],
      "metadata": {
        "id": "6518vkrDzMGZ"
      }
    },
    {
      "cell_type": "markdown",
      "source": [
        "## การสร้าง, จัดการ และ รันโค้ดใน Cells (Code Cells และ Text Cells)"
      ],
      "metadata": {
        "id": "YWgc3uAhzHHS"
      }
    },
    {
      "cell_type": "markdown",
      "source": [
        "สวัสดีน้องๆค่าย NextGen AI Camp @CE-KMITL ทุกคนนะครับ 😊"
      ],
      "metadata": {
        "id": "VxYC7-6E1CBu"
      }
    },
    {
      "cell_type": "code",
      "execution_count": null,
      "metadata": {
        "colab": {
          "base_uri": "https://localhost:8080/"
        },
        "id": "9t2Rm5ZDmjRn",
        "outputId": "78a45a3b-87e6-4973-ddec-d5e087ab0f5c"
      },
      "outputs": [
        {
          "output_type": "stream",
          "name": "stdout",
          "text": [
            "Hello World!!\n"
          ]
        }
      ],
      "source": [
        "print(\"Hello World!!\")"
      ]
    },
    {
      "cell_type": "code",
      "source": [
        "x = 10\n",
        "y = 60\n",
        "print(x + y)"
      ],
      "metadata": {
        "colab": {
          "base_uri": "https://localhost:8080/"
        },
        "id": "ZFqEiX7_y5TF",
        "outputId": "18c5bd19-1a2c-45e3-cd8b-8adb2cdc925f"
      },
      "execution_count": null,
      "outputs": [
        {
          "output_type": "stream",
          "name": "stdout",
          "text": [
            "70\n"
          ]
        }
      ]
    },
    {
      "cell_type": "markdown",
      "source": [
        "## การใช้งานไลบรารีและโมดูลใน Google Colab\n",
        "\n",
        "- การติดตั้งและใช้งานไลบรารีที่จำเป็น เช่น NumPy, Pandas, Matplotlib\n",
        "- การนำเข้าและจัดการข้อมูลเบื้องต้น"
      ],
      "metadata": {
        "id": "0tn8KyIuQGpm"
      }
    },
    {
      "cell_type": "code",
      "source": [
        "# ติดตั้งไลบรารี\n",
        "!pip install numpy pandas matplotlib"
      ],
      "metadata": {
        "id": "vwiMl_fqWzPu"
      },
      "execution_count": null,
      "outputs": []
    },
    {
      "cell_type": "code",
      "source": [
        "import numpy as np\n",
        "\n",
        "# สร้างอาร์เรย์ NumPy\n",
        "array = np.array([1, 2, 3, 4, 5])\n",
        "print(\"Array:\", array)\n",
        "\n",
        "# การคำนวณทางคณิตศาสตร์\n",
        "print(\"Sum:\", np.sum(array))\n",
        "print(\"Mean:\", np.mean(array))\n",
        "print(\"Standard Deviation:\", np.std(array))"
      ],
      "metadata": {
        "id": "8FT4Za9icvvY",
        "colab": {
          "base_uri": "https://localhost:8080/"
        },
        "outputId": "5095a1c7-3486-44b3-9f94-f17eca1f0119"
      },
      "execution_count": null,
      "outputs": [
        {
          "output_type": "stream",
          "name": "stdout",
          "text": [
            "Array: [1 2 3 4 5]\n",
            "Sum: 15\n",
            "Mean: 3.0\n",
            "Standard Deviation: 1.4142135623730951\n"
          ]
        }
      ]
    },
    {
      "cell_type": "code",
      "source": [
        "import pandas as pd\n",
        "\n",
        "# การสร้าง DataFrame\n",
        "data = {\n",
        "    'Name': ['John', 'Anna', 'Peter', 'Linda'],\n",
        "    'Age': [28, 24, 35, 32]\n",
        "}\n",
        "df = pd.DataFrame(data)\n",
        "\n",
        "# แสดง DataFrame\n",
        "print(\"DataFrame:\")\n",
        "print(df)\n",
        "\n",
        "# การนำเข้าข้อมูลจากไฟล์ CSV (ตัวอย่าง)\n",
        "# df = pd.read_csv('filename.csv')\n",
        "\n",
        "# การเข้าถึงข้อมูล\n",
        "print(\"\\nNames:\", df['Name'])\n",
        "print(\"\\nAges greater than 30:\")\n",
        "print(df[df['Age'] > 30])"
      ],
      "metadata": {
        "id": "Ev90s0vocxm-",
        "colab": {
          "base_uri": "https://localhost:8080/"
        },
        "outputId": "c932f15b-c8bd-401e-f347-6c139bf533ae"
      },
      "execution_count": null,
      "outputs": [
        {
          "output_type": "stream",
          "name": "stdout",
          "text": [
            "DataFrame:\n",
            "    Name  Age\n",
            "0   John   28\n",
            "1   Anna   24\n",
            "2  Peter   35\n",
            "3  Linda   32\n",
            "\n",
            "Names: 0     John\n",
            "1     Anna\n",
            "2    Peter\n",
            "3    Linda\n",
            "Name: Name, dtype: object\n",
            "\n",
            "Ages greater than 30:\n",
            "    Name  Age\n",
            "2  Peter   35\n",
            "3  Linda   32\n"
          ]
        }
      ]
    },
    {
      "cell_type": "code",
      "source": [
        "import matplotlib.pyplot as plt\n",
        "\n",
        "# ข้อมูลสำหรับสร้างกราฟ\n",
        "x = np.array([0, 1, 2, 3, 4])\n",
        "y = np.array([0, 1, 4, 9, 16])\n",
        "\n",
        "# การสร้างกราฟแบบเส้น\n",
        "plt.plot(x, y)\n",
        "plt.title('Line Plot')\n",
        "plt.xlabel('X-axis')\n",
        "plt.ylabel('Y-axis')\n",
        "plt.show()\n",
        "\n",
        "# การสร้างกราฟแท่ง\n",
        "plt.bar(x, y)\n",
        "plt.title('Bar Plot')\n",
        "plt.xlabel('X-axis')\n",
        "plt.ylabel('Y-axis')\n",
        "plt.show()"
      ],
      "metadata": {
        "id": "uAIIN7nKczjH",
        "colab": {
          "base_uri": "https://localhost:8080/",
          "height": 927
        },
        "outputId": "0eab1008-b6d8-4d87-952b-773e6ffa7d79"
      },
      "execution_count": null,
      "outputs": [
        {
          "output_type": "display_data",
          "data": {
            "text/plain": [
              "<Figure size 640x480 with 1 Axes>"
            ],
            "image/png": "[encoded data removed]"
          },
          "metadata": {}
        },
        {
          "output_type": "display_data",
          "data": {
            "text/plain": [
              "<Figure size 640x480 with 1 Axes>"
            ],
            "image/png": "[encoded data removed]"
          },
          "metadata": {}
        }
      ]
    },
    {
      "cell_type": "code",
      "source": [
        "# การนำเข้าข้อมูลจากไฟล์ CSV\n",
        "df = pd.read_csv('data.csv')\n",
        "\n",
        "# ตรวจสอบข้อมูล\n",
        "print(df.head())  # แสดง 5 แถวแรกของ DataFrame\n",
        "print(df.info())  # ข้อมูลเกี่ยวกับ DataFrame"
      ],
      "metadata": {
        "id": "c91OAbXdc3yq"
      },
      "execution_count": null,
      "outputs": []
    },
    {
      "cell_type": "markdown",
      "source": [
        "# **การเปลี่ยนและใช้ทรัพยากร CPU/GPU/TPU ใน Google Colab**\n",
        "\n",
        "### วิธีการเปลี่ยน Runtime เป็น GPU หรือ TPU\n",
        "  - ไปที่แถบ Menu bar เลือก Runtime --> Change runtime type จะปรากฏดังรูป\n",
        "\n",
        "<div>\n",
        "<br>\n",
        "<img src=\"https://developer.chrome.com/static/docs/web-platform/webgpu/colab-headless/image/select-t4.png\" width=\"600\"/>\n",
        "<br>\n",
        "</div>\n",
        "\n",
        "- **การใช้งาน CPU** เหมาะสำหรับการทำงานทั่วไป การประมวลผลแบบลำดับ และงานที่ต้องการความแม่นยำสูงในเชิงลำดับคำสั่ง\n",
        "\n",
        "- **การใช้งาน GPU** เหมาะสำหรับการประมวลผลกราฟิก การเรนเดอร์ภาพ และงานที่ต้องการการประมวลผลแบบขนานเช่นการเทรนโมเดล Machine Learning และการวิเคราะห์ข้อมูลขนาดใหญ่\n",
        "\n",
        "- **การใช้งาน TPU** เหมาะสำหรับงาน Deep Learning และการประมวลผล TensorFlow ด้วยความเร็วสูงกว่า CPU และ GPU ในงานเฉพาะทางด้าน AI และ Machine Learning"
      ],
      "metadata": {
        "id": "CzQSKqSC1r0B"
      }
    },
    {
      "cell_type": "markdown",
      "source": [
        "# **การนำเข้าข้อมูลจากแหล่งต่าง ๆ**\n",
        "\n",
        "- ### การนำเข้าข้อมูลจาก Google Drive\n",
        "\n",
        "<div>\n",
        "<br>\n",
        "<img src=\"https://miro.medium.com/v2/resize:fit:1400/1*KMVM4jWsRUIT4gNZNkYHvw.png\" width=\"600\"/>\n",
        "<br>\n",
        "</div>\n",
        "\n",
        "- ### การนำเข้าข้อมูลจากไฟล์ที่อัพโหลดในเครื่อง\n",
        "\n",
        "<div>\n",
        "<br>\n",
        "<img src=\"https://miro.medium.com/v2/resize:fit:1400/1*eLs1D3BI4_HLAabN5WUTPg.png\" width=\"600\"/>\n",
        "<br>\n",
        "</div>"
      ],
      "metadata": {
        "id": "kF5NQ7nqBOhZ"
      }
    },
    {
      "cell_type": "markdown",
      "source": [
        "# **การบันทึกและแชร์ Google Colab Notebook**\n",
        "\n",
        "### การบันทึก Google Colab Notebook\n",
        "- บันทึกใน Google Drive:\n",
        "\n",
        "  - Google Colab จะบันทึกโน้ตบุ๊กอัตโนมัติใน Google Drive ของคุณในโฟลเดอร์ชื่อ \"Colab Notebooks\"\n",
        "  - คุณสามารถบันทึกด้วยตัวเองได้จากเมนู File > Save หรือ File > Save a copy in Drive\n",
        "\n",
        "- บันทึกใน GitHub:\n",
        "  - คุณสามารถบันทึกด้วยตัวเองได้จากเมนู File > Save a copy in GitHub\n",
        "\n",
        "- บันทึกเป็นไฟล์ในเครื่องคอมพิวเตอร์ (Download):\n",
        "  - บันทึกโน้ตบุ๊กลงในคอมพิวเตอร์ของคุณเป็นไฟล์ .ipynb หรือ .py\n",
        "\n",
        "### แชร์ผ่านลิงก์ใน Google Colab Notebook\n",
        "\n",
        "- #### การ Share โดย ระบุ email ของผู้ที่ต้องการแชร์ให้\n",
        "\n",
        "<div>\n",
        "<br>\n",
        "<img src=\"https://christianjmills.com/posts/google-colab-getting-started-tutorial/images/google-colab-share-button.png\" width=\"600\"/>\n",
        "\n",
        "<img src=\"https://christianjmills.com/posts/google-colab-getting-started-tutorial/images/google-colab-share-notebook-add-people.png\" width=\"600\"/>\n",
        "\n",
        "<img src=\"https://christianjmills.com/posts/google-colab-getting-started-tutorial/images/google-colab-share-notebook-set-permission-level.png\" width=\"600\"/>\n",
        "<br>\n",
        "</div>\n",
        "\n",
        "- #### การ Share โดย คัดลอกลิงก์แล้วแบ่งปันลิงก์ให้กับบุคคลที่ต้องการ\n",
        "\n",
        "<div>\n",
        "<br>\n",
        "<img src=\"https://christianjmills.com/posts/google-colab-getting-started-tutorial/images/google-colab-enable-shareable-link.png\" width=\"600\"/>\n",
        "\n",
        "<img src=\"https://christianjmills.com/posts/google-colab-getting-started-tutorial/images/google-colab-enable-shareable-link-permission-level.png\" width=\"600\"/>\n",
        "\n",
        "<img src=\"https://christianjmills.com/posts/google-colab-getting-started-tutorial/images/google-colab-enable-shareable-link-copy-link.png\" width=\"600\"/>\n",
        "<br>\n",
        "</div>\n"
      ],
      "metadata": {
        "id": "K-8e7AMIpoB5"
      }
    }
  ]
}