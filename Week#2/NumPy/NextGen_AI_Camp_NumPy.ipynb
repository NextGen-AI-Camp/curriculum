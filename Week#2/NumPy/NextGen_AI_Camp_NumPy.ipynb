{
  "nbformat": 4,
  "nbformat_minor": 0,
  "metadata": {
    "colab": {
      "provenance": []
    },
    "kernelspec": {
      "name": "python3",
      "display_name": "Python 3"
    },
    "language_info": {
      "name": "python"
    }
  },
  "cells": [
    {
      "cell_type": "markdown",
      "source": [
        "**Table of contents**\n",
        "- 1. NumPy คืออะไร\n",
        "- 2. พื้นฐาน NumPy array\n",
        "- 3. ฟังก์ชันสร้าง array เบื้องต้น\n",
        "- 4. การปรับรูปร่าง array\n",
        "- 5. การตัดแบ่งและรวม array\n",
        "- 6. ตัวดำเนินการและฟังก์ชันเชิงคณิตศาสตร์\n",
        "- 7. ฟังก์ชันทางสถิติ\n",
        "- 8. การจัดการไฟล์ข้อมูล\n",
        "___"
      ],
      "metadata": {
        "id": "jEtM6Q5yvoaP"
      }
    },
    {
      "cell_type": "markdown",
      "source": [
        "# **1. NumPy คืออะไร**"
      ],
      "metadata": {
        "id": "hgaI8eQl9Lre"
      }
    },
    {
      "cell_type": "markdown",
      "source": [
        "### ✔ แนะนำ NumPy library\n",
        "\n",
        "**NumPy (Numerical Python)** เป็นไลบรารี (library) ที่ใช้สำหรับการคำนวณทางวิทยาศาสตร์ในภาษา Python โดยเฉพาะการทำงานกับอาเรย์หลายมิติ (Multidimensional Arrays) ที่มีประสิทธิภาพสูง ลักษณะเด่นของ NumPy คือการประมวลผลข้อมูลที่มีความเร็วกว่าการใช้ลิสต์ใน Python ทั่วไป เนื่องจาก NumPy ใช้การจัดเก็บข้อมูลในหน่วยความจำแบบต่อเนื่องและการดำเนินการทางคณิตศาสตร์ที่ถูกปรับแต่งมาอย่างดี\n",
        "\n",
        "<div>\n",
        "<br>\n",
        "<img src=\"https://datascientest.com/en/wp-content/uploads/sites/9/2023/03/illu_numpy_blog-125.png\" width=\"600\"/>\n",
        "<br>\n",
        "</div>"
      ],
      "metadata": {
        "id": "IjHXYFpP-FVq"
      }
    },
    {
      "cell_type": "markdown",
      "source": [
        "### ✔ ประโยชน์และการประยุกต์ใช้งานของ NumPy"
      ],
      "metadata": {
        "id": "SDOHRjym2Ala"
      }
    },
    {
      "cell_type": "markdown",
      "source": [
        "ประโยชน์ของ NumPy\n",
        "- **ความเร็วและประสิทธิภาพ** : การคำนวณทางคณิตศาสตร์ใน NumPy เร็วกว่าการใช้ลิสต์ธรรมดาใน Python อย่างมาก\n",
        "- **การจัดการหน่วยความจำที่ดี** : NumPy ใช้หน่วยความจำแบบต่อเนื่องซึ่งช่วยลดการใช้หน่วยความจำ\n",
        "- **เครื่องมือที่ครอบคลุม** : มีฟังก์ชันคณิตศาสตร์และสถิติที่ครอบคลุมและใช้งานง่าย\n",
        "- **รวมการดำเนินการหลายขั้นตอน** : ฟังก์ชันใน NumPy สามารถดำเนินการกับอาเรย์ทั้งชุดโดยไม่ต้องใช้ loops\n",
        "- **ใช้งานง่ายและอ่านผลลัพธ์ง่าย** : Syntax ที่ชัดเจนและโครงสร้างข้อมูลที่เป็นระเบียบ\n",
        "\n",
        "การประยุกต์ใช้งาน\n",
        "- **การประมวลผลภาพและสัญญาณ** : ใช้ NumPy ในการวิเคราะห์ภาพดิจิทัลและสัญญาณ เช่น การกรองสัญญาณ, การบีบอัด, การตรวจจับขอบ\n",
        "- **การคำนวณทางวิทยาศาสตร์และวิศวกรรม** : ใช้ในการวิเคราะห์ข้อมูลทางฟิสิกส์, เคมี, ชีววิทยา และวิศวกรรม ได้แก่ การวิเคราะห์ข้อมูลจากเซ็นเซอร์, การจำลองเชิงพลศาสตร์, การทำนายพยากรณ์\n",
        "- **การวิเคราะห์ทางการเงิน** : ใช้ในการวิเคราะห์ข้อมูลทางการเงิน เช่น การวิเคราะห์หุ้น, การจำลองมอนติคาร์โล, การคำนวณความเสี่ยง\n",
        "- **การเรียนรู้ของเครื่อง (Machine Learning)** : NumPy เป็นรากฐานสำหรับการสร้างโมเดลเรียนรู้ของเครื่อง, การประมวลผลข้อมูลที่ใช้ในการฝึกโมเดลต่าง ๆ รวมถึงการทำ Dimensionality Reduction"
      ],
      "metadata": {
        "id": "bt1N3EJo2GVF"
      }
    },
    {
      "cell_type": "markdown",
      "source": [
        "### ✔ การติดตั้งและเรียกใช้ NumPy"
      ],
      "metadata": {
        "id": "zfb6oGr-gpFf"
      }
    },
    {
      "cell_type": "code",
      "source": [
        "!pip install numpy # ติดตั้ง (ใน google colab จะติดตั้งมาให้แล้ว)"
      ],
      "metadata": {
        "id": "Bl2I31Njn2a2"
      },
      "execution_count": null,
      "outputs": []
    },
    {
      "cell_type": "code",
      "execution_count": null,
      "metadata": {
        "id": "ST5PzBj9v6BA"
      },
      "outputs": [],
      "source": [
        "import numpy as np # เรียกใช้"
      ]
    },
    {
      "cell_type": "markdown",
      "source": [
        "# **2. พื้นฐาน NumPy array**"
      ],
      "metadata": {
        "id": "IUg-A034Ut5M"
      }
    },
    {
      "cell_type": "markdown",
      "source": [
        "### ✔ Array คืออะไร\n",
        "**อาเรย์ (Array)** เป็นโครงสร้างข้อมูลชนิดหนึ่งที่ใช้เก็บค่าหลายๆ ค่าในตัวแปรเดียวกัน โดยค่าต่างๆ ใน array จะถูกจัดเก็บเป็นลำดับและมีดัชนี (index) หรือตำแหน่งที่เจาะจง การเข้าถึงข้อมูลใน array สามารถทำได้โดยระบุตำแหน่งหรือดัชนีของข้อมูลนั้นๆ Array มีขนาดคงที่และประเภทของข้อมูลภายในต้องเป็นชนิดเดียวกัน การใช้งาน array ทำให้การจัดการข้อมูลที่เป็นกลุ่มๆ ง่ายขึ้นและมีประสิทธิภาพมากขึ้น\n",
        "\n",
        "<div>\n",
        "<br>\n",
        "<img src=\"https://media0.giphy.com/media/IaztG2U4LddJJhv0ra/giphy.gif?cid=6c09b952otz52igmrvk0z4ono67hsjce5m4o7zhlpn2vp3pk&ep=v1_gifs_search&rid=giphy.gif&ct=g\" width=\"300\"/>\n",
        "<br>\n",
        "</div>\n",
        "\n",
        "\n",
        "Array มีความสำคัญอย่างยิ่งในงาน AI และ Machine Learning เนื่องจาก:\n",
        "1. รองรับการเก็บข้อมูลจำนวนมหาศาลและเข้าถึงได้อย่างรวดเร็ว\n",
        "2. รองรับข้อมูลหลายมิติ (dimensions) ที่พบบ่อยในงาน AI เช่น รูปภาพ\n",
        "3. เหมาะกับการประมวลผลทางคณิตศาสตร์ด้วยอัลกอริทึม ML เช่น matrix multiplication\n",
        "4. เป็นโครงสร้างข้อมูลพื้นฐานของไลบรารี AI หลัก เช่น NumPy, TensorFlow\n",
        "\n",
        "<div>\n",
        "<br>\n",
        "<img src=\"https://i0.wp.com/indianaiproduction.com/wp-content/uploads/2019/06/Python-NumPy-Tutorial-for-machine-learning-data-science-1.png?resize=589%2C235&ssl=1\" width=\"600\"/>\n",
        "<img src=\"https://jalammar.github.io/images/numpy/numpy-grayscale-image.png\" width=\"600\"/>\n",
        "<br>\n",
        "</div>\n",
        "\n",
        "ด้วยความสามารถในการรองรับ big data หลายมิติ ความรวดเร็วในการประมวลผล และการใช้งานกับไลบรารีด้าน AI โดยตรง array จึงเป็นโครงสร้างข้อมูลที่จำเป็นและเหมาะสมที่สุดสำหรับการพัฒนา AI ในปัจจุบัน\n",
        "\n"
      ],
      "metadata": {
        "id": "SJRnKAMrjvyx"
      }
    },
    {
      "cell_type": "markdown",
      "source": [
        "### ✔ การสร้าง array ด้วย `np.array()`\n",
        "\n",
        "<div>\n",
        "<br>\n",
        "<img src=\"https://miro.medium.com/v2/resize:fit:817/0*y04Nh3L0aSwyGaby.png\" width=\"600\"/>\n",
        "<img src=\"https://www.plus2net.com/python/images/np-dimensions.jpg\" width=\"600\"/>\n",
        "<br>\n",
        "</div>\n"
      ],
      "metadata": {
        "id": "J5davLdEkj72"
      }
    },
    {
      "cell_type": "code",
      "source": [
        "import numpy as np\n",
        "\n",
        "# สร้างอาเรย์ 1 มิติ\n",
        "array_1d = np.array([1, 2, 3, 4, 5])\n",
        "\n",
        "array_1d"
      ],
      "metadata": {
        "id": "9ZJO25E6hILA"
      },
      "execution_count": null,
      "outputs": []
    },
    {
      "cell_type": "code",
      "source": [
        "# สร้างอาเรย์ 2 มิติ\n",
        "\n",
        "array_2d = np.array([[1, 2, 3],\n",
        "                     [4, 5, 6],\n",
        "                     [7, 8, 9]])\n",
        "\n",
        "array_2d"
      ],
      "metadata": {
        "id": "1-R_wY5toRW0"
      },
      "execution_count": null,
      "outputs": []
    },
    {
      "cell_type": "code",
      "source": [
        "# สร้างอาเรย์ 3 มิติ\n",
        "\n",
        "array_3d = np.array([[[1, 2], [3, 4]],\n",
        "                     [[5, 6], [7, 8]],\n",
        "                     [[9, 10], [11, 12]]])\n",
        "\n",
        "array_3d"
      ],
      "metadata": {
        "id": "mWd0l05Mysfv"
      },
      "execution_count": null,
      "outputs": []
    },
    {
      "cell_type": "markdown",
      "source": [
        "### ✔ การหารูปร่างด้วย `.shape` ของ array"
      ],
      "metadata": {
        "id": "1kvwLsZIaNHu"
      }
    },
    {
      "cell_type": "code",
      "source": [
        "# สร้างอาเรย์ 1 มิติ\n",
        "array_1d = np.array([1, 2, 3, 4, 5])\n",
        "\n",
        "# 1D: (length,)\n",
        "array_1d.shape"
      ],
      "metadata": {
        "id": "HLhMHhBBOOae"
      },
      "execution_count": null,
      "outputs": []
    },
    {
      "cell_type": "code",
      "source": [
        "# สร้างอาเรย์ 2 มิติ\n",
        "array_2d = np.array([[1, 2, 3],\n",
        "                     [4, 5, 6],\n",
        "                     [7, 8, 9]])\n",
        "\n",
        "# 2D: (rows, columns)\n",
        "array_2d.shape"
      ],
      "metadata": {
        "id": "7vOjUdAzOPbM"
      },
      "execution_count": null,
      "outputs": []
    },
    {
      "cell_type": "code",
      "source": [
        "# สร้างอาเรย์ 3 มิติ\n",
        "array_3d = np.array([[[1, 2], [3, 4]],\n",
        "                     [[5, 6], [7, 8]],\n",
        "                     [[9, 10], [11, 12]]])\n",
        "\n",
        "# 3D: มีโครงสร้างที่ซับซ้อนขึ้น (blocks, rows, columns)\n",
        "array_3d.shape"
      ],
      "metadata": {
        "id": "sfUJjxsgaO9O"
      },
      "execution_count": null,
      "outputs": []
    },
    {
      "cell_type": "markdown",
      "source": [
        "### ✔ การหาจำนวนมิติด้วย `.ndim`"
      ],
      "metadata": {
        "id": "CRm7ty9respi"
      }
    },
    {
      "cell_type": "code",
      "source": [
        "# สร้างอาเรย์ 1 มิติ\n",
        "array_1d = np.array([1, 2, 3, 4, 5])\n",
        "\n",
        "array_1d.ndim"
      ],
      "metadata": {
        "id": "_FOC6fOOOS8l"
      },
      "execution_count": null,
      "outputs": []
    },
    {
      "cell_type": "code",
      "source": [
        "# สร้างอาเรย์ 2 มิติ\n",
        "array_2d = np.array([[1, 2, 3],\n",
        "                     [4, 5, 6],\n",
        "                     [7, 8, 9]])\n",
        "\n",
        "array_2d.ndim"
      ],
      "metadata": {
        "id": "Lot-qJqZOUHI"
      },
      "execution_count": null,
      "outputs": []
    },
    {
      "cell_type": "code",
      "source": [
        "# สร้างอาเรย์ 3 มิติ\n",
        "array_3d = np.array([[[1, 2], [3, 4]],\n",
        "                     [[5, 6], [7, 8]],\n",
        "                     [[9, 10], [11, 12]]])\n",
        "\n",
        "array_3d.ndim"
      ],
      "metadata": {
        "id": "ZhcW4pwXewAD"
      },
      "execution_count": null,
      "outputs": []
    },
    {
      "cell_type": "markdown",
      "source": [
        "### ✔ ชนิดข้อมูลของ array ด้วย `.dtype`"
      ],
      "metadata": {
        "id": "4FG5cQxDe4uy"
      }
    },
    {
      "cell_type": "markdown",
      "source": [
        "dtypes in NumPy include:\n",
        "\n",
        "- `int8, int16, int32, int64`: Signed integer types\n",
        "- `uint8, uint16, uint32, uint64`: Unsigned integer types\n",
        "- `float16, float32, float64`: Floating-point number types\n",
        "- `complex64, complex128`: Complex number types\n",
        "- `bool_`: Boolean type\n",
        "- `object_`: Object type (used for arrays of Python objects)"
      ],
      "metadata": {
        "id": "DqPb7mJpcoxA"
      }
    },
    {
      "cell_type": "code",
      "source": [
        "# สร้างอาเรย์ 1 มิติ\n",
        "array_1d = np.array([1, 2, 3, 4, 5], dtype=\"float\")\n",
        "\n",
        "array_1d.dtype"
      ],
      "metadata": {
        "id": "l7-YeOTUOXb1"
      },
      "execution_count": null,
      "outputs": []
    },
    {
      "cell_type": "code",
      "source": [
        "# สร้างอาเรย์ 2 มิติ\n",
        "array_2d = np.array([[1, 2, 3],\n",
        "                     [4, 5, 6],\n",
        "                     [7, 8, 9]], dtype='float')\n",
        "\n",
        "array_2d.dtype"
      ],
      "metadata": {
        "id": "eKlz9qNYOYsX"
      },
      "execution_count": null,
      "outputs": []
    },
    {
      "cell_type": "code",
      "source": [
        "# สร้างอาเรย์ 3 มิติ\n",
        "array_3d = np.array([[[1, 2], [3, 4]],\n",
        "                     [[5, 6], [7, 8]],\n",
        "                     [[9, 10], [11, 12]]])\n",
        "\n",
        "array_3d.dtype"
      ],
      "metadata": {
        "id": "b1Pr7ilpe83Y"
      },
      "execution_count": null,
      "outputs": []
    },
    {
      "cell_type": "markdown",
      "source": [
        "### ✔ การเข้าถึง array"
      ],
      "metadata": {
        "id": "BN7bo55IfDdp"
      }
    },
    {
      "cell_type": "markdown",
      "source": [
        "<div>\n",
        "<br>\n",
        "<img src=\"https://indhumathychelliahcom.files.wordpress.com/2020/10/7fb7f-14m0h5qkxzzq52hnf56snaw.png\" width=\"400\"/>\n",
        "<img src=\"https://www.sharpsightlabs.com/wp-content/uploads/2018/12/numpy-arrays-have-axes_updated_v2.png\" width=\"400\"/>\n",
        "<br>\n",
        "</div>"
      ],
      "metadata": {
        "id": "htcJ9nHPIQVi"
      }
    },
    {
      "cell_type": "code",
      "source": [
        "# สร้างอาเรย์ 1 มิติ\n",
        "array_1d = np.array([1, 2, 3, 4, 5])\n",
        "\n",
        "array_1d[1]"
      ],
      "metadata": {
        "id": "JmCMvL9pfHYT"
      },
      "execution_count": null,
      "outputs": []
    },
    {
      "cell_type": "code",
      "source": [
        "array_1d[-2]"
      ],
      "metadata": {
        "id": "xXyK2Y-wJyCw"
      },
      "execution_count": null,
      "outputs": []
    },
    {
      "cell_type": "code",
      "source": [
        "# สร้างอาเรย์ 2 มิติ\n",
        "array_2d = np.array([[1, 2, 3],\n",
        "                     [4, 5, 6],\n",
        "                     [7, 8, 9]])\n",
        "\n",
        "array_2d[0, 1]"
      ],
      "metadata": {
        "id": "z9nQ1x_rMon5"
      },
      "execution_count": null,
      "outputs": []
    },
    {
      "cell_type": "code",
      "source": [
        "array_2d[2, -2]"
      ],
      "metadata": {
        "id": "BD3HUyUxJ0jm"
      },
      "execution_count": null,
      "outputs": []
    },
    {
      "cell_type": "code",
      "source": [
        "# สร้างอาเรย์ 3 มิติ\n",
        "array_3d = np.array([[[1, 2], [3, 4]],\n",
        "                     [[5, 6], [7, 8]],\n",
        "                     [[9, 10], [11, 12]]])\n",
        "\n",
        "\n",
        "array_3d[0, -1, 1]"
      ],
      "metadata": {
        "id": "DGBvraa-MqLj"
      },
      "execution_count": null,
      "outputs": []
    },
    {
      "cell_type": "code",
      "source": [
        "array_3d[-2, 0, 1]"
      ],
      "metadata": {
        "id": "R30TFIQOJ25G"
      },
      "execution_count": null,
      "outputs": []
    },
    {
      "cell_type": "markdown",
      "source": [
        "### ✔ การแก้ไขสมาชิก array"
      ],
      "metadata": {
        "id": "XA2t7S8zNm6o"
      }
    },
    {
      "cell_type": "code",
      "source": [
        "# สร้างอาเรย์ 1 มิติ\n",
        "array_1d = np.array([1, 2, 3, 4, 5])\n",
        "\n",
        "array_1d[0] = 10\n",
        "array_1d[4] = 15\n",
        "\n",
        "array_1d"
      ],
      "metadata": {
        "id": "JfYLqcEWNeik"
      },
      "execution_count": null,
      "outputs": []
    },
    {
      "cell_type": "code",
      "source": [
        "# สร้างอาเรย์ 2 มิติ\n",
        "array_2d = np.array([[1, 2, 3],\n",
        "                     [4, 5, 6],\n",
        "                     [7, 8, 9]])\n",
        "\n",
        "array_2d[0, 1] = 20\n",
        "\n",
        "array_2d"
      ],
      "metadata": {
        "id": "tpk5qYnFNf2y"
      },
      "execution_count": null,
      "outputs": []
    },
    {
      "cell_type": "code",
      "source": [
        "# สร้างอาเรย์ 3 มิติ\n",
        "array_3d = np.array([[[1, 2], [3, 4]],\n",
        "                     [[5, 6], [7, 8]],\n",
        "                     [[9, 10], [11, 12]]])\n",
        "\n",
        "array_3d[0, 1, 1] = 40\n",
        "\n",
        "array_3d"
      ],
      "metadata": {
        "id": "g3yK95QSM23p"
      },
      "execution_count": null,
      "outputs": []
    },
    {
      "cell_type": "markdown",
      "source": [
        "# **3. ฟังก์ชันสร้าง array เบื้องต้น**"
      ],
      "metadata": {
        "id": "hvV0BZb8fTMT"
      }
    },
    {
      "cell_type": "markdown",
      "source": [
        "### ✔ การสร้างอาเรย์ด้วย `np.zeros()`, `np.ones()`, `np.full()`, `np.empty()`"
      ],
      "metadata": {
        "id": "GNKqa011IqTJ"
      }
    },
    {
      "cell_type": "markdown",
      "source": [
        "การสร้างอาเรย์ด้วย `np.zeros()`\n",
        "ฟังก์ชันนี้จะสร้างอาเรย์ที่ทุกค่าเป็น 0 ตามขนาดที่กำหนด"
      ],
      "metadata": {
        "id": "va4VTaaRPvoS"
      }
    },
    {
      "cell_type": "code",
      "source": [
        "import numpy as np\n",
        "\n",
        "# สร้างอาเรย์ 1 มิติที่มีขนาด 5 และทุกค่าเป็น 0\n",
        "array_1d = np.zeros(100)\n",
        "\n",
        "array_1d"
      ],
      "metadata": {
        "id": "ATuEaM21O7_a"
      },
      "execution_count": null,
      "outputs": []
    },
    {
      "cell_type": "code",
      "source": [
        "# สร้างอาเรย์ 2 มิติที่มีขนาด 3x3 และทุกค่าเป็น 0\n",
        "array_2d = np.zeros((3, 3))\n",
        "\n",
        "array_2d"
      ],
      "metadata": {
        "id": "LhhiW2X7O_RG"
      },
      "execution_count": null,
      "outputs": []
    },
    {
      "cell_type": "code",
      "source": [
        "# สร้างอาเรย์ 3 มิติที่มีขนาด 2x2x2 และทุกค่าเป็น 0\n",
        "array_3d = np.zeros((2, 2, 2))\n",
        "\n",
        "array_3d"
      ],
      "metadata": {
        "id": "B0W2KCSRPB_Q"
      },
      "execution_count": null,
      "outputs": []
    },
    {
      "cell_type": "markdown",
      "source": [
        "การสร้างอาเรย์ด้วย `np.ones()`\n",
        "ฟังก์ชันนี้จะสร้างอาเรย์ที่ทุกค่าเป็น 1 ตามขนาดที่กำหนด"
      ],
      "metadata": {
        "id": "9VRnmTobPyvG"
      }
    },
    {
      "cell_type": "code",
      "source": [
        "# สร้างอาเรย์ 1 มิติที่มีขนาด 5 และทุกค่าเป็น 1\n",
        "array_1d = np.ones(5)\n",
        "\n",
        "array_1d"
      ],
      "metadata": {
        "id": "je4v-oTRPJ8q"
      },
      "execution_count": null,
      "outputs": []
    },
    {
      "cell_type": "code",
      "source": [
        "# สร้างอาเรย์ 2 มิติที่มีขนาด 3x3 และทุกค่าเป็น 1\n",
        "array_2d = np.ones((3, 3))\n",
        "\n",
        "array_2d"
      ],
      "metadata": {
        "id": "mktlImlFPLcb"
      },
      "execution_count": null,
      "outputs": []
    },
    {
      "cell_type": "code",
      "source": [
        "# สร้างอาเรย์ 3 มิติที่มีขนาด 2x2x2 และทุกค่าเป็น 1\n",
        "array_3d = np.ones((2, 2, 2))\n",
        "\n",
        "array_3d"
      ],
      "metadata": {
        "id": "Wr2kpiKZPNpm"
      },
      "execution_count": null,
      "outputs": []
    },
    {
      "cell_type": "markdown",
      "source": [
        "การสร้างอาเรย์ด้วย `np.empty()`\n",
        "ฟังก์ชันนี้จะสร้างอาเรย์โดยไม่กำหนดค่าเริ่มต้นในหน่วยความจำ ซึ่งค่าในอาเรย์จะเป็นค่าที่อยู่ในหน่วยความจำขณะนั้น"
      ],
      "metadata": {
        "id": "nagpvZ21P1Fx"
      }
    },
    {
      "cell_type": "code",
      "source": [
        "# สร้างอาเรย์ 1 มิติที่มีขนาด 5 โดยไม่กำหนดค่าเริ่มต้น\n",
        "empty_1d = np.empty(5)\n",
        "\n",
        "empty_1d"
      ],
      "metadata": {
        "id": "k3IhtjzpP3cb"
      },
      "execution_count": null,
      "outputs": []
    },
    {
      "cell_type": "code",
      "source": [
        "# สร้างอาเรย์ 2 มิติที่มีขนาด 3x3 โดยไม่กำหนดค่าเริ่มต้น\n",
        "empty_2d = np.empty((3, 3))\n",
        "\n",
        "empty_2d"
      ],
      "metadata": {
        "id": "FbdDu8cgP4-0"
      },
      "execution_count": null,
      "outputs": []
    },
    {
      "cell_type": "code",
      "source": [
        "# สร้างอาเรย์ 3 มิติที่มีขนาด 2x2x2 โดยไม่กำหนดค่าเริ่มต้น\n",
        "empty_3d = np.empty((2, 2, 2))\n",
        "\n",
        "empty_3d"
      ],
      "metadata": {
        "id": "UNGl6ED3P4y-"
      },
      "execution_count": null,
      "outputs": []
    },
    {
      "cell_type": "markdown",
      "source": [
        "`np.full()` ฟังก์ชันที่ใช้สำหรับสร้างอาร์เรย์ (array) ที่มีขนาดตามที่กำหนดและเติมค่าทั้งหมดด้วยค่าที่ระบุ"
      ],
      "metadata": {
        "id": "Efmk1CGkx45q"
      }
    },
    {
      "cell_type": "code",
      "source": [
        "# สร้างอาร์เรย์ 1 มิติขนาด 5 ที่มีค่า 7\n",
        "array_1d = np.full((5), 7)\n",
        "\n",
        "array_1d"
      ],
      "metadata": {
        "id": "YyEVcQOwx-rA"
      },
      "execution_count": null,
      "outputs": []
    },
    {
      "cell_type": "code",
      "source": [
        "# สร้างอาร์เรย์ 2 มิติขนาด 3x4 ที่มีค่า 9\n",
        "array_2d = np.full((3, 4), 9)\n",
        "\n",
        "array_2d"
      ],
      "metadata": {
        "id": "MbZhNSN_x-oW"
      },
      "execution_count": null,
      "outputs": []
    },
    {
      "cell_type": "code",
      "source": [
        "# สร้างอาร์เรย์ 3 มิติขนาด 2x3x4 ที่มีค่า 5\n",
        "array_3d = np.full((2, 3, 4), 5)\n",
        "\n",
        "array_3d"
      ],
      "metadata": {
        "id": "avX8YJz_x-lm"
      },
      "execution_count": null,
      "outputs": []
    },
    {
      "cell_type": "markdown",
      "source": [
        "### ✔ การสร้าง array จากช่วงของข้อมูล `np.arange()` และ `np.linspace()`"
      ],
      "metadata": {
        "id": "nuCgoWkQoomb"
      }
    },
    {
      "cell_type": "markdown",
      "source": [
        "ใช้ฟังก์ชัน `np.arange(start, stop, step)` เพื่อสร้างอาเรย์ที่มีข้อมูลตามช่วงที่กำหนด โดยคล้ายกับฟังก์ชัน range ใน Python แต่จะคืนค่าเป็นอาเรย์แทน"
      ],
      "metadata": {
        "id": "wTM108TkQtYK"
      }
    },
    {
      "cell_type": "code",
      "source": [
        "# สร้างอาเรย์ 1 มิติจากช่วงของตัวเลขเริ่มต้นที่ 0 จนถึง 9\n",
        "array_1d = np.arange(50)\n",
        "\n",
        "array_1d"
      ],
      "metadata": {
        "id": "dPAWCjwqpBPS"
      },
      "execution_count": null,
      "outputs": []
    },
    {
      "cell_type": "code",
      "source": [
        "# สร้างอาเรย์ 1 มิติจากช่วงของตัวเลขเริ่มต้นที่ 2 จนถึง 10 เพิ่มทีละ 2\n",
        "array_1d = np.arange(2, 10, 2)\n",
        "\n",
        "array_1d"
      ],
      "metadata": {
        "id": "zs214YJa7WIk"
      },
      "execution_count": null,
      "outputs": []
    },
    {
      "cell_type": "code",
      "source": [
        "# สร้างอาเรย์ 1 มิติจากช่วงของตัวเลขเริ่มต้นที่ 10 จนถึง 500 เพิ่มทีละ 10\n",
        "array_1d = np.arange(10, 500, 10)\n",
        "\n",
        "array_1d"
      ],
      "metadata": {
        "id": "jJICGVJp7Yt8"
      },
      "execution_count": null,
      "outputs": []
    },
    {
      "cell_type": "markdown",
      "source": [
        "ใช้ฟังก์ชัน `np.linspace(start, stop, num)`เพื่อสร้างอาเรย์ที่ประกอบด้วยตัวเลขตามช่วงที่กำหนด โดยแบ่งช่วงให้เท่ากันตามจำนวนที่ต้องการ"
      ],
      "metadata": {
        "id": "Fhh8hP_pRZsV"
      }
    },
    {
      "cell_type": "code",
      "source": [
        "# สร้างอาเรย์ 1 มิติจาก 1 ถึง 10\n",
        "array_1d = np.linspace(1, 10)\n",
        "\n",
        "array_1d"
      ],
      "metadata": {
        "id": "WRPx-XwC8Twd"
      },
      "execution_count": null,
      "outputs": []
    },
    {
      "cell_type": "code",
      "source": [
        "# สร้างอาเรย์ 1 มิติจาก 0 ถึง 1 โดยแบ่งเป็น 5 ค่าเท่าๆกัน\n",
        "array_1d = np.linspace(0, 1, 5)\n",
        "\n",
        "array_1d"
      ],
      "metadata": {
        "id": "trmCMblIRaSK"
      },
      "execution_count": null,
      "outputs": []
    },
    {
      "cell_type": "code",
      "source": [
        "# สร้างอาเรย์ 1 มิติจาก 0 ถึง 8 โดยแบ่งเป็น 9 ค่าเท่าๆ กัน\n",
        "array_1d = np.linspace(0, 8, 9)\n",
        "\n",
        "array_1d"
      ],
      "metadata": {
        "id": "sXTzNEPZRdWZ"
      },
      "execution_count": null,
      "outputs": []
    },
    {
      "cell_type": "code",
      "source": [
        "# สร้างอาเรย์ 1 มิติจาก 0 ถึง 7 โดยแบ่งเป็น 8 ค่าเท่าๆกัน\n",
        "array_1d = np.linspace(0, 7, 10)\n",
        "\n",
        "array_1d"
      ],
      "metadata": {
        "id": "VZ15dF0rRdQc"
      },
      "execution_count": null,
      "outputs": []
    },
    {
      "cell_type": "markdown",
      "source": [
        "### ✔ การสร้างอาเรย์แบบสุ่มด้วย `np.random`"
      ],
      "metadata": {
        "id": "eyRLwrUJWmXD"
      }
    },
    {
      "cell_type": "markdown",
      "source": [
        "การสร้างอาเรย์แบบสุ่มด้วย `np.random.rand(size)` ที่มีค่าที่สุ่มในช่วง 0 ถึง 1"
      ],
      "metadata": {
        "id": "5muDnz3GR6Z0"
      }
    },
    {
      "cell_type": "code",
      "source": [
        "# สร้างอาเรย์ 1 มิติขนาด 5 ที่มีค่าที่สุ่มในช่วง 0 ถึง 1\n",
        "array_1d = np.random.rand(5)\n",
        "\n",
        "array_1d"
      ],
      "metadata": {
        "id": "X_3zG8_3R_6M"
      },
      "execution_count": null,
      "outputs": []
    },
    {
      "cell_type": "code",
      "source": [
        "# สร้างอาเรย์ 2 มิติขนาด 3x3 ที่มีค่าที่สุ่มในช่วง 0 ถึง 1\n",
        "array_2d = np.random.rand(3, 3)\n",
        "\n",
        "array_2d"
      ],
      "metadata": {
        "id": "48VhbFOaSD6A"
      },
      "execution_count": null,
      "outputs": []
    },
    {
      "cell_type": "code",
      "source": [
        "# สร้างอาเรย์ 3 มิติขนาด 2x2x2 ที่มีค่าที่สุ่มในช่วง 0 ถึง 1\n",
        "array_3d = np.random.rand(2, 2, 2)\n",
        "\n",
        "array_3d"
      ],
      "metadata": {
        "id": "1Z82A98jSGCi"
      },
      "execution_count": null,
      "outputs": []
    },
    {
      "cell_type": "markdown",
      "source": [
        "การสร้างอาเรย์แบบสุ่มด้วย `np.random.randint(low, high, size)` สุ่มค่าจำนวนเต็มตามช่วงและขนาดที่ระบุ"
      ],
      "metadata": {
        "id": "rW-HiVB5CtaJ"
      }
    },
    {
      "cell_type": "code",
      "source": [
        "# สร้างอาเรย์ 1 มิติขนาด 5 ที่มีค่าที่สุ่มในช่วง 0 ถึง 5\n",
        "array_1d = np.random.randint(5, size=10)\n",
        "\n",
        "array_1d"
      ],
      "metadata": {
        "id": "a6cVyYpCBi9d"
      },
      "execution_count": null,
      "outputs": []
    },
    {
      "cell_type": "code",
      "source": [
        "# สร้างอาเรย์ 2 มิติขนาด 3x3 ที่มีค่าที่สุ่มในช่วง 2 ถึง 10\n",
        "array_2d = np.random.randint(2, 10, size=(3, 3))\n",
        "\n",
        "array_2d"
      ],
      "metadata": {
        "id": "07QCsPQlBm3O"
      },
      "execution_count": null,
      "outputs": []
    },
    {
      "cell_type": "code",
      "source": [
        "# สร้างอาเรย์ 3 มิติขนาด 3x3x3 ที่มีค่าที่สุ่มในช่วง 5 ถึง 10\n",
        "array_3d = np.random.randint(5, 10, size=(3, 4, 2))\n",
        "\n",
        "array_3d"
      ],
      "metadata": {
        "id": "_I7k295vGlbY"
      },
      "execution_count": null,
      "outputs": []
    },
    {
      "cell_type": "markdown",
      "source": [
        "# **4. การปรับรูปร่าง array ใน NumPy**"
      ],
      "metadata": {
        "id": "BB8mNuoEdmIQ"
      }
    },
    {
      "cell_type": "markdown",
      "source": [
        "### ✔ การเปลี่ยนรูปร่างใหม่ด้วย `reshape()` และ `resize()`"
      ],
      "metadata": {
        "id": "sf58r2wiTWj5"
      }
    },
    {
      "cell_type": "markdown",
      "source": [
        "`.reshape() `ฟังก์ชันนี้จะเปลี่ยนอาเรย์ให้มีรูปร่างใหม่ตามที่กำหนด โดยไม่เปลี่ยนแปลงข้อมูลเดิม\n",
        "\n",
        "<div>\n",
        "<br>\n",
        "<img src=\"https://numpy.org/devdocs/_images/np_reshape.png\" width=\"500\"/>\n",
        "<br>\n",
        "</div>"
      ],
      "metadata": {
        "id": "JmP40O5pThcD"
      }
    },
    {
      "cell_type": "code",
      "source": [
        "import numpy as np\n",
        "\n",
        "# 1 มิติเป็น 2 มิติ\n",
        "array_1d = np.arange(6) # สร้างอาเรย์ 1 มิติ\n",
        "\n",
        "# เปลี่ยนรูปร่างเป็น 2 มิติขนาด 2x3\n",
        "array_2d = array_1d.reshape((2, 3))"
      ],
      "metadata": {
        "id": "TzpnoPm2Tiyq"
      },
      "execution_count": null,
      "outputs": []
    },
    {
      "cell_type": "code",
      "source": [
        "array_1d"
      ],
      "metadata": {
        "id": "1M4yqeNCYJGN"
      },
      "execution_count": null,
      "outputs": []
    },
    {
      "cell_type": "code",
      "source": [
        "array_2d"
      ],
      "metadata": {
        "id": "Gzu1UJVpYLfa"
      },
      "execution_count": null,
      "outputs": []
    },
    {
      "cell_type": "code",
      "source": [
        "# 1 มิติเป็น 3 มิติ\n",
        "array_1d = np.arange(8) # สร้างอาเรย์ 1 มิติ\n",
        "\n",
        "# เปลี่ยนรูปร่างเป็น 3 มิติขนาด 2x2x2\n",
        "array_3d = array_1d.reshape((2, 2, 2))"
      ],
      "metadata": {
        "id": "j0hQXhZbTuIG"
      },
      "execution_count": null,
      "outputs": []
    },
    {
      "cell_type": "code",
      "source": [
        "array_1d"
      ],
      "metadata": {
        "id": "52S0pj0qYr7R"
      },
      "execution_count": null,
      "outputs": []
    },
    {
      "cell_type": "code",
      "source": [
        "array_3d"
      ],
      "metadata": {
        "id": "3Cv9fAlhYatr"
      },
      "execution_count": null,
      "outputs": []
    },
    {
      "cell_type": "code",
      "source": [
        "# 2 มิติเป็น 1 มิติ\n",
        "array_2d = np.array([[1, 2, 3],\n",
        "                     [4, 5, 6]]) # สร้าง array 2D ขนาด 2x3\n",
        "\n",
        "# เปลี่ยนเป็น array 1D\n",
        "array_1d = array_2d.reshape(-1)"
      ],
      "metadata": {
        "id": "xIajYiyj_9WY"
      },
      "execution_count": null,
      "outputs": []
    },
    {
      "cell_type": "code",
      "source": [
        "array_2d"
      ],
      "metadata": {
        "id": "IfrROwzlYuwD"
      },
      "execution_count": null,
      "outputs": []
    },
    {
      "cell_type": "code",
      "source": [
        "array_1d"
      ],
      "metadata": {
        "id": "YUZ1ZExFYvwu"
      },
      "execution_count": null,
      "outputs": []
    },
    {
      "cell_type": "code",
      "source": [
        "# 2 มิติเป็น 3 มิติ\n",
        "array_2d = np.array([[1, 2],\n",
        "                     [3, 4],\n",
        "                     [5, 6],\n",
        "                     [7, 8],\n",
        "                     [9, 10],\n",
        "                     [11, 12]]) # สร้าง array 2D ขนาด 6x2\n",
        "\n",
        "# เปลี่ยนเป็น array 3D ขนาด 3x2x2\n",
        "array_3d = array_2d.reshape((3, 2, 2))"
      ],
      "metadata": {
        "id": "sVgsGe44_92h"
      },
      "execution_count": null,
      "outputs": []
    },
    {
      "cell_type": "code",
      "source": [
        "array_2d"
      ],
      "metadata": {
        "id": "juHT_-7aYx90"
      },
      "execution_count": null,
      "outputs": []
    },
    {
      "cell_type": "code",
      "source": [
        "array_3d"
      ],
      "metadata": {
        "id": "KuVzShNFYx7H"
      },
      "execution_count": null,
      "outputs": []
    },
    {
      "cell_type": "code",
      "source": [
        "# 3 มิติเป็น 1 มิติ\n",
        "array_3d = np.array([[[1, 2], [3, 4]],\n",
        "                     [[5, 6], [7, 8]]]) # สร้าง array 3D ขนาด 2x2x2\n",
        "\n",
        "# เปลี่ยนเป็น array 1D\n",
        "array_1d = array_3d.reshape(-1)"
      ],
      "metadata": {
        "id": "lShjVEBnABGz"
      },
      "execution_count": null,
      "outputs": []
    },
    {
      "cell_type": "code",
      "source": [
        "array_3d"
      ],
      "metadata": {
        "id": "dvDTy4WNY1HF"
      },
      "execution_count": null,
      "outputs": []
    },
    {
      "cell_type": "code",
      "source": [
        "array_1d"
      ],
      "metadata": {
        "id": "Meg3NHyjY1Bk"
      },
      "execution_count": null,
      "outputs": []
    },
    {
      "cell_type": "code",
      "source": [
        "# 3 มิติเป็น 2 มิติ\n",
        "array_3d = np.array([[[1, 2, 3], [4, 5, 6]],\n",
        "                     [[7, 8, 9], [10, 11, 12]]]) # สร้าง array 3D ขนาด 2x2x3\n",
        "\n",
        "# เปลี่ยนเป็น array 2D ขนาด 4x3\n",
        "array_2d = array_3d.reshape((4, 3))"
      ],
      "metadata": {
        "id": "4WmNm4yD__06"
      },
      "execution_count": null,
      "outputs": []
    },
    {
      "cell_type": "code",
      "source": [
        "array_3d"
      ],
      "metadata": {
        "id": "uDyH248gY3pL"
      },
      "execution_count": null,
      "outputs": []
    },
    {
      "cell_type": "code",
      "source": [
        "array_2d"
      ],
      "metadata": {
        "id": "-iM336avY3jz"
      },
      "execution_count": null,
      "outputs": []
    },
    {
      "cell_type": "markdown",
      "source": [
        "`resize()` ฟังก์ชันนี้คล้ายกับ reshape แต่จะเปลี่ยนรูปร่างของอาเรย์ต้นฉบับ"
      ],
      "metadata": {
        "id": "axYrP0xTUEvL"
      }
    },
    {
      "cell_type": "code",
      "source": [
        "# 1 มิติเป็น 2 มิติ\n",
        "array_1d = np.arange(6) # สร้างอาเรย์ 1 มิติ\n",
        "\n",
        "# เปลี่ยนรูปร่างเป็น 2 มิติขนาด 2x3\n",
        "array_1d.resize((2, 3))\n",
        "\n",
        "array_1d"
      ],
      "metadata": {
        "id": "-yZWjk3tUF03"
      },
      "execution_count": null,
      "outputs": []
    },
    {
      "cell_type": "code",
      "source": [
        "# 1 มิติเป็น 3 มิติ\n",
        "array_1d = np.arange(8) # สร้างอาเรย์ 1 มิติ\n",
        "\n",
        "# เปลี่ยนรูปร่างเป็น 3 มิติขนาด 2x2x2\n",
        "array_1d.resize((2, 2, 2))\n",
        "\n",
        "array_1d"
      ],
      "metadata": {
        "id": "i8FS2fEHUbws"
      },
      "execution_count": null,
      "outputs": []
    },
    {
      "cell_type": "markdown",
      "source": [
        "### ✔ การแบนอาเรย์ให้เป็น 1 มิติด้วย `ravel()` และ `flatten()`"
      ],
      "metadata": {
        "id": "aJSgp9ziUj_h"
      }
    },
    {
      "cell_type": "markdown",
      "source": [
        "Parameter `order` มีหลายค่าที่สามารถกำหนดได้ ดังนี้:\n",
        "\n",
        "1. `'C'` (Default): ใช้ลำดับการจัดเก็บแบบ row-major order หรือ C-style order ซึ่งถูกจัดเก็บจากซ้ายไปขวาในแต่ละแถวแล้วไปยังแถวถัดไป\n",
        "2. `'F'`: ใช้ลำดับการจัดเก็บแบบ column-major order หรือ Fortran-style order ซึ่งถูกจัดเก็บจากบนลงล่างในแต่ละคอลัมน์แล้วไปยังคอลัมน์ถัดไป"
      ],
      "metadata": {
        "id": "yjnVQXTOEo07"
      }
    },
    {
      "cell_type": "markdown",
      "source": [
        "ฟังก์ชันนี้จะเปลี่ยนอาเรย์หลายมิติให้เป็นอาเรย์ 1 มิติ `ndarray.ravel(order='C')` จะคืนค่ามุมมอง (view)\n",
        "\n",
        "<div>\n",
        "<br>\n",
        "<img src=\"https://www.pythontutorial.net/wp-content/uploads/2022/08/numpy-ravel.svg\" width=\"400\"/>\n",
        "<br>\n",
        "<img src=\"https://onestepcode.com/wp-content/uploads/2021/07/2d-array-row-major-order-1.jpg\" width=\"250\"/>\n",
        "<img src=\"https://onestepcode.com/wp-content/uploads/2021/07/2d-array-column-major-order.jpg\" width=\"250\"/>\n",
        "<br>\n",
        "</div>"
      ],
      "metadata": {
        "id": "kHVwGgeVU09B"
      }
    },
    {
      "cell_type": "code",
      "source": [
        "# สร้างอาเรย์ 2 มิติ\n",
        "array_2d = np.array([[1, 2, 3],\n",
        "                     [4, 5, 6]])\n",
        "\n",
        "# แบนให้เป็น 1 มิติ\n",
        "array_1d = array_2d.ravel(order='F')"
      ],
      "metadata": {
        "id": "QMW5c3EkVUbg"
      },
      "execution_count": null,
      "outputs": []
    },
    {
      "cell_type": "code",
      "source": [
        "array_2d"
      ],
      "metadata": {
        "id": "pcqOMzhFAluH"
      },
      "execution_count": null,
      "outputs": []
    },
    {
      "cell_type": "code",
      "source": [
        "array_1d"
      ],
      "metadata": {
        "id": "_3VWmH8DAloZ"
      },
      "execution_count": null,
      "outputs": []
    },
    {
      "cell_type": "markdown",
      "source": [
        "<div>\n",
        "<br>\n",
        "<img src=\"https://miro.medium.com/v2/resize:fit:1400/1*2gr2mIweIusX1IPrMEz6jQ.png\" width=\"600\"/>\n",
        "<br>\n",
        "</div>"
      ],
      "metadata": {
        "id": "cEhMWNQPFHQo"
      }
    },
    {
      "cell_type": "code",
      "source": [
        "array_3d = np.array([[[1, 2, 3, 4],\n",
        "                      [5, 6, 7, 8],\n",
        "                      [9, 10, 11, 12]],\n",
        "\n",
        "                     [[13, 14, 15, 16],\n",
        "                      [17, 18, 19, 20],\n",
        "                      [21, 22, 23, 24]]])\n",
        "\n",
        "array_1d = array_3d.ravel(order='F')"
      ],
      "metadata": {
        "id": "L8syceKzAxHp"
      },
      "execution_count": null,
      "outputs": []
    },
    {
      "cell_type": "code",
      "source": [
        "array_3d"
      ],
      "metadata": {
        "id": "V9GMkMn5BAyF"
      },
      "execution_count": null,
      "outputs": []
    },
    {
      "cell_type": "code",
      "source": [
        "array_1d"
      ],
      "metadata": {
        "id": "BTzE0zddBBld"
      },
      "execution_count": null,
      "outputs": []
    },
    {
      "cell_type": "markdown",
      "source": [
        "ฟังก์ชันนี้จะเปลี่ยนอาเรย์หลายมิติให้เป็นอาเรย์ 1 มิติ `ndarray.flatten(order='C')` จะคืนค่าชุดข้อมูลใหม่\n",
        "\n",
        "<div>\n",
        "<br>\n",
        "<img src=\"https://www.pythontutorial.net/wp-content/uploads/2022/08/numpy-flatten-row-major-order.svg\" width=\"400\"/>\n",
        "<br>\n",
        "<img src=\"https://onestepcode.com/wp-content/uploads/2021/07/2d-array-row-major-order-1.jpg\" width=\"250\"/>\n",
        "<img src=\"https://onestepcode.com/wp-content/uploads/2021/07/2d-array-column-major-order.jpg\" width=\"250\"/>\n",
        "<br>\n",
        "</div>"
      ],
      "metadata": {
        "id": "WL8LursbVHa_"
      }
    },
    {
      "cell_type": "code",
      "source": [
        "# สร้างอาเรย์ 2 มิติ\n",
        "array_2d = np.array([[1, 2, 3],\n",
        "                     [4, 5, 6]])\n",
        "\n",
        "# แบนให้เป็น 1 มิติ\n",
        "array_1d = array_2d.flatten(order='F')"
      ],
      "metadata": {
        "id": "yxdW7dkMVWm5"
      },
      "execution_count": null,
      "outputs": []
    },
    {
      "cell_type": "code",
      "source": [
        "array_2d"
      ],
      "metadata": {
        "id": "o8XdO_h0Aqaq"
      },
      "execution_count": null,
      "outputs": []
    },
    {
      "cell_type": "code",
      "source": [
        "array_1d"
      ],
      "metadata": {
        "id": "ThyAppveApv6"
      },
      "execution_count": null,
      "outputs": []
    },
    {
      "cell_type": "code",
      "source": [
        "array_3d = np.array([[[1, 2, 3],\n",
        "                      [4, 5, 6]],\n",
        "                     [[7, 8, 9],\n",
        "                      [10, 11, 12]]])\n",
        "\n",
        "array_1d = array_3d.flatten(order='F')"
      ],
      "metadata": {
        "id": "No8kIzplA26e"
      },
      "execution_count": null,
      "outputs": []
    },
    {
      "cell_type": "code",
      "source": [
        "array_3d"
      ],
      "metadata": {
        "id": "AWE6_iHxA9xC"
      },
      "execution_count": null,
      "outputs": []
    },
    {
      "cell_type": "code",
      "source": [
        "array_1d"
      ],
      "metadata": {
        "id": "PbuYJ0jcA9rY"
      },
      "execution_count": null,
      "outputs": []
    },
    {
      "cell_type": "markdown",
      "source": [
        "### ✔ การสร้างมุมมองของอาเรย์ด้วย `view()` และ `copy()`"
      ],
      "metadata": {
        "id": "oNkhPDNwZkpi"
      }
    },
    {
      "cell_type": "markdown",
      "source": [
        "`view()` จะสร้างมุมมอง (view) ของอาเรย์ต้นฉบับ ซึ่งหมายความว่าอาเรย์ที่สร้างขึ้นใหม่ (view_array) จะใช้ข้อมูลเดียวกันกับอาเรย์ต้นฉบับ (original_array)\n",
        "\n",
        "การแก้ไขข้อมูลใน view_array จะส่งผลต่อ original_array ด้วย เพราะทั้งสองอาเรย์แชร์ข้อมูลเดียวกัน\n",
        "\n",
        "<div>\n",
        "<br>\n",
        "<img src=\"https://www.pythontutorial.net/wp-content/uploads/2022/08/numpy-copy-slice-view-changes.svg\" width=\"450\"/>\n",
        "<br>\n",
        "</div>"
      ],
      "metadata": {
        "id": "MDQ2j2D2Zqeh"
      }
    },
    {
      "cell_type": "code",
      "source": [
        "# สร้างอาเรย์ต้นฉบับ\n",
        "original_array = np.array([1, 2, 3, 4, 5, 6])\n",
        "\n",
        "# สร้างมุมมองของอาเรย์ต้นฉบับด้วย view()\n",
        "view_array = original_array.view()\n",
        "\n",
        "# แก้ไขค่าในมุมมอง\n",
        "view_array[4] = 400\n",
        "\n",
        "print(\"Original array:\", original_array)\n",
        "print(\"View array:\", view_array)"
      ],
      "metadata": {
        "id": "shkeAJb5ZwxG"
      },
      "execution_count": null,
      "outputs": []
    },
    {
      "cell_type": "code",
      "source": [
        "# สร้างอาเรย์ต้นฉบับ\n",
        "original_array = np.array([1, 2, 3, 4, 5, 6])\n",
        "\n",
        "# สร้างมุมมองของอาเรย์ต้นฉบับด้วย view()\n",
        "view_array = original_array[0:3]\n",
        "\n",
        "print(\"Original array:\", original_array)\n",
        "print(\"View array:\", view_array)"
      ],
      "metadata": {
        "id": "Ky4aEEyGOnJT"
      },
      "execution_count": null,
      "outputs": []
    },
    {
      "cell_type": "code",
      "source": [
        "# แก้ไขค่าในมุมมอง\n",
        "view_array[2] = 500\n",
        "\n",
        "print(\"Original array:\", original_array)\n",
        "print(\"View array:\", view_array)"
      ],
      "metadata": {
        "id": "yTi3HoJ7OzBn"
      },
      "execution_count": null,
      "outputs": []
    },
    {
      "cell_type": "markdown",
      "source": [
        "`copy()` จะสร้างสำเนา (copy) ของอาเรย์ต้นฉบับ ซึ่งหมายความว่าอาเรย์ที่สร้างขึ้นใหม่ (copy_array) จะมีข้อมูลเป็นของตัวเอง ไม่ได้แชร์ข้อมูลกับอาเรย์ต้นฉบับ (original_array)\n",
        "\n",
        "การแก้ไขข้อมูลใน copy_array จะไม่ส่งผลต่อ original_array เพราะทั้งสองอาเรย์เป็นอิสระจากกัน\n",
        "\n",
        "<div>\n",
        "<br>\n",
        "<img src=\"https://www.pythontutorial.net/wp-content/uploads/2022/08/numpy-copy-slice-view.svg\" width=\"450\"/>\n",
        "<br>\n",
        "</div>"
      ],
      "metadata": {
        "id": "UD1Zark4oJ9e"
      }
    },
    {
      "cell_type": "code",
      "source": [
        "# สร้างอาเรย์ต้นฉบับ\n",
        "original_array = np.array([1, 2, 3, 4, 5])\n",
        "\n",
        "# สร้างสำเนาของอาเรย์ต้นฉบับด้วย copy()\n",
        "copy_array = original_array.copy()\n",
        "\n",
        "# แก้ไขค่าในสำเนา\n",
        "copy_array[0] = 99\n",
        "\n",
        "print(\"Original array:\", original_array)\n",
        "print(\"Copy array:\", copy_array)"
      ],
      "metadata": {
        "id": "ozRXf2tvoE7w"
      },
      "execution_count": null,
      "outputs": []
    },
    {
      "cell_type": "markdown",
      "source": [
        "### ✔ การสลับแกนมิติด้วย `transpose()` และ `.T`"
      ],
      "metadata": {
        "id": "0tqw62BlWK3m"
      }
    },
    {
      "cell_type": "markdown",
      "source": [
        "<div>\n",
        "<br>\n",
        "<img src=\"https://datascienceparichay.com/wp-content/uploads/2021/07/transpose-a-numpy-array.png.webp\" width=\"400\"/>\n",
        "<img src=\"https://content.codecademy.com/courses/deeplearning-with-tensorflow/deep-learning-math/Matrix_C.gif\" width=\"400\"/>\n",
        "<br>\n",
        "</div>"
      ],
      "metadata": {
        "id": "XkYIdwlO9GZu"
      }
    },
    {
      "cell_type": "code",
      "source": [
        "# สร้างอาเรย์ 2x3\n",
        "array_2d = np.array([[1, 2, 3],\n",
        "                     [4, 5, 6]])\n",
        "\n",
        "# สลับแกน\n",
        "array_2d_transposed = array_2d.transpose()\n",
        "\n",
        "array_2d_transposed"
      ],
      "metadata": {
        "id": "R6l0b5E4WUie"
      },
      "execution_count": null,
      "outputs": []
    },
    {
      "cell_type": "code",
      "source": [
        "# สร้างอาเรย์ 2x3\n",
        "array_2d = np.array([[1, 2, 3],\n",
        "                     [4, 5, 6]])\n",
        "\n",
        "# สลับแกน\n",
        "array_2d_transposed = array_2d.T\n",
        "\n",
        "array_2d_transposed"
      ],
      "metadata": {
        "id": "DeggqkwpWcJs"
      },
      "execution_count": null,
      "outputs": []
    },
    {
      "cell_type": "markdown",
      "source": [
        "### ✔ การย้ายตำแหน่งแกนมิติด้วย `moveaxis()`"
      ],
      "metadata": {
        "id": "eKYjgfZQXKT3"
      }
    },
    {
      "cell_type": "markdown",
      "source": [
        "ฟังก์ชันนี้ `np.moveaxis(array, source, destination)`จะย้ายตำแหน่งแกนมิติจากตำแหน่งหนึ่งไปอีกตำแหน่งหนึ่ง"
      ],
      "metadata": {
        "id": "U4AUOWRsXz8r"
      }
    },
    {
      "cell_type": "code",
      "source": [
        "# สร้างอาเรย์ 2 มิติ\n",
        "array_2d = np.array([[1, 2, 3],\n",
        "                     [4, 5, 6]])\n",
        "\n",
        "print(\"Original array shape:\", array_2d.shape)\n",
        "\n",
        "# ย้ายแกนมิติจากตำแหน่ง 0 ไปยังตำแหน่ง 1\n",
        "moved_array = np.moveaxis(array_2d, 0, 1)\n",
        "\n",
        "print(\"New array shape after moveaxis:\", moved_array.shape)"
      ],
      "metadata": {
        "id": "CCwBln6pSDtH"
      },
      "execution_count": null,
      "outputs": []
    },
    {
      "cell_type": "code",
      "source": [
        "array_2d"
      ],
      "metadata": {
        "id": "0lbEdiorV6Ue"
      },
      "execution_count": null,
      "outputs": []
    },
    {
      "cell_type": "code",
      "source": [
        "moved_array"
      ],
      "metadata": {
        "id": "EDoIr7zQV7NV"
      },
      "execution_count": null,
      "outputs": []
    },
    {
      "cell_type": "code",
      "source": [
        "array_3d = np.arange(24).reshape(2, 3, 4) # สร้าง array 3D\n",
        "print(\"Original array shape:\", array_3d.shape)\n",
        "\n",
        "# ย้ายแกน 0 ไปที่ตำแหน่ง 1\n",
        "moved_axis_array = np.moveaxis(array_3d, 0, 1)\n",
        "print(\"New array shape after moveaxis:\", moved_axis_array.shape)"
      ],
      "metadata": {
        "id": "nrIzFCSJdf0b"
      },
      "execution_count": null,
      "outputs": []
    },
    {
      "cell_type": "code",
      "source": [
        "array_3d"
      ],
      "metadata": {
        "id": "8y0jJcnIWA9D"
      },
      "execution_count": null,
      "outputs": []
    },
    {
      "cell_type": "code",
      "source": [
        "moved_axis_array"
      ],
      "metadata": {
        "id": "NOpEjff5WA0b"
      },
      "execution_count": null,
      "outputs": []
    },
    {
      "cell_type": "code",
      "source": [
        "array_3d = np.arange(24).reshape(2, 3, 4) # สร้าง array 3D\n",
        "print(\"Original array shape:\", array_3d.shape)\n",
        "\n",
        "# ย้ายแกน 1 ไปที่ตำแหน่ง 0\n",
        "moved_axis_array = np.moveaxis(array_3d, 1, 0)\n",
        "print(\"New array shape after moveaxis:\", moved_axis_array.shape)"
      ],
      "metadata": {
        "id": "030wzHj-dpDP"
      },
      "execution_count": null,
      "outputs": []
    },
    {
      "cell_type": "code",
      "source": [
        "array_3d"
      ],
      "metadata": {
        "id": "9SdPSFlVdqHF"
      },
      "execution_count": null,
      "outputs": []
    },
    {
      "cell_type": "code",
      "source": [
        "moved_axis_array"
      ],
      "metadata": {
        "id": "gh7ky4BBdrFR"
      },
      "execution_count": null,
      "outputs": []
    },
    {
      "cell_type": "code",
      "source": [
        "# สร้างอาเรย์ 3 มิติ\n",
        "array_3d = np.array([[[1, 2, 3],\n",
        "                      [4, 5, 6]]])\n",
        "\n",
        "print(\"Original array shape:\", array_3d.shape)\n",
        "\n",
        "# ย้ายแกนมิติจากตำแหน่ง 0 ไปยังตำแหน่ง 2\n",
        "moved_array = np.moveaxis(array_3d, 0, 2)\n",
        "\n",
        "# 1,2,3 -> 3,1,2 -> 2,3,1\n",
        "print(\"New array shape after moveaxis:\", moved_array.shape)"
      ],
      "metadata": {
        "id": "x44w-nVmXWvN"
      },
      "execution_count": null,
      "outputs": []
    },
    {
      "cell_type": "code",
      "source": [
        "array_3d"
      ],
      "metadata": {
        "id": "SxDJYS-cV8-J"
      },
      "execution_count": null,
      "outputs": []
    },
    {
      "cell_type": "code",
      "source": [
        "moved_array"
      ],
      "metadata": {
        "id": "H3N0h2C8V91h"
      },
      "execution_count": null,
      "outputs": []
    },
    {
      "cell_type": "markdown",
      "source": [
        "### ✔ การเพิ่มหรือลดมิติด้วย `np.newaxis` และ `np.expand_dims()`, `squeeze()`"
      ],
      "metadata": {
        "id": "vbXC9PvtYG29"
      }
    },
    {
      "cell_type": "markdown",
      "source": [
        "เพิ่มมิติด้วย `np.newaxis`"
      ],
      "metadata": {
        "id": "TTte5vBSYYT6"
      }
    },
    {
      "cell_type": "code",
      "source": [
        "# สร้างอาเรย์ 1 มิติ\n",
        "array_1d = np.array([1, 2, 3])\n",
        "\n",
        "# เพิ่มหนึ่งมิติ\n",
        "array_3d = array_1d[:, np.newaxis]\n",
        "\n",
        "print(array_3d)\n",
        "print(array_3d.shape)"
      ],
      "metadata": {
        "id": "f3HfJUiqYZsm"
      },
      "execution_count": null,
      "outputs": []
    },
    {
      "cell_type": "markdown",
      "source": [
        "เพิ่มมิติด้วย `np.expand_dims()`"
      ],
      "metadata": {
        "id": "wG1OnYDMYgs3"
      }
    },
    {
      "cell_type": "code",
      "source": [
        "# สร้างอาเรย์ 1 มิติ\n",
        "array_1d = np.array([1, 2, 3])\n",
        "\n",
        "# เพิ่มหนึ่งมิติ\n",
        "array_2d = np.expand_dims(array_1d, axis=0)\n",
        "\n",
        "print(array_2d)\n",
        "print(array_2d.shape)"
      ],
      "metadata": {
        "id": "0e-vtrONYh_2"
      },
      "execution_count": null,
      "outputs": []
    },
    {
      "cell_type": "markdown",
      "source": [
        "ลดมิติด้วย `squeeze()`"
      ],
      "metadata": {
        "id": "z3xjsOzwYnCu"
      }
    },
    {
      "cell_type": "code",
      "source": [
        "# สร้างอาเรย์ 3 มิติ\n",
        "array_3d = np.array([[[1], [2], [3]],\n",
        "                     [[4], [5], [6]]])\n",
        "\n",
        "# ลดมิติโดยเอามิติที่ขนาด 1 ออก\n",
        "array_2d = array_3d.squeeze()\n",
        "\n",
        "print(array_2d)\n",
        "print(array_2d.shape)"
      ],
      "metadata": {
        "id": "CYqRU0q0YqY4"
      },
      "execution_count": null,
      "outputs": []
    },
    {
      "cell_type": "markdown",
      "source": [
        "# **5. การตัดแบ่งและรวมอาเรย์ใน NumPy**"
      ],
      "metadata": {
        "id": "kxNreq-Qa-Ho"
      }
    },
    {
      "cell_type": "markdown",
      "source": [
        "### ✔ การตัดเลือกส่วนของอาเรย์ด้วย indexing และ slicing"
      ],
      "metadata": {
        "id": "-kVfx5XLbaIe"
      }
    },
    {
      "cell_type": "markdown",
      "source": [
        "การเข้าถึงสมาชิกโดยการใช้ `indexing`\n",
        "\n",
        "<div>\n",
        "<br>\n",
        "<img src=\"https://indhumathychelliahcom.files.wordpress.com/2020/10/7fb7f-14m0h5qkxzzq52hnf56snaw.png\" width=\"500\"/>\n",
        "<br>\n",
        "</div>"
      ],
      "metadata": {
        "id": "W4Gu-xdSbyIL"
      }
    },
    {
      "cell_type": "code",
      "source": [
        "import numpy as np\n",
        "\n",
        "array_1d = np.array([10, 20, 30, 40, 50]) # สร้างอาเรย์ 1 มิติ\n",
        "print(array_1d[1])\n",
        "\n",
        "# integer array indexing\n",
        "# array_1d[index]\n",
        "print(array_1d[[0, 3, 4]])\n",
        "\n",
        "# boolean array indexing\n",
        "print(array_1d[array_1d > 20])\n",
        "print(array_1d[(array_1d > 20) & (array_1d < 50)])"
      ],
      "metadata": {
        "id": "kSgjCuPKbvka"
      },
      "execution_count": null,
      "outputs": []
    },
    {
      "cell_type": "code",
      "source": [
        "array_2d = np.array([[1, 2, 3],\n",
        "                     [4, 5, 6],\n",
        "                     [7, 8, 9]]) # สร้างอาเรย์ 2 มิติ\n",
        "\n",
        "print(array_2d[1, 2])\n",
        "\n",
        "# integer array indexing\n",
        "# array_2d[[row index], [column index]]\n",
        "print(array_2d[[0, 2, 2], [1, 0, 2]])\n",
        "\n",
        "# boolean array indexing\n",
        "print(array_2d[array_2d > 5])\n",
        "print(array_2d[(array_2d >= 2) & (array_2d <= 8)])"
      ],
      "metadata": {
        "id": "G5MX61-TcAIf"
      },
      "execution_count": null,
      "outputs": []
    },
    {
      "cell_type": "code",
      "source": [
        "array_3d = np.array([[[1, 2, 3], [4, 5, 6]],\n",
        "                     [[7, 8, 9], [10, 11, 12]],\n",
        "                     [[13, 14, 15], [16, 17, 18]]]) # สร้างอาเรย์ 3 มิติ\n",
        "\n",
        "print(array_3d[1, 1, 2])  # ข้อมูลในชั้นที่ 2 แถวที่ 2 คอลัมน์ที่ 3 (index เริ่มจาก 0)\n",
        "\n",
        "# integer array indexing\n",
        "# array_3d[[block index], [row index], [column index]]\n",
        "print(array_3d[[0, 2, 2], [1, 0, 1], [2, 1, 0]])\n",
        "\n",
        "# boolean array indexing\n",
        "print(array_3d[array_3d > 10])\n",
        "print(array_3d[(array_3d >= 5) & (array_3d <= 15)])"
      ],
      "metadata": {
        "id": "gS85Ft3ZcB-i"
      },
      "execution_count": null,
      "outputs": []
    },
    {
      "cell_type": "markdown",
      "source": [
        "การตัดเลือกส่วนของอาเรย์โดยการใช้ `slicing` [start:stop:step]\n",
        "\n",
        "<div>\n",
        "<br>\n",
        "<img src=\"https://numpy.org/devdocs/_images/np_indexing.png\" width=\"600\"/>\n",
        "<br>\n",
        "<img src=\"https://numpy.org/devdocs/_images/np_matrix_indexing.png\" width=\"600\"/>\n",
        "<br>\n",
        "</div>"
      ],
      "metadata": {
        "id": "3GGWdMHycEyl"
      }
    },
    {
      "cell_type": "code",
      "source": [
        "# สร้างอาเรย์ 1 มิติ\n",
        "array_1d = np.array([10, 20, 30, 40, 50, 60, 70, 80])\n",
        "\n",
        "print(array_1d[1:4])\n",
        "\n",
        "print(array_1d[0:4:2])\n",
        "\n",
        "print(array_1d[-2:])"
      ],
      "metadata": {
        "id": "LcStq8lycOQ3"
      },
      "execution_count": null,
      "outputs": []
    },
    {
      "cell_type": "code",
      "source": [
        "# สร้างอาเรย์ 2 มิติ\n",
        "array_2d = np.array([[10, 20, 30],\n",
        "                     [40, 50, 60],\n",
        "                     [70, 80, 90]])\n",
        "\n",
        "print(array_2d[0:2, 1:3])"
      ],
      "metadata": {
        "id": "BTJ1sCLXcPBo"
      },
      "execution_count": null,
      "outputs": []
    },
    {
      "cell_type": "code",
      "source": [
        "# สร้างอาเรย์ 3 มิติ\n",
        "array_3d = np.array([[[10, 20], [30, 40]],\n",
        "                     [[50, 60], [70, 80]],\n",
        "                     [[90, 100], [110, 120]]])\n",
        "\n",
        "print(array_3d[0:2, 0:2, 0:2])"
      ],
      "metadata": {
        "id": "p1NYofZqcO93"
      },
      "execution_count": null,
      "outputs": []
    },
    {
      "cell_type": "markdown",
      "source": [
        "### ✔ การรวมอาเรย์ในแนวแถวหรือแนวคอลัมน์ด้วย `vstack()`, `hstack()`, และ `concatenate()`"
      ],
      "metadata": {
        "id": "exp0ixyFcYe0"
      }
    },
    {
      "cell_type": "markdown",
      "source": [
        "<div>\n",
        "<br>\n",
        "<img src=\"https://i.sstatic.net/hSM5G.png\" width=\"500\"/>\n",
        "<br>\n",
        "</div>"
      ],
      "metadata": {
        "id": "h1HDXggENbSO"
      }
    },
    {
      "cell_type": "markdown",
      "source": [
        "การรวมอาเรย์ในแนวแถว `(Vertical Stack)`"
      ],
      "metadata": {
        "id": "-geIM5e7cj-6"
      }
    },
    {
      "cell_type": "code",
      "source": [
        "# สร้างอาเรย์ 1 มิติ\n",
        "array1 = np.array([1, 2, 3])\n",
        "array2 = np.array([4, 5, 6])\n",
        "\n",
        "# รวมอาเรย์ในแนวแถว\n",
        "combined_array = np.vstack((array1, array2))\n",
        "print(combined_array)"
      ],
      "metadata": {
        "id": "YYrIR4XOclh8"
      },
      "execution_count": null,
      "outputs": []
    },
    {
      "cell_type": "code",
      "source": [
        "# สร้างอาเรย์ 2 มิติ\n",
        "array1 = np.array([[1, 2, 3], [4, 5, 6]])\n",
        "array2 = np.array([[7, 8, 9], [10, 11, 12]])\n",
        "\n",
        "# รวมอาเรย์ในแนวแถว\n",
        "combined_array = np.vstack((array1, array2))\n",
        "print(combined_array)"
      ],
      "metadata": {
        "id": "yGTV7bjwcmJa"
      },
      "execution_count": null,
      "outputs": []
    },
    {
      "cell_type": "markdown",
      "source": [
        "การรวมอาเรย์ในแนวคอลัมน์ `(Horizontal Stack)`"
      ],
      "metadata": {
        "id": "Rg6UcFtycuG3"
      }
    },
    {
      "cell_type": "code",
      "source": [
        "# สร้างอาเรย์ 1 มิติ\n",
        "array1 = np.array([1, 2, 3])\n",
        "array2 = np.array([4, 5, 6])\n",
        "\n",
        "# รวมอาเรย์ในแนวคอลัมน์\n",
        "combined_array = np.hstack((array1, array2))\n",
        "\n",
        "combined_array"
      ],
      "metadata": {
        "id": "afxUA2-ocmFI"
      },
      "execution_count": null,
      "outputs": []
    },
    {
      "cell_type": "code",
      "source": [
        "# สร้างอาเรย์ 2 มิติ\n",
        "array1 = np.array([[1, 2, 3], [4, 5, 6]])\n",
        "array2 = np.array([[7, 8, 9], [10, 11, 12]])\n",
        "\n",
        "# รวมอาเรย์ในแนวคอลัมน์\n",
        "combined_array = np.hstack((array1, array2))\n",
        "\n",
        "combined_array"
      ],
      "metadata": {
        "id": "NpNYkUaNcvQg"
      },
      "execution_count": null,
      "outputs": []
    },
    {
      "cell_type": "markdown",
      "source": [
        "การรวมอาเรย์ด้วย `concatenate()`"
      ],
      "metadata": {
        "id": "p5mBo45Icw9Y"
      }
    },
    {
      "cell_type": "code",
      "source": [
        "# สร้างอาเรย์ 1 มิติ\n",
        "array1 = np.array([1, 2, 3])\n",
        "array2 = np.array([4, 5, 6])\n",
        "\n",
        "# รวมอาเรย์ในแนวคอลัมน์ด้วย concatenate\n",
        "combined_array = np.concatenate((array1, array2))\n",
        "\n",
        "combined_array"
      ],
      "metadata": {
        "id": "LnIGCwI4cx9W"
      },
      "execution_count": null,
      "outputs": []
    },
    {
      "cell_type": "code",
      "source": [
        "# สร้างอาเรย์ 2 มิติ\n",
        "array1 = np.array([[1, 2, 3], [4, 5, 6]])\n",
        "array2 = np.array([[7, 8, 9], [10, 11, 12]])\n",
        "\n",
        "# รวมอาเรย์ในแนวแถวด้วย concatenate\n",
        "combined_array = np.concatenate((array1, array2), axis=0)\n",
        "\n",
        "combined_array"
      ],
      "metadata": {
        "id": "L8iy_H_NcyLk"
      },
      "execution_count": null,
      "outputs": []
    },
    {
      "cell_type": "code",
      "source": [
        "# รวมอาเรย์ในแนวคอลัมน์ด้วย concatenate\n",
        "combined_array = np.concatenate((array1, array2), axis=1)\n",
        "\n",
        "combined_array"
      ],
      "metadata": {
        "id": "k8pv5PzZQ4zE"
      },
      "execution_count": null,
      "outputs": []
    },
    {
      "cell_type": "markdown",
      "source": [
        "### ✔ การรวมอาเรย์ตามแกนมิติด้วย `stack()` และ `dstack()`"
      ],
      "metadata": {
        "id": "H7GeA19Rc4Ym"
      }
    },
    {
      "cell_type": "markdown",
      "source": [
        "การรวมอาเรย์ (array) ด้วยคำสั่ง `stack()` นั้นเป็นฟังก์ชันในไลบรารี NumPy ของ Python ซึ่งใช้ในการรวมอาเรย์หลายๆ ตัวในแกน (axis) ใหม่ โดย stack() นั้นสามารถใช้ได้กับอาเรย์ที่มีขนาดเดียวกันในแต่ละแกนที่ไม่ได้ถูกสอดแทรก\n",
        "\n",
        "<div>\n",
        "<br>\n",
        "<img src=\"https://miro.medium.com/v2/resize:fit:1400/1*OOKSPKxT1TbeB9nig5t_Bg.jpeg\" width=\"450\"/>\n",
        "<br>\n",
        "</div>"
      ],
      "metadata": {
        "id": "uM3SbkqLdBWk"
      }
    },
    {
      "cell_type": "code",
      "source": [
        "# สร้างอาเรย์ 1 มิติ\n",
        "array1 = np.array([1, 2, 3])\n",
        "array2 = np.array([4, 5, 6])\n",
        "\n",
        "# axis 0=row, 1=columns, 2=depth\n",
        "# รวมอาเรย์ด้วย stack ในแนวแกนใหม่ (axis=1)\n",
        "stacked_array = np.stack((array1, array2), axis=1)\n",
        "\n",
        "stacked_array"
      ],
      "metadata": {
        "id": "dtKcGlwgc9OW"
      },
      "execution_count": null,
      "outputs": []
    },
    {
      "cell_type": "code",
      "source": [
        "# สร้างอาเรย์ 2 มิติ\n",
        "array1 = np.array([[1, 2],\n",
        "                   [3, 4]])\n",
        "\n",
        "array2 = np.array([[5, 6],\n",
        "                   [7, 8]])\n",
        "\n",
        "# รวมอาเรย์ด้วย stack ในแนวแกนใหม่ (axis=2)\n",
        "stacked_array = np.stack((array1, array2), axis=2)\n",
        "\n",
        "stacked_array"
      ],
      "metadata": {
        "id": "Uh7J-bUuc9LA"
      },
      "execution_count": null,
      "outputs": []
    },
    {
      "cell_type": "markdown",
      "source": [
        "การรวมอาเรย์ (arrays) ด้วยคำสั่ง `dstack()` ใน NumPy เป็นการรวมอาเรย์หลายๆ ตัวเข้ามาอยู่ในมิติที่สาม (depth dimension) ของอาเรย์ การรวมในลักษณะนี้จะทำให้เราได้อาเรย์สามมิติจากอาเรย์สองมิติหลายๆ ตัว"
      ],
      "metadata": {
        "id": "wEhdcXpkdGeG"
      }
    },
    {
      "cell_type": "code",
      "source": [
        "# สร้างอาเรย์ 2 มิติ\n",
        "array1 = np.array([[1, 2], [3, 4]])\n",
        "array2 = np.array([[5, 6], [7, 8]])\n",
        "\n",
        "# รวมอาเรย์ด้วย dstack ในแนวแกนที่สาม\n",
        "dstacked_array = np.dstack((array1, array2))\n",
        "\n",
        "dstacked_array"
      ],
      "metadata": {
        "id": "avhhGELJdOhi"
      },
      "execution_count": null,
      "outputs": []
    },
    {
      "cell_type": "markdown",
      "source": [
        "#  **6. ตัวดำเนินการและฟังก์ชันเชิงคณิตศาสตร์ใน NumPy**"
      ],
      "metadata": {
        "id": "3wnzypQyymUt"
      }
    },
    {
      "cell_type": "markdown",
      "source": [
        "### ✔ ตัวดำเนินการทางคณิตศาสตร์\n",
        "การบวก `(+)` การลบ `(-)` การคูณ `(*)` และการหาร `(/)`"
      ],
      "metadata": {
        "id": "P8PT5NAEzYvJ"
      }
    },
    {
      "cell_type": "markdown",
      "source": [
        "<div>\n",
        "<br>\n",
        "<img src=\"https://numpy.org/doc/stable/_images/np_matrix_arithmetic.png\" width=\"600\"/>\n",
        "<br>\n",
        "<img src=\"https://numpy.org/doc/stable/_images/np_sub_mult_divide.png\" width=\"600\"/>\n",
        "</div>"
      ],
      "metadata": {
        "id": "NIn2cDu7B8g_"
      }
    },
    {
      "cell_type": "code",
      "source": [
        "import numpy as np\n",
        "\n",
        "# สร้างอาเรย์ 1 มิติ\n",
        "array1 = np.array([1, 2, 3])\n",
        "array2 = np.array([4, 5, 6])\n",
        "\n",
        "# การบวก\n",
        "result_add = array1 + array2\n",
        "print(result_add)\n",
        "\n",
        "# การลบ\n",
        "result_subtract = array1 - array2\n",
        "print(result_subtract)\n",
        "\n",
        "# การคูณ\n",
        "result_multiply = array1 * array2\n",
        "print(result_multiply)\n",
        "\n",
        "# การหาร\n",
        "result_divide = array1 / array2\n",
        "print(result_divide)"
      ],
      "metadata": {
        "id": "TQI2N1VO3NjP"
      },
      "execution_count": null,
      "outputs": []
    },
    {
      "cell_type": "code",
      "source": [
        "# สร้างอาเรย์ 2 มิติ\n",
        "array1 = np.array([[1, 2], [3, 4]])\n",
        "array2 = np.array([[5, 6], [7, 8]])\n",
        "\n",
        "# การบวก\n",
        "result_add = array1 + array2\n",
        "print(result_add)\n",
        "\n",
        "# การลบ\n",
        "result_subtract = array1 - array2\n",
        "print(result_subtract)\n",
        "\n",
        "# การคูณ\n",
        "result_multiply = array1 * array2\n",
        "print(result_multiply)\n",
        "\n",
        "# การหาร\n",
        "result_divide = array1 / array2\n",
        "print(result_divide)"
      ],
      "metadata": {
        "id": "nq71GImb30u-"
      },
      "execution_count": null,
      "outputs": []
    },
    {
      "cell_type": "code",
      "source": [
        "# สร้างอาเรย์ 3 มิติ\n",
        "array1 = np.array([[[1, 2],\n",
        "                    [3, 4]],\n",
        "\n",
        "                  [[5, 6],\n",
        "                   [7, 8]]])\n",
        "\n",
        "array2 = np.array([[[9, 10],\n",
        "                    [11, 12]],\n",
        "\n",
        "                   [[13, 14],\n",
        "                    [15, 16]]])\n",
        "\n",
        "# การบวก\n",
        "result_add = array1 + array2\n",
        "print(result_add)\n",
        "\n",
        "# การลบ\n",
        "result_subtract = array1 - array2\n",
        "print(result_subtract)\n",
        "\n",
        "# การคูณ\n",
        "result_multiply = array1 * array2\n",
        "print(result_multiply)\n",
        "\n",
        "# การหาร\n",
        "result_divide = array1 / array2\n",
        "print(result_divide)"
      ],
      "metadata": {
        "id": "GIbaHzPo32DE"
      },
      "execution_count": null,
      "outputs": []
    },
    {
      "cell_type": "code",
      "source": [
        "# สามารถใช้ตัวดำเนินการหลายๆ อาเรย์พร้อมกันได้\n",
        "array3 = np.array([[9,10], [11,12]])\n",
        "\n",
        "result_add = array1 + array2 + array3\n",
        "print(result_add)"
      ],
      "metadata": {
        "id": "KpURyvwMOfz7"
      },
      "execution_count": null,
      "outputs": []
    },
    {
      "cell_type": "markdown",
      "source": [
        "การหารแบบปัดเศษลง `(//)` การยกกำลัง `(**)` และการหารเอาเศษ `(%)`"
      ],
      "metadata": {
        "id": "YNok0fJ34sCX"
      }
    },
    {
      "cell_type": "code",
      "source": [
        "# สร้างอาเรย์ 1 มิติ\n",
        "array1 = np.array([10, 20, 30])\n",
        "array2 = np.array([3, 4, 5])\n",
        "\n",
        "# การหารแบบปัดเศษลง\n",
        "result_floordiv = array1 // array2\n",
        "print(result_floordiv)\n",
        "\n",
        "# การยกกำลัง\n",
        "result_pow = array1 ** array2\n",
        "print(result_pow)\n",
        "\n",
        "# การหารเอาเศษ\n",
        "result_mod = array1 % array2\n",
        "print(result_mod)"
      ],
      "metadata": {
        "id": "mYrgHNcS41Qv"
      },
      "execution_count": null,
      "outputs": []
    },
    {
      "cell_type": "markdown",
      "source": [
        "### ✔ การกระจาย (Broadcasting) ใน NumPy สำหรับการคำนวณทางคณิตศาสตร์"
      ],
      "metadata": {
        "id": "b9XHG3bi8rVP"
      }
    },
    {
      "cell_type": "markdown",
      "source": [
        "Broadcasting เป็นคุณสมบัติสำคัญที่ทำให้ NumPy สามารถดำเนินการระหว่าง arrays ที่มีขนาดแตกต่างกันได้โดยอัตโนมัติโดยการขยาย arrays ที่มีขนาดเล็กกว่า\n",
        "\n",
        "<div>\n",
        "<br>\n",
        "<img src=\"https://3.bp.blogspot.com/-XE3FQ1hXcOs/W20_AeezMyI/AAAAAAAAXVc/hI6qgP73vSEDoq_KqNG7RDenmCIwP4_gwCLcBGAs/s1600/4214_f2-4.PNG\" width=\"500\"/>\n",
        "<br>\n",
        "</div>"
      ],
      "metadata": {
        "id": "m4LtY8EQ9vhl"
      }
    },
    {
      "cell_type": "code",
      "source": [
        "a = np.array([1, 2, 3]) # สร้างอาร์เรย์ 1D\n",
        "b = np.array([[10],\n",
        "              [20],\n",
        "              [30]]) # สร้างอาร์เรย์ 2D\n",
        "\n",
        "# Broadcasting เติมเต็มอาร์เรย์ 'a' ให้เหมือนกับอาร์เรย์ 'b'\n",
        "result = a + b\n",
        "\n",
        "result"
      ],
      "metadata": {
        "id": "tEVKomlK902S"
      },
      "execution_count": null,
      "outputs": []
    },
    {
      "cell_type": "code",
      "source": [
        "# ตัวอย่าง broadcasting อาร์เรย์ 1D และ 2D\n",
        "a = np.array([1, 2, 3])\n",
        "b = np.array([[10, 20, 30],\n",
        "              [40, 50, 60],\n",
        "              [70, 80, 90]])\n",
        "\n",
        "result = a * b\n",
        "\n",
        "result"
      ],
      "metadata": {
        "id": "zampedYP-Mzi"
      },
      "execution_count": null,
      "outputs": []
    },
    {
      "cell_type": "code",
      "source": [
        " # ตัวอย่าง 2D array กับ scalar\n",
        "a = np.array([[1, 2, 3],\n",
        "              [4, 5, 6]])\n",
        "\n",
        "b = 10  # Scalar\n",
        "\n",
        "result = a * b\n",
        "\n",
        "result"
      ],
      "metadata": {
        "id": "ZRcYgJpl92kv"
      },
      "execution_count": null,
      "outputs": []
    },
    {
      "cell_type": "markdown",
      "source": [
        "### ✔ ตัวการดำเนินการทางตรรกศาสตร์"
      ],
      "metadata": {
        "id": "bYS-8qml4-RQ"
      }
    },
    {
      "cell_type": "markdown",
      "source": [
        "<div>\n",
        "<br>\n",
        "<img src=\"https://introcs.cs.princeton.edu/java/71boolean/images/truth-table.png\" width=\"600\"/>\n",
        "<br>\n",
        "</div>"
      ],
      "metadata": {
        "id": "ZlqC53w0LySO"
      }
    },
    {
      "cell_type": "code",
      "source": [
        "# สร้างอาเรย์ 1 มิติ\n",
        "array1 = np.array([True, False, True])\n",
        "array2 = np.array([False, False, True])\n",
        "\n",
        "# AND\n",
        "result_and = array1 & array2\n",
        "print(result_and)\n",
        "\n",
        "# OR\n",
        "result_or = array1 | array2\n",
        "print(result_or)\n",
        "\n",
        "# XOR\n",
        "result_xor = array1 ^ array2\n",
        "print(result_xor)\n",
        "\n",
        "# NOT\n",
        "result_not = ~array1\n",
        "print(result_not)"
      ],
      "metadata": {
        "id": "9NATjL3r5JZh"
      },
      "execution_count": null,
      "outputs": []
    },
    {
      "cell_type": "markdown",
      "source": [
        "### ✔ ฟังก์ชันเชิงคณิตศาสตร์เพื่อคำนวณระหว่างอาเรย์สองตัวใน NumPy"
      ],
      "metadata": {
        "id": "tvnMItNO6CgP"
      }
    },
    {
      "cell_type": "markdown",
      "source": [
        "- ฟังก์ชัน `np.add()` เพื่อการบวกอาเรย์\n",
        "- ฟังก์ชัน `np.subtract() `เพื่อการลบอาเรย์\n",
        "- ฟังก์ชัน `np.multiply()` เพื่อการคูณอาเรย์\n",
        "- ฟังก์ชัน `np.divide() `เพื่อการหารอาเรย์\n",
        "- ฟังก์ชัน `np.power()` ยกกำลังค่าสมาชิกในอาเรย์\n",
        "- ฟังก์ชัน `np.mod()` หาเศษจากการหารระหว่างสมาชิกสองตัวในอาเรย์ตามตำแหน่งที่ตรงกัน"
      ],
      "metadata": {
        "id": "U1chdsaJ6Ki2"
      }
    },
    {
      "cell_type": "code",
      "source": [
        "# สร้างอาเรย์ 2 มิติ\n",
        "array1 = np.array([[1, 2], [3, 4]])\n",
        "array2 = np.array([[5, 6], [7, 8]])\n",
        "\n",
        "# การบวกอาเรย์\n",
        "result_add = np.add(array1, array2)\n",
        "print(result_add)\n",
        "\n",
        "# การลบอาเรย์\n",
        "result_subtract = np.subtract(array1, array2)\n",
        "print(result_subtract)\n",
        "\n",
        "# การคูณอาเรย์\n",
        "result_multiply = np.multiply(array1, array2)\n",
        "print(result_multiply)\n",
        "\n",
        "# การหารอาเรย์\n",
        "result_divide = np.divide(array1, array2)\n",
        "print(result_divide)\n",
        "\n",
        "# ยกกำลัง\n",
        "result_power = np.power(array1, 3)\n",
        "print(result_power)\n",
        "\n",
        "# หาเศษจากการหาร\n",
        "result_mod = np.mod(array1, array2)\n",
        "print(result_mod)"
      ],
      "metadata": {
        "id": "VjqpkY-b5KkC"
      },
      "execution_count": null,
      "outputs": []
    },
    {
      "cell_type": "code",
      "source": [
        "# สามารถใช้กับหลายๆ อาเรย์พร้อมกันได้\n",
        "array3 = np.array([[9,10], [11,12]])\n",
        "\n",
        "result_add = np.add(array1, array2, array3)\n",
        "print(result_add)"
      ],
      "metadata": {
        "id": "oFHhYwxEL0Qj"
      },
      "execution_count": null,
      "outputs": []
    },
    {
      "cell_type": "markdown",
      "source": [
        "### ✔ ฟังก์ชันคณิตศาสตร์พื้นฐาน เช่น `sqrt()`, `exp()`, `log()`, `sin()`, `cos()`"
      ],
      "metadata": {
        "id": "xSVTOyLM-HEm"
      }
    },
    {
      "cell_type": "code",
      "source": [
        "# สร้างอาเรย์ 1 มิติ\n",
        "array = np.array([1, 4, 9, 16, 25, 123, 456])\n",
        "\n",
        "# รากที่สอง\n",
        "result_sqrt = np.sqrt(array)\n",
        "print(result_sqrt)"
      ],
      "metadata": {
        "id": "bxrlzLpC-YG_"
      },
      "execution_count": null,
      "outputs": []
    },
    {
      "cell_type": "code",
      "source": [
        "# e ยกกำลัง\n",
        "result_exp = np.exp(array)\n",
        "print(result_exp)"
      ],
      "metadata": {
        "id": "rxffejqWNpeo"
      },
      "execution_count": null,
      "outputs": []
    },
    {
      "cell_type": "code",
      "source": [
        "# ลอการิทึม\n",
        "result_log = np.log(array)\n",
        "print(result_log)"
      ],
      "metadata": {
        "id": "PhDUeQWWNqlN"
      },
      "execution_count": null,
      "outputs": []
    },
    {
      "cell_type": "code",
      "source": [
        "# Sine\n",
        "result_sin = np.sin(array)\n",
        "print(result_sin)"
      ],
      "metadata": {
        "id": "-0MG6HvcNtyy"
      },
      "execution_count": null,
      "outputs": []
    },
    {
      "cell_type": "code",
      "source": [
        "# Cosine\n",
        "result_cos = np.cos(array)\n",
        "print(result_cos)"
      ],
      "metadata": {
        "id": "kyxTudacNu8a"
      },
      "execution_count": null,
      "outputs": []
    },
    {
      "cell_type": "markdown",
      "source": [
        "### ✔ ฟังก์ชันคูณเมทริกซ์ เช่น `dot()` และ `matmul()`"
      ],
      "metadata": {
        "id": "PG_uMvsk-clh"
      }
    },
    {
      "cell_type": "markdown",
      "source": [
        "<div>\n",
        "<br>\n",
        "<img src=\"https://i.ytimg.com/vi/ZUeSxQ67wD8/maxresdefault.jpg\" width=\"600\"/>\n",
        "<br>\n",
        "</div>"
      ],
      "metadata": {
        "id": "vD6vMW4HTIe1"
      }
    },
    {
      "cell_type": "markdown",
      "source": [
        "การคูณเมทริกซ์ด้วย `dot()`"
      ],
      "metadata": {
        "id": "lhXLszTf-lbx"
      }
    },
    {
      "cell_type": "code",
      "source": [
        "# สร้างอาเรย์ 2 มิติ\n",
        "array1 = np.array([[1, 2], [3, 4]])\n",
        "array2 = np.array([[5, 6], [7, 8]])\n",
        "\n",
        "# การคูณเมทริกซ์ด้วย dot\n",
        "result_dot = np.dot(array1, array2)\n",
        "print(result_dot)"
      ],
      "metadata": {
        "id": "ycCPtxwC-jiV"
      },
      "execution_count": null,
      "outputs": []
    },
    {
      "cell_type": "markdown",
      "source": [
        "การคูณเมทริกซ์ด้วย `matmul()`"
      ],
      "metadata": {
        "id": "F51Bkojj-no5"
      }
    },
    {
      "cell_type": "code",
      "source": [
        "# สร้างอาเรย์ 2 มิติ\n",
        "array1 = np.array([[1, 2], [3, 4]])\n",
        "array2 = np.array([[5, 6], [7, 8]])\n",
        "\n",
        "# การคูณเมทริกซ์ด้วย matmul\n",
        "result_matmul = np.matmul(array1, array2)\n",
        "print(result_matmul)"
      ],
      "metadata": {
        "id": "l69M-0SC-qn6"
      },
      "execution_count": null,
      "outputs": []
    },
    {
      "cell_type": "markdown",
      "source": [
        "# **7. ฟังก์ชันทางสถิติใน NumPy**"
      ],
      "metadata": {
        "id": "NkaBGHN0_8kf"
      }
    },
    {
      "cell_type": "markdown",
      "source": [
        "### ✔ การคำนวณค่าทางสถิติ"
      ],
      "metadata": {
        "id": "WiahmI37Cl3W"
      }
    },
    {
      "cell_type": "markdown",
      "source": [
        "- การคำนวณผลรวม `np.sum()`\n",
        "- การคำนวณค่าเฉลี่ย `np.mean()`\n",
        "- การคำนวณค่ามัธยฐาน `np.median()`\n",
        "- การคำนวณส่วนเบี่ยงเบนมาตรฐาน `np.std()`\n",
        "- ความแปรปรวน `np.var()`\n",
        "- ค่าต่ำสุด `np.min()`\n",
        "- ค่าสูงสุด `np.max()`"
      ],
      "metadata": {
        "id": "3oyiPXiUCx3b"
      }
    },
    {
      "cell_type": "code",
      "source": [
        "import numpy as np\n",
        "\n",
        "# สร้างอาเรย์ 2 มิติ\n",
        "array = np.array([[1, 2, 3],\n",
        "                  [4, 5, 6]])\n",
        "\n",
        "# คำนวณผลรวมทั้งหมด\n",
        "sum_val_all = np.sum(array)\n",
        "print(\"คำนวณผลรวมทั้งหมด\", sum_val_all)\n",
        "\n",
        "# คำนวณผลรวมตามแต่ละแถว (axis=1)\n",
        "sum_val_axis1 = np.sum(array, axis=1)\n",
        "print(\"ผลรวมตามแต่ละแถว\", sum_val_axis1)\n",
        "\n",
        "# คำนวณผลรวมตามแต่ละคอลัมน์ (axis=0)\n",
        "sum_val_axis0 = np.sum(array, axis=0)\n",
        "print(\"ผลรวมตามแต่ละคอลัมน์\", sum_val_axis0)"
      ],
      "metadata": {
        "id": "5mPHt2gc3SGt"
      },
      "execution_count": null,
      "outputs": []
    },
    {
      "cell_type": "code",
      "source": [
        "# สร้างอาเรย์ 2 มิติ\n",
        "array = np.array([[1, 2, 3],\n",
        "                  [4, 5, 6],\n",
        "                  [7, 8, 9],\n",
        "                  [10, 11, 12]])\n",
        "\n",
        "# คำนวณค่าเฉลี่ยสำหรับทุกค่า\n",
        "mean_val = np.mean(array)\n",
        "print(\"ค่าเฉลี่ยสำหรับทุกค่า\", mean_val)\n",
        "\n",
        "# คำนวณค่าเฉลี่ยตามแต่ละแถว (axis=1)\n",
        "mean_val_axis1 = np.mean(array, axis=1)\n",
        "print(\"ค่าเฉลี่ยตามแต่ละแถว\",mean_val_axis1)\n",
        "\n",
        "# คำนวณค่าเฉลี่ยตามแต่ละคอลัมน์ (axis=0)\n",
        "mean_val_axis0 = np.mean(array, axis=0)\n",
        "print(\"ค่าเฉลี่ยตามแต่ละคอลัมน์\", mean_val_axis0)"
      ],
      "metadata": {
        "id": "OQtCyDhhC20Z"
      },
      "execution_count": null,
      "outputs": []
    },
    {
      "cell_type": "code",
      "source": [
        "array = np.array([[1, 2, 3],\n",
        "                  [4, 5, 6],\n",
        "                  [7, 8, 9],\n",
        "                  [10, 11, 12]])\n",
        "\n",
        "# คำนวณค่ามัธยฐานสำหรับทุกค่า\n",
        "median_val = np.median(array)\n",
        "print(\"ค่ามัธยฐานสำหรับทุกค่า\", median_val)\n",
        "\n",
        "# คำนวณค่ามัธยฐานตามแต่ละแถว (axis=1)\n",
        "median_val_axis1 = np.median(array, axis=1)\n",
        "print(\"ค่ามัธยฐานตามแต่ละแถว\", median_val_axis1)\n",
        "\n",
        "# คำนวณค่ามัธยฐานตามแต่ละคอลัมน์ (axis=0)\n",
        "median_val_axis0 = np.median(array, axis=0)\n",
        "print(\"ค่ามัธยฐานตามแต่ละคอลัมน์\", median_val_axis0)"
      ],
      "metadata": {
        "id": "HIcjNxfkDTxp"
      },
      "execution_count": null,
      "outputs": []
    },
    {
      "cell_type": "code",
      "source": [
        "array = np.array([[1, 2, 3],\n",
        "                  [4, 5, 6],\n",
        "                  [7, 8, 9],\n",
        "                  [10, 11, 12]])\n",
        "\n",
        "# คำนวณส่วนเบี่ยงเบนมาตรฐานสำหรับทุกค่า\n",
        "std_val = np.std(array)\n",
        "print(\"ส่วนเบี่ยงเบนมาตรฐานสำหรับทุกค่า\", std_val)\n",
        "\n",
        "# คำนวณส่วนเบี่ยงเบนมาตรฐานในแต่ละแถว (axis=1)\n",
        "std_val_axis1 = np.std(array, axis=1)\n",
        "print(\"ส่วนเบี่ยงเบนมาตรฐานในแต่ละแถว\", std_val_axis1)\n",
        "\n",
        "# คำนวณส่วนเบี่ยงเบนมาตรฐานในแต่ละคอลัมน์ (axis=0)\n",
        "std_val_axis0 = np.std(array, axis=0)\n",
        "print(\"ส่วนเบี่ยงเบนมาตรฐานในแต่ละคอลัมน์\", std_val_axis0)"
      ],
      "metadata": {
        "id": "mnVWnnhBCxYx"
      },
      "execution_count": null,
      "outputs": []
    },
    {
      "cell_type": "code",
      "source": [
        "array = np.array([[1, 2, 3],\n",
        "                  [4, 5, 6],\n",
        "                  [7, 8, 9],\n",
        "                  [10, 11, 12]])\n",
        "\n",
        "# คำนวณความแปรปรวนสำหรับทุกค่า\n",
        "var_val = np.var(array)\n",
        "print(\"ความแปรปรวนสำหรับทุกค่า:\",var_val)\n",
        "\n",
        "# คำนวณความแปรปรวนในแต่ละแถว (axis=1)\n",
        "var_val_axis1 = np.var(array, axis=1)\n",
        "print(\"ความแปรปรวนในแต่ละแถว:\",var_val_axis1)\n",
        "\n",
        "# คำนวณความแปรปรวนในแต่ละคอลัมน์ (axis=0)\n",
        "var_val_axis0 = np.var(array, axis=0)\n",
        "print(\"ความแปรปรวนในแต่ละคอลัมน์:\",var_val_axis0)"
      ],
      "metadata": {
        "id": "3oqM7weZeXem"
      },
      "execution_count": null,
      "outputs": []
    },
    {
      "cell_type": "code",
      "source": [
        "# สร้างอาเรย์สองมิติ\n",
        "array_2d = np.array([[1, 2, 3],\n",
        "                     [4, 5, 6],\n",
        "                     [7, 8, 9]])\n",
        "\n",
        "min_value = np.min(array_2d)\n",
        "print(\"ค่าต่ำสุดสำหรับทุกค่า:\", min_value)\n",
        "\n",
        "# ค่าต่ำสุดตามแต่ละแถว\n",
        "min_value_row = np.min(array_2d, axis=1)\n",
        "print(\"ค่าต่ำสุดตามแต่ละแถว:\", min_value_row)\n",
        "\n",
        "# ค่าต่ำสุดตามแต่ละคอลัมน์\n",
        "min_value_column = np.min(array_2d, axis=0)\n",
        "print(\"ค่าต่ำสุดตามแต่ละคอลัมน์:\", min_value_column)"
      ],
      "metadata": {
        "id": "2k46Z4_ipaDX"
      },
      "execution_count": null,
      "outputs": []
    },
    {
      "cell_type": "code",
      "source": [
        "# สร้างอาเรย์สองมิติ\n",
        "array_2d = np.array([[1, 2, 3],\n",
        "                     [4, 5, 6],\n",
        "                     [7, 8, 9]])\n",
        "\n",
        "max_value = np.max(array_2d)\n",
        "print(\"ค่าสูงสุดสำหรับทุกค่า:\", max_value)\n",
        "\n",
        "# ค่าสูงสุดตามแต่ละแถว\n",
        "max_value_row = np.max(array_2d, axis=1)\n",
        "print(\"ค่าสูงสุดตามแต่ละแถว:\", max_value_row)\n",
        "\n",
        "# ค่าสูงสุดตามแต่ละคอลัมน์\n",
        "max_value_column = np.max(array_2d, axis=0)\n",
        "print(\"ค่าสูงสุดตามแต่ละคอลัมน์:\", max_value_column)"
      ],
      "metadata": {
        "id": "Xh93YFA6pdoP"
      },
      "execution_count": null,
      "outputs": []
    },
    {
      "cell_type": "markdown",
      "source": [
        "### ✔ การหาตำแหน่งของค่าสูงสุดและต่ำสุดด้วย `argmax()` และ `argmin()`"
      ],
      "metadata": {
        "id": "fCPK1yRVDtqB"
      }
    },
    {
      "cell_type": "code",
      "source": [
        "# สร้างอาเรย์ 2 มิติ\n",
        "array = np.array([[1, 3, 54],\n",
        "                  [7, 2, 6],\n",
        "                  [33, 54, 3],\n",
        "                  [76, 4, 65]])\n",
        "\n",
        "# หาตำแหน่งค่ามากสุด\n",
        "argmax_val = np.argmax(array)\n",
        "print(\"ตำแหน่งค่ามากสุดสำหรับทุกค่า\", argmax_val)\n",
        "\n",
        "# หาตำแหน่งค่ามากสุดในแต่ละแถว (axis=1)\n",
        "argmax_val_axis1 = np.argmax(array, axis=1)\n",
        "print(\"ตำแหน่งค่ามากสุดในแต่ละแถว\", argmax_val_axis1)\n",
        "\n",
        "# หาตำแหน่งค่ามากสุดในแต่ละคอลัมน์ (axis=0)\n",
        "argmax_val_axis0 = np.argmax(array, axis=0)\n",
        "print(\"ตำแหน่งค่ามากสุดในแต่ละคอลัมน์\", argmax_val_axis0)"
      ],
      "metadata": {
        "id": "iQg9d29_EJyw"
      },
      "execution_count": null,
      "outputs": []
    },
    {
      "cell_type": "code",
      "source": [
        "# หาตำแหน่งค่าน้อยสุด\n",
        "argmin_val = np.argmin(array)\n",
        "print(\"หาตำแหน่งค่าน้อยสุดสำหรับทุกค่า\", argmin_val)\n",
        "\n",
        "# หาตำแหน่งค่าน้อยสุดในแต่ละแถว (axis=1)\n",
        "argmin_val_axis1 = np.argmin(array, axis=1)\n",
        "print(\"ตำแหน่งค่าน้อยสุดในแต่ละแถว\", argmin_val_axis1)\n",
        "\n",
        "# หาตำแหน่งค่าน้อยสุดในแต่ละคอลัมน์ (axis=0)\n",
        "argmin_val_axis0 = np.argmin(array, axis=0)\n",
        "print(\"ตำแหน่งค่าน้อยสุดในแต่ละคอลัมน์\", argmin_val_axis0)"
      ],
      "metadata": {
        "id": "2J1YxHFwnMX3"
      },
      "execution_count": null,
      "outputs": []
    },
    {
      "cell_type": "markdown",
      "source": [
        "### ✔ การหาผลรวมสะสม `cumsum()`และผลคูณสะสม `cumprod()`"
      ],
      "metadata": {
        "id": "eTl7C1tlEmRi"
      }
    },
    {
      "cell_type": "code",
      "source": [
        "# สร้างอาเรย์ 2 มิติ\n",
        "array = np.array([[1, 2, 3],\n",
        "                  [4, 5, 6]])\n",
        "\n",
        "# หาผลรวมสะสม\n",
        "cumsum_val = np.cumsum(array)\n",
        "print(\"หาผลรวมสะสม:\",cumsum_val)\n",
        "\n",
        "# หาผลรวมสะสมในแต่ละแถว (axis=1)\n",
        "cumsum_val_axis1 = np.cumsum(array, axis=1)\n",
        "print(\"ผลรวมสะสมในแต่ละแถว:\", cumsum_val_axis1)\n",
        "\n",
        "# หาผลรวมสะสมในแต่ละคอลัมน์ (axis=0)\n",
        "cumsum_val_axis0 = np.cumsum(array, axis=0)\n",
        "print(\"ผลรวมสะสมในแต่ละคอลัมน์:\", cumsum_val_axis0)"
      ],
      "metadata": {
        "id": "LFBV197JEus2"
      },
      "execution_count": null,
      "outputs": []
    },
    {
      "cell_type": "code",
      "source": [
        "# หาผลคูณสะสม\n",
        "cumprod_val = np.cumprod(array)\n",
        "print(\"หาผลคูณสะสม:\", cumprod_val)\n",
        "\n",
        "# หาผลคูณสะสมในแต่ละแถว (axis=1)\n",
        "cumprod_val_axis1 = np.cumprod(array, axis=1)\n",
        "print(\"ผลคูณสะสมในแต่ละแถว\", cumprod_val_axis1)\n",
        "\n",
        "# หาผลคูณสะสมในแต่ละคอลัมน์ (axis=0)\n",
        "cumprod_val_axis0 = np.cumprod(array, axis=0)\n",
        "print(\"ผลคูณสะสมในแต่ละคอลัมน์\", cumprod_val_axis0)"
      ],
      "metadata": {
        "id": "u8wm6zWxwdom"
      },
      "execution_count": null,
      "outputs": []
    },
    {
      "cell_type": "markdown",
      "source": [
        "# **8. การจัดการไฟล์ข้อมูล**"
      ],
      "metadata": {
        "id": "c5DzqBj7NAMI"
      }
    },
    {
      "cell_type": "markdown",
      "source": [
        "### ✔ การอ่านไฟล์ CSV และ TXT ด้วย `np.genfromtxt()` และ `np.loadtxt()`"
      ],
      "metadata": {
        "id": "b4lJNCc3TXJ0"
      }
    },
    {
      "cell_type": "markdown",
      "source": [
        "`np.genfromtxt() `ใช้สำหรับการอ่านไฟล์ข้อมูลที่มีความซับซ้อน เช่น มีค่าว่างหรือมีคอมเมนต์"
      ],
      "metadata": {
        "id": "PR_VuXt5Trqv"
      }
    },
    {
      "cell_type": "code",
      "source": [
        "import numpy as np\n",
        "\n",
        "# อ่านไฟล์ CSV\n",
        "data = np.genfromtxt('/content/{your_file}.csv', delimiter=',')\n",
        "print(data)"
      ],
      "metadata": {
        "id": "7dZ1zQGOTtdy"
      },
      "execution_count": null,
      "outputs": []
    },
    {
      "cell_type": "code",
      "source": [
        "# อ่านไฟล์ TXT\n",
        "data = np.genfromtxt('/content/{your_file}.txt', delimiter=' ')\n",
        "print(data)"
      ],
      "metadata": {
        "id": "tJBJucsETxtY"
      },
      "execution_count": null,
      "outputs": []
    },
    {
      "cell_type": "markdown",
      "source": [
        "`np.loadtxt() `ใช้สำหรับการอ่านไฟล์ข้อมูลที่มีรูปแบบตรงไปตรงมา"
      ],
      "metadata": {
        "id": "YXE6GNWFT5lr"
      }
    },
    {
      "cell_type": "code",
      "source": [
        "# อ่านไฟล์ CSV\n",
        "data = np.loadtxt('/content/{your_file}.csv', delimiter=',')\n",
        "print(data)"
      ],
      "metadata": {
        "id": "gdJTypm8T6wI"
      },
      "execution_count": null,
      "outputs": []
    },
    {
      "cell_type": "code",
      "source": [
        "# อ่านไฟล์ TXT\n",
        "data = np.loadtxt('/content/{your_file}.txt', delimiter=' ')\n",
        "print(data)"
      ],
      "metadata": {
        "id": "xqPd18mJT-_6"
      },
      "execution_count": null,
      "outputs": []
    },
    {
      "cell_type": "markdown",
      "source": [
        "### ✔ การบันทึกไฟล์ CSV และ TXT ด้วย `np.savetxt()`"
      ],
      "metadata": {
        "id": "DNlL5bgDUEOE"
      }
    },
    {
      "cell_type": "code",
      "source": [
        "# สร้างอาเรย์ 2 มิติ\n",
        "data = np.array([[1, 2, 3], [4, 5, 6], [7, 8, 9]])\n",
        "\n",
        "# บันทึกเป็นไฟล์ CSV\n",
        "np.savetxt('output.csv', data, delimiter=',')\n",
        "\n",
        "# บันทึกเป็นไฟล์ TXT\n",
        "np.savetxt('output.txt', data, delimiter=' ')"
      ],
      "metadata": {
        "id": "XOJY7okgUJnq"
      },
      "execution_count": null,
      "outputs": []
    },
    {
      "cell_type": "markdown",
      "source": [
        "### ✔ การจัดเก็บและโหลด NumPy array ด้วย `np.save()`, `np.savez()`, และ `np.load()`"
      ],
      "metadata": {
        "id": "sq-t9IJ8Q91g"
      }
    },
    {
      "cell_type": "markdown",
      "source": [
        "การใช้ `np.save()`\n",
        "บันทึกอาเรย์เป็นไฟล์ .npy (ไฟล์ไบนารี)"
      ],
      "metadata": {
        "id": "4AqG6wzXRcUl"
      }
    },
    {
      "cell_type": "code",
      "source": [
        "# สร้างอาเรย์ 2 มิติ\n",
        "data = np.array([[1, 2, 3], [4, 5, 6], [7, 8, 9]])\n",
        "\n",
        "# บันทึกเป็นไฟล์ .npy\n",
        "np.save('output.npy', data)"
      ],
      "metadata": {
        "id": "X8P2QRdQRTme"
      },
      "execution_count": null,
      "outputs": []
    },
    {
      "cell_type": "markdown",
      "source": [
        "การใช้ `np.savez()`\n",
        "บันทึกหลายอาเรย์ใส่ในไฟล์ .npz (ไฟล์ไบนารีที่เก็บหลายอาเรย์)"
      ],
      "metadata": {
        "id": "Ov7wTuZDRovv"
      }
    },
    {
      "cell_type": "code",
      "source": [
        "# สร้างอาเรย์ 2 มิติ\n",
        "data1 = np.array([[1, 2, 3], [4, 5, 6], [7, 8, 9]])\n",
        "data2 = np.array([[10, 20, 30], [40, 50, 60], [70, 80, 90]])\n",
        "\n",
        "# บันทึกหลายอาเรย์ในไฟล์ .npz\n",
        "np.savez('output.npz', data1=data1, data2=data2)"
      ],
      "metadata": {
        "id": "AM2f9GsPRYGk"
      },
      "execution_count": null,
      "outputs": []
    },
    {
      "cell_type": "markdown",
      "source": [
        "การใช้ `np.load()`\n",
        "โหลดข้อมูลจากไฟล์ .npy หรือ .npz"
      ],
      "metadata": {
        "id": "TfkfYQ_xRtC_"
      }
    },
    {
      "cell_type": "code",
      "source": [
        "# โหลดอาเรย์จากไฟล์ .npy\n",
        "loaded_data = np.load('/content/{your_file}.npy')\n",
        "print(loaded_data)\n",
        "\n",
        "# โหลดหลายอาเรย์จากไฟล์ .npz\n",
        "loaded_data = np.load('/content/{your_file}.npz')\n",
        "print(loaded_data['data1'])\n",
        "\n",
        "print(loaded_data['data2'])"
      ],
      "metadata": {
        "id": "P6gqes7qRyBr"
      },
      "execution_count": null,
      "outputs": []
    }
  ]
}