{
  "cells": [
    {
      "cell_type": "markdown",
      "metadata": {
        "id": "XNrX7_jFYEfa"
      },
      "source": [
        "# Simple CNN for Classification with PyTorch\n",
        "\n",
        "เราจะมาลองสร้าง CNN ขนาดเล็ก สำหรับ classification\n",
        "\n",
        "ขั้นตอนในการสร้างโมเดล\n",
        "1. data preparation\n",
        "2. load data\n",
        "3. define model architecture\n",
        "4. train model\n",
        "5. print model's weight\n",
        "6. mode evaluation"
      ]
    },
    {
      "cell_type": "code",
      "execution_count": 1,
      "metadata": {
        "id": "08vqL2-KYzZq"
      },
      "outputs": [],
      "source": [
        "import torch\n",
        "import numpy as np\n",
        "import torch.nn as nn\n",
        "import torch.optim as optim\n",
        "import matplotlib.pyplot as plt\n",
        "from sklearn.metrics import confusion_matrix,classification_report\n",
        "import seaborn as sns"
      ]
    },
    {
      "cell_type": "markdown",
      "metadata": {
        "id": "tT9sv5zzZpgW"
      },
      "source": [
        "ตรวจสอบว่ามี GPU หรือไม่ ถ้ามี ให้ตั้งค่า device เป็น GPU  "
      ]
    },
    {
      "cell_type": "code",
      "execution_count": 2,
      "metadata": {
        "colab": {
          "base_uri": "https://localhost:8080/"
        },
        "id": "J9IcoOsxZ9Mo",
        "outputId": "e271bf6c-79f0-4c1c-b592-6d5dff0fadc9"
      },
      "outputs": [
        {
          "name": "stdout",
          "output_type": "stream",
          "text": [
            "cpu\n"
          ]
        }
      ],
      "source": [
        "# Check for CUDA\n",
        "device = torch.device('cuda' if torch.cuda.is_available() else 'cpu')\n",
        "print(device)"
      ]
    },
    {
      "cell_type": "markdown",
      "metadata": {
        "id": "5sGWXK31db3t"
      },
      "source": [
        "## **DATA PREPARATION**\n",
        "- **สร้างภาพสองภาพ**: หนึ่งสำหรับสี่เหลี่ยมจัตุรัสและอีกหนึ่งสำหรับสามเหลี่ยม<br>\n",
        "แต่ละภาพควรมีขนาด 4x4 พิกเซลโดยมีค่าตามที่แสดงด้านล่าง<br>\n",
        "จากนั้นซ้อนภาพในเทนเซอร์แบบ `torch.tensor([<square tensor>,<triangle tensor>])`.\n",
        "\n",
        "- **สร้าง label**: ให้ตรงกับแต่ละภาพ โดยใช้ 1 สำหรับสี่เหลี่ยมจัตุรัสและ 0 สำหรับสามเหลี่ยม<br>"
      ]
    },
    {
      "cell_type": "code",
      "execution_count": 3,
      "metadata": {
        "id": "TBl9P-9LgBAe"
      },
      "outputs": [],
      "source": [
        "### START CODE HERE ###\n",
        "square = [[[1,1,1,1],\n",
        "          [1,5,5,1],\n",
        "          [1,5,5,1],\n",
        "          [1,1,1,1]]]\n",
        "triangle = [[[1,1,1,5],\n",
        "            [1,1,5,5],\n",
        "            [1,5,5,5],\n",
        "            [5,5,5,5]]]\n",
        "\n",
        "tensor_square = torch.tensor(square)\n",
        "tensor_triangle = torch.tensor(triangle)\n",
        "\n",
        "labels_square = torch.tensor([1])\n",
        "labels_triangle = torch.tensor([0])\n",
        "\n",
        "data_tensors = torch.stack([tensor_square, tensor_triangle])\n",
        "data_labels = torch.stack([labels_square, labels_triangle])\n",
        "\n",
        "### END CODE HERE ###"
      ]
    },
    {
      "cell_type": "markdown",
      "metadata": {
        "id": "nhAUnRecgZiV"
      },
      "source": [
        "จากนั้นแสดงภาพที่สร้างขึ้นโดยใช้ Matplotlib"
      ]
    },
    {
      "cell_type": "code",
      "execution_count": 4,
      "metadata": {
        "colab": {
          "base_uri": "https://localhost:8080/",
          "height": 284
        },
        "id": "ZEomX1OYhImN",
        "outputId": "dd17b3ac-bc71-46ca-c31b-3464a902dec1"
      },
      "outputs": [
        {
          "data": {
            "image/png": "[encoded data removed]",
            "text/plain": [
              "<Figure size 640x480 with 2 Axes>"
            ]
          },
          "metadata": {},
          "output_type": "display_data"
        }
      ],
      "source": [
        "### START CODE HERE ###\n",
        "plt.subplot(1, 2, 1)\n",
        "plt.axis('off')\n",
        "plt.imshow(tensor_square[0])\n",
        "plt.title('Square')\n",
        "for i in range(tensor_square.shape[1]):\n",
        "    for j in range(tensor_square.shape[2]):\n",
        "        plt.text(j, i, tensor_square[0, i, j].item(), ha='center', va='center', color='white')\n",
        "\n",
        "plt.subplot(1, 2, 2)\n",
        "plt.axis('off')\n",
        "plt.imshow(tensor_triangle[0])\n",
        "plt.title('Triangle')\n",
        "for i in range(tensor_triangle.shape[1]):\n",
        "    for j in range(tensor_triangle.shape[2]):\n",
        "        plt.text(j, i, tensor_triangle[0, i, j].item(), ha='center', va='center', color='white')\n",
        "\n",
        "plt.show()\n",
        "### END CODE HERE ###"
      ]
    },
    {
      "cell_type": "markdown",
      "metadata": {
        "id": "CavzlZkehVNf"
      },
      "source": [
        "ถ้าโค๊ดที่เขียนมาถูกต้อง เซลล์นี้จะทำงานได้โดยไม่มีปัญหา"
      ]
    },
    {
      "cell_type": "code",
      "execution_count": 5,
      "metadata": {
        "colab": {
          "base_uri": "https://localhost:8080/"
        },
        "id": "M5QRGAQehW1K",
        "outputId": "150cb093-ed4c-4b7c-d7eb-6a348e2a520d"
      },
      "outputs": [
        {
          "name": "stdout",
          "output_type": "stream",
          "text": [
            "You have successfully created the data_tensors!\n"
          ]
        }
      ],
      "source": [
        "assert data_tensors.shape == torch.Size([2, 1, 4, 4])\n",
        "assert data_labels.shape == torch.Size([2, 1])\n",
        "print(\"You have successfully created the data_tensors!\")"
      ]
    },
    {
      "cell_type": "markdown",
      "metadata": {
        "id": "csJonvN6hhFC"
      },
      "source": [
        "## DataLoader\n",
        "ใช้สำหรับโหลดข้อมูล"
      ]
    },
    {
      "cell_type": "code",
      "execution_count": null,
      "metadata": {
        "id": "AfBbeSkZhiCB"
      },
      "outputs": [],
      "source": [
        "### START CODE HERE ###\n",
        "dataset = torch.utils.data.TensorDataset(data_tensors, data_labels)\n",
        "dataloader = torch.utils.data.DataLoader(dataset, batch_size=len(dataset), shuffle=True)\n",
        "### END CODE HERE ###"
      ]
    },
    {
      "cell_type": "markdown",
      "metadata": {
        "id": "1bVh5_6xZ0Ns"
      },
      "source": [
        "## **Define Model Architecture**\n",
        "**Create simpleCNN model class using PyTorch.**\n",
        "- Using `Conv2d()`,`ReLU()`,`Flatten()`,`Linear()`,`Sigmoid()`\n",
        "\n",
        "กำหนดโครงสร้างของ Model ดังนี้\n",
        "- ชั้นที่ 1 เป็น Hidden CNN Layer ชั้นที่ 1 ประกอบด้วย <br>\n",
        "Input (in_channels) = 1   (grayscale image 1 channel) <br>\n",
        "Output (out_channels) = 2 (Number of Cov nodes = 2 (L1N1, L1N2))<br>\n",
        "kernel_size = 3           (kernel size 3x3)<br>\n",
        "stride = 1                (conv every pixel)<br>\n",
        "padding = 1               (default zero padding)<br>\n",
        "\n",
        "- ชั้นที่ 2 เป็น Activation Function ของ Conv Layer ชั้นที่ 1 โดยเลือกใช้ ReLU\n",
        "- ชั้นที่ 3 เป็น Hidden CNN Layer ชั้นที่ 2 ประกอบด้วย <br>\n",
        "Input (in_channels) = 2   (out_channels จาก CNN Layer ก่อนหน้า) <br>\n",
        "Output (out_channels) = 2  (Number of Cov nodes = 2 (L2N1, L2N2))<br>\n",
        "kernel_size = 3           (kernel size 3x3)<br>\n",
        "stride = 1                (conv every pixel)<br>\n",
        "padding = 1               (default zero padding)<br>\n",
        "\n",
        "- ชั้นที่ 4 เป็น Activation Function ของ Cov layer ชั้นที่ 2 โดยเลือกใช้ ReLU เช่นกัน\n",
        "- ชั้นที่ 5 เป็น flatten เพื่อ reshape to 1D (flatten shape = number of all feature map elements จาก Activation function ก่อนหน้า=4x4x2) <br>\n",
        "- ชั้นที่ 6 เป็น Hidden Neural Layer ของชั้นที่ 1\n",
        "ประกอบด้วย <br>\n",
        "Input (in_channels) = 32   (out จาก flatten)<br>\n",
        "Output (out_channels) = 2  (Number of NN nodes = 2)<br>\n",
        "- ชั้นที่ 7 เป็น Activation Function ของ Neural Layer ชั้นที่ 1 โดยเลือกใช้ ReLU เช่นกัน\n",
        "- ชั้นที่ 8 เป็น Output Layer ประกอบด้วย <br>\n",
        "Input (in_channels) = 2   (out_channels จาก NN Layer ก่อนหน้า) <br>\n",
        "Output (out_channels) = 2  (Number of Cov nodes = 2)<br>\n",
        "- ชั้นที่ 9 เป็น Output Activation Function ของชั้นที่ 2 โดยเลือกใช้ Sigmoid เพื่อให้ได้ผลลัพธ์เป็นค่าในลักษณะของความน่าจะเป็น\n",
        "\n",
        "สังเกตว่ามิติ (Dimension) ของชั้นที่อยู่ติดกันจะต้องมิติที่เข้ากันได้\n",
        "\n",
        "เราสามารถสร้างฟังก์ชัน get_features เพื่อใช้ในการดึง Feature map ของแต่ละ conv node ออกมาวิเคราะห์ผลตอบสนองของ Kernel weights กับข้อมูลที่ถูก Forward pass node นั้น หาก Node ใด ไม่ตอบสนองไม่ว่าจะผ่านข้อมูลภาพแบบใด แสดงว่า conv node ไม่มีความจำเป็นกำจัดทิ้งได้ หากต้องการลดขนาดของ Layer หรืออาจจำเป็นต้องทำ Fine tuning เฉพาะ Layer เพิ่มเติม\n",
        "\n",
        "![image.png](https://github.com/NextGen-AI-Camp/curriculum/blob/main/Week%235/CNN%231/asset/SimpleCNN.PNG?raw=true)"
      ]
    },
    {
      "cell_type": "code",
      "execution_count": 7,
      "metadata": {
        "colab": {
          "base_uri": "https://localhost:8080/"
        },
        "id": "_EwFNh55h9TK",
        "outputId": "31572d56-3514-47fe-e094-d9d8512cbce0"
      },
      "outputs": [
        {
          "name": "stdout",
          "output_type": "stream",
          "text": [
            "SimpleCNN(\n",
            "  (conv1): Conv2d(1, 2, kernel_size=(3, 3), stride=(1, 1), padding=(1, 1))\n",
            "  (relu1): ReLU()\n",
            "  (conv2): Conv2d(2, 2, kernel_size=(3, 3), stride=(1, 1), padding=(1, 1))\n",
            "  (relu2): ReLU()\n",
            "  (flatten): Flatten(start_dim=1, end_dim=-1)\n",
            "  (fc): Linear(in_features=32, out_features=2, bias=True)\n",
            "  (relu3): ReLU()\n",
            "  (out): Linear(in_features=2, out_features=1, bias=True)\n",
            "  (sigmoid): Sigmoid()\n",
            ")\n"
          ]
        }
      ],
      "source": [
        "### START CODE HERE ###\n",
        "class SimpleCNN(nn.Module):\n",
        "    def __init__(self):\n",
        "        super(SimpleCNN, self).__init__()\n",
        "        self.conv1 = nn.Conv2d(in_channels=1, out_channels=2, kernel_size=3, stride=1, padding=1)\n",
        "        self.relu1 = nn.ReLU()\n",
        "        self.conv2 = nn.Conv2d(in_channels=2, out_channels=2, kernel_size=3, stride=1, padding=1)\n",
        "        self.relu2 = nn.ReLU()\n",
        "        self.flatten = nn.Flatten()\n",
        "        self.fc = nn.Linear(32,2)\n",
        "        self.relu3 = nn.ReLU()\n",
        "        self.out = nn.Linear(2,1)\n",
        "        self.sigmoid = nn.Sigmoid()\n",
        "\n",
        "\n",
        "    def get_features(self, x):\n",
        "        \"\"\"\n",
        "        Function to get the feature maps of the input\n",
        "        \"\"\"\n",
        "        x = self.conv1(x)\n",
        "        f1 = self.relu1(x)\n",
        "        x = self.conv2(f1)\n",
        "        f2 = self.relu2(x)\n",
        "        return f1,f2\n",
        "\n",
        "    def forward(self, x):\n",
        "        x = self.conv1(x)\n",
        "        x = self.relu1(x)\n",
        "        x = self.conv2(x)\n",
        "        x = self.relu2(x)\n",
        "        x = self.flatten(x)\n",
        "        x = self.fc(x)\n",
        "        x = self.relu3(x)\n",
        "        x = self.out(x)\n",
        "        x = self.sigmoid(x)\n",
        "        return x\n",
        "\n",
        "# Set the random seed for reproducible results\n",
        "torch.manual_seed(841)\n",
        "model = SimpleCNN().to(device)\n",
        "print(model)\n",
        "### END CODE HERE ###"
      ]
    },
    {
      "cell_type": "markdown",
      "metadata": {
        "id": "GvwucyTfiOAl"
      },
      "source": [
        "ถ้าการกำหนดโครงสร้างโมเดลถูกต้อง เซลล์นี้จะทำงานได้โดยไม่มีปัญหา"
      ]
    },
    {
      "cell_type": "code",
      "execution_count": 8,
      "metadata": {
        "colab": {
          "base_uri": "https://localhost:8080/"
        },
        "id": "-WOHNF6_iQlx",
        "outputId": "e0ba1b01-7e2f-47e4-dcee-15bbb0721824"
      },
      "outputs": [
        {
          "name": "stdout",
          "output_type": "stream",
          "text": [
            "You have successfully implemented a forward pass!\n"
          ]
        }
      ],
      "source": [
        "assert model(tensor_triangle.unsqueeze(1).float().to(device)).shape == torch.Size([1, 1])\n",
        "print(\"You have successfully implemented a forward pass!\")"
      ]
    },
    {
      "cell_type": "markdown",
      "metadata": {
        "id": "e4d2vYzciSo6"
      },
      "source": [
        "## **Train the model**\n",
        "\n",
        "หลังจากกระบวนการเทรน ตามจำนวน Epoch ที่กำหนด ให้แสดงกราฟค่า loss ของโมเดลในแต่ละ epoch\n",
        "\n",
        "กำหนด loss function และอัลกอรึทึมในการทำ Gradient Descent ในที่นี้จะใช้ Binary Cross Entropy เป็น Loss Function และ Stochastic Gradient Descent ในการหาจุดต่ำสุด กำหนด lr (learning rate) และ จำนวนรอบ epoch ในการ train\n",
        "\n",
        "ส่วนของการ Train จะทำทั้งหมด 10,000 รอบ\n",
        "- บรรทัด optimizer.zero_grad() คือการรีเซ็ทค่า gradient ให้เป็น 0 เพื่อจะได้เก็บค่า Loss ใหม่ตั้งแต่ 0 ของแต่ละ iteration\n",
        "- บรรทัด outputs = model(x) เป็นสั่งให้ทำงานใน forward pass\n",
        "- บรรทัด loss = criterion(outputs, y) เป็นการนำค่าผลลัพธ์จาก forward pass มาหา Loss\n",
        "- บรรทัด loss.backward() เป็นการสั่งให้ทำ backward pass ซึ่งจะได้ค่า gradient ของ weight แต่ละตัว\n",
        "- บรรทัด optimizer.step() คือ การสั่งให้ปรับ weight และ bias ของ training loop นี้\n",
        "\n",
        "จากนั้นในทุกๆ 100 รอบก็จะพิมพ์ผลมาดูครั้งหนึ่ง (ปรับเป็นค่าอื่นก็ได้)\n",
        "\n",
        "<details>\n",
        "\n",
        "<summary>\n",
        "<font size=\"3\" color=\"orange\">\n",
        "<b>Expected output</b>\n",
        "</font>\n",
        "</summary>\n",
        "\n",
        "- ผลลัพธ์ควรจะคล้ายกับรูปด้านล่างนี้ แต่ไม่จำเป็นต้องเหมือนกัน\n",
        "\n",
        "![image.png](https://github.com/NextGen-AI-Camp/curriculum/blob/main/Week%235/CNN%231/asset/Loss_over_epoches.png?raw=true)\n",
        "\n",
        "</details>"
      ]
    },
    {
      "cell_type": "code",
      "execution_count": 9,
      "metadata": {
        "colab": {
          "base_uri": "https://localhost:8080/"
        },
        "id": "nSESsbhAiVyG",
        "outputId": "7427e73f-7538-4dda-8f8e-f16291263657"
      },
      "outputs": [
        {
          "name": "stdout",
          "output_type": "stream",
          "text": [
            "[Epoch 100] Loss: 0.6817154884338379\n",
            "[Epoch 200] Loss: 0.6611222624778748\n",
            "[Epoch 300] Loss: 0.6282346844673157\n",
            "[Epoch 400] Loss: 0.5672623515129089\n",
            "[Epoch 500] Loss: 0.4785878658294678\n",
            "[Epoch 600] Loss: 0.39856597781181335\n",
            "[Epoch 700] Loss: 0.3491181433200836\n",
            "[Epoch 800] Loss: 0.315512478351593\n",
            "[Epoch 900] Loss: 0.28158697485923767\n",
            "[Epoch 1000] Loss: 0.2267603874206543\n",
            "[Epoch 1100] Loss: 0.13452422618865967\n",
            "[Epoch 1200] Loss: 0.0633760467171669\n",
            "[Epoch 1300] Loss: 0.033780522644519806\n",
            "[Epoch 1400] Loss: 0.021148990839719772\n",
            "[Epoch 1500] Loss: 0.014553536660969257\n",
            "[Epoch 1600] Loss: 0.010708310641348362\n",
            "[Epoch 1700] Loss: 0.008306740783154964\n",
            "[Epoch 1800] Loss: 0.006662529893219471\n",
            "[Epoch 1900] Loss: 0.005505356006324291\n",
            "[Epoch 2000] Loss: 0.004654432646930218\n",
            "[Epoch 2100] Loss: 0.003999795764684677\n",
            "[Epoch 2200] Loss: 0.0034895925782620907\n",
            "[Epoch 2300] Loss: 0.003082637209445238\n",
            "[Epoch 2400] Loss: 0.002748720347881317\n",
            "[Epoch 2500] Loss: 0.0024750533048063517\n",
            "[Epoch 2600] Loss: 0.0022435891442000866\n",
            "[Epoch 2700] Loss: 0.002047640969976783\n",
            "[Epoch 2800] Loss: 0.0018798788078129292\n",
            "[Epoch 2900] Loss: 0.0017348419642075896\n",
            "[Epoch 3000] Loss: 0.0016084278468042612\n",
            "[Epoch 3100] Loss: 0.0014974395744502544\n",
            "[Epoch 3200] Loss: 0.0013989354483783245\n",
            "[Epoch 3300] Loss: 0.0013110607396811247\n",
            "[Epoch 3400] Loss: 0.0012329949531704187\n",
            "[Epoch 3500] Loss: 0.0011621632147580385\n",
            "[Epoch 3600] Loss: 0.0010988058056682348\n",
            "[Epoch 3700] Loss: 0.0010408353991806507\n",
            "[Epoch 3800] Loss: 0.0009881244041025639\n",
            "[Epoch 3900] Loss: 0.0009403441799804568\n",
            "[Epoch 4000] Loss: 0.0008961550192907453\n",
            "[Epoch 4100] Loss: 0.0008555011008866131\n",
            "[Epoch 4200] Loss: 0.0008180512813851237\n",
            "[Epoch 4300] Loss: 0.0007834765710867941\n",
            "[Epoch 4400] Loss: 0.000751454965211451\n",
            "[Epoch 4500] Loss: 0.0007216822705231607\n",
            "[Epoch 4600] Loss: 0.0006939719896763563\n",
            "[Epoch 4700] Loss: 0.000668036169372499\n",
            "[Epoch 4800] Loss: 0.0006437368574552238\n",
            "[Epoch 4900] Loss: 0.0006210270803421736\n",
            "[Epoch 5000] Loss: 0.0005997506668791175\n",
            "[Epoch 5100] Loss: 0.0005796676850877702\n",
            "[Epoch 5200] Loss: 0.0005608632345683873\n",
            "[Epoch 5300] Loss: 0.0005431007011793554\n",
            "[Epoch 5400] Loss: 0.0005262312479317188\n",
            "[Epoch 5500] Loss: 0.0005102878785692155\n",
            "[Epoch 5600] Loss: 0.0004952314193360507\n",
            "[Epoch 5700] Loss: 0.0004809797974303365\n",
            "[Epoch 5800] Loss: 0.00046736138756386936\n",
            "[Epoch 5900] Loss: 0.00045445619616657495\n",
            "[Epoch 6000] Loss: 0.0004422520287334919\n",
            "[Epoch 6100] Loss: 0.0004304863978177309\n",
            "[Epoch 6200] Loss: 0.00041937222704291344\n",
            "[Epoch 6300] Loss: 0.0004087708657607436\n",
            "[Epoch 6400] Loss: 0.0003986112424172461\n",
            "[Epoch 6500] Loss: 0.00038889297866262496\n",
            "[Epoch 6600] Loss: 0.0003795463126152754\n",
            "[Epoch 6700] Loss: 0.0003707055584527552\n",
            "[Epoch 6800] Loss: 0.00036211960832588375\n",
            "[Epoch 6900] Loss: 0.000354008749127388\n",
            "[Epoch 7000] Loss: 0.0003460933221504092\n",
            "[Epoch 7100] Loss: 0.0003385373274795711\n",
            "[Epoch 7200] Loss: 0.00033130496740341187\n",
            "[Epoch 7300] Loss: 0.0003243626852054149\n",
            "[Epoch 7400] Loss: 0.0003176009049639106\n",
            "[Epoch 7500] Loss: 0.00031110510462895036\n",
            "[Epoch 7600] Loss: 0.0003049143997486681\n",
            "[Epoch 7700] Loss: 0.00029885140247642994\n",
            "[Epoch 7800] Loss: 0.00029302839539013803\n",
            "[Epoch 7900] Loss: 0.0002874572528526187\n",
            "[Epoch 8000] Loss: 0.0002819897490553558\n",
            "[Epoch 8100] Loss: 0.00027684326050803065\n",
            "[Epoch 8200] Loss: 0.0002717388269957155\n",
            "[Epoch 8300] Loss: 0.00026684196200221777\n",
            "[Epoch 8400] Loss: 0.00026210740907117724\n",
            "[Epoch 8500] Loss: 0.00025750193162821233\n",
            "[Epoch 8600] Loss: 0.00025308382464572787\n",
            "[Epoch 8700] Loss: 0.00024879779084585607\n",
            "[Epoch 8800] Loss: 0.00024460855638608336\n",
            "[Epoch 8900] Loss: 0.0002405377454124391\n",
            "[Epoch 9000] Loss: 0.00023665836488362402\n",
            "[Epoch 9100] Loss: 0.00023283102200366557\n",
            "[Epoch 9200] Loss: 0.00022914001601748168\n",
            "[Epoch 9300] Loss: 0.00022549106506630778\n",
            "[Epoch 9400] Loss: 0.0002219864254584536\n",
            "[Epoch 9500] Loss: 0.00021862327412236482\n",
            "[Epoch 9600] Loss: 0.00021532567916437984\n",
            "[Epoch 9700] Loss: 0.00021213914442341775\n",
            "[Epoch 9800] Loss: 0.00020897881768178195\n",
            "[Epoch 9900] Loss: 0.00020595832029357553\n",
            "[Epoch 10000] Loss: 0.00020296309958212078\n"
          ]
        }
      ],
      "source": [
        "### START CODE HERE ###\n",
        "epochs = 10000\n",
        "lr = 0.0028\n",
        "criterion = nn.BCELoss()\n",
        "optimizer = torch.optim.SGD(model.parameters(), lr=lr)\n",
        "loss_history = []\n",
        "for epoch in range(epochs):\n",
        "    for x,y in dataloader:\n",
        "        x = x.to(device)\n",
        "        y = y.to(device)\n",
        "\n",
        "        optimizer.zero_grad()\n",
        "        output = model(x.float())\n",
        "        loss = criterion(output, y.float())\n",
        "        loss.backward()\n",
        "        optimizer.step()\n",
        "        loss_history.append(loss.item())\n",
        "    if (epoch+1) % 100 == 0:\n",
        "        print(f'[Epoch {epoch+1}] Loss: {loss.item()}')\n",
        "### END CODE HERE ###"
      ]
    },
    {
      "cell_type": "markdown",
      "metadata": {
        "id": "CtgYJG6x1pOa"
      },
      "source": [
        "แสดงกราฟค่า Loss ทุก epoch ที่บันทึกเก็บไว้"
      ]
    },
    {
      "cell_type": "code",
      "execution_count": 10,
      "metadata": {
        "colab": {
          "base_uri": "https://localhost:8080/",
          "height": 487
        },
        "id": "mjjSVGIm-xto",
        "outputId": "c73873c0-8e60-4690-b072-25c65bb52f33"
      },
      "outputs": [
        {
          "data": {
            "text/plain": [
              "[<matplotlib.lines.Line2D at 0x7ab49c17c340>]"
            ]
          },
          "execution_count": 10,
          "metadata": {},
          "output_type": "execute_result"
        },
        {
          "data": {
            "image/png": "[encoded data removed]",
            "text/plain": [
              "<Figure size 1000x600 with 1 Axes>"
            ]
          },
          "metadata": {},
          "output_type": "display_data"
        }
      ],
      "source": [
        "### START CODE HERE ###\n",
        "plt.figure(figsize=(10, 6))\n",
        "plt.title('Loss over epochs')\n",
        "plt.plot(loss_history)\n",
        "### END CODE HERE ###"
      ]
    },
    {
      "cell_type": "markdown",
      "metadata": {
        "id": "sffkL7O1Nrvj"
      },
      "source": [
        "## **Print model's weight**\n",
        "\n",
        "เราสามารถใช้ `torch.save()` เพื่อ save model และ ใช้ model.state_dict() เพื่อเข้าถึง dictionary ของ array ของ weights (ค่าสัมประสิทธิใน kernel mask) และ bias ของแต่ละ node จะเรียงตามลำดับ layer กำกับด้วยชื่อ layer.parameter  \n",
        "\n",
        "<details>\n",
        "\n",
        "<summary>\n",
        "<font size=\"3\" color=\"orange\">\n",
        "<b>Expected output</b>\n",
        "</font>\n",
        "</summary>\n",
        "\n",
        "- ผลลัพธ์ควรจะคล้ายกับนี้ แต่ไม่จำเป็นต้องเหมือนกัน\n",
        "\n",
        "```\n",
        "OrderedDict([('conv1.weight',\n",
        "              tensor([...], device='cuda:0')),\n",
        "             ('conv1.bias', tensor([...], device='cuda:0')),\n",
        "             ('conv2.weight',\n",
        "              ...\n",
        "             ('out.weight', tensor([...], device='cuda:0')),\n",
        "             ('out.bias', tensor([...], device='cuda:0'))])\n",
        "```\n",
        "\n",
        "</details>"
      ]
    },
    {
      "cell_type": "code",
      "execution_count": 16,
      "metadata": {
        "colab": {
          "base_uri": "https://localhost:8080/"
        },
        "id": "_Qsuu6_mNpRi",
        "outputId": "e7e8a066-e1a5-46a2-8a95-089b7f0215ac"
      },
      "outputs": [
        {
          "data": {
            "text/plain": [
              "OrderedDict([('conv1.weight',\n",
              "              tensor([[[[ 0.4178,  0.3936,  0.0348],\n",
              "                        [ 0.1918, -0.3002, -0.3480],\n",
              "                        [ 0.0229, -0.1447, -0.0315]]],\n",
              "              \n",
              "              \n",
              "                      [[[-0.1744,  0.0069,  0.2229],\n",
              "                        [ 0.3050,  0.4549,  0.2327],\n",
              "                        [-0.1438,  0.4869,  0.5488]]]], device='cuda:0')),\n",
              "             ('conv1.bias', tensor([-0.1141,  0.1048], device='cuda:0')),\n",
              "             ('conv2.weight',\n",
              "              tensor([[[[ 0.1378,  0.0572, -0.3133],\n",
              "                        [-0.1260, -0.0546, -0.3380],\n",
              "                        [-0.1682, -0.1877, -0.0948]],\n",
              "              \n",
              "                       [[-0.0245,  0.2931,  0.3160],\n",
              "                        [ 0.2575,  0.5127,  0.3996],\n",
              "                        [-0.0087,  0.1811,  0.2367]]],\n",
              "              \n",
              "              \n",
              "                      [[[-0.0150, -0.0864, -0.0030],\n",
              "                        [-0.0923,  0.0210,  0.1223],\n",
              "                        [-0.2476,  0.2070,  0.2269]],\n",
              "              \n",
              "                       [[ 0.1747, -0.0700, -0.0095],\n",
              "                        [ 0.1722, -0.0069,  0.0262],\n",
              "                        [ 0.2567,  0.0610, -0.2749]]]], device='cuda:0')),\n",
              "             ('conv2.bias', tensor([0.1120, 0.2151], device='cuda:0')),\n",
              "             ('fc.weight',\n",
              "              tensor([[ 0.1310,  0.1895,  0.1122, -0.1612,  0.1287,  0.3490,  0.2100, -0.1016,\n",
              "                        0.1889,  0.1603,  0.1269,  0.0589, -0.0352, -0.1943, -0.1181,  0.0995,\n",
              "                        0.1407, -0.0473,  0.1358,  0.0456, -0.0381,  0.0529,  0.1159,  0.2062,\n",
              "                        0.0771, -0.0283, -0.0631,  0.1670,  0.1502, -0.0748,  0.0958,  0.0933],\n",
              "                      [-0.2575, -0.0529,  0.2321,  0.2394, -0.2811,  0.0211,  0.1177,  0.1897,\n",
              "                       -0.1148,  0.2564,  0.2808,  0.1739,  0.2777,  0.3762,  0.1801,  0.1111,\n",
              "                        0.1781, -0.1182, -0.2916,  0.0185,  0.0307, -0.0519, -0.1203,  0.2135,\n",
              "                        0.1317, -0.2394, -0.0793,  0.2401,  0.0026, -0.0737,  0.1028,  0.0075]],\n",
              "                     device='cuda:0')),\n",
              "             ('fc.bias', tensor([-0.0721, -0.1180], device='cuda:0')),\n",
              "             ('out.weight', tensor([[ 0.5076, -0.9841]], device='cuda:0')),\n",
              "             ('out.bias', tensor([0.3816], device='cuda:0'))])"
            ]
          },
          "execution_count": 16,
          "metadata": {},
          "output_type": "execute_result"
        }
      ],
      "source": [
        "### START CODE HERE ###\n",
        "torch.save(model.state_dict(), 'model.pth')\n",
        "model.state_dict()\n",
        "### END CODE HERE ###"
      ]
    },
    {
      "cell_type": "markdown",
      "metadata": {
        "id": "Fvn6n2ifOqtK"
      },
      "source": [
        "### **แสดง Feature map ของฟิลเตอร์แต่ละตัวของโมเดลด้วยข้อมูลอินพุต 2 คลาส**\n",
        "\n",
        "- Use `.get_features()`\n",
        "\n",
        "<details>\n",
        "\n",
        "<summary>\n",
        "<font size=\"3\" color=\"orange\">\n",
        "<b>Expected output</b>\n",
        "</font>\n",
        "</summary>\n",
        "\n",
        "- ผลลัพธ์ควรจะคล้ายกับนี้ แต่ไม่จำเป็นต้องเหมือนกัน\n",
        "\n",
        "![image.png](https://github.com/NextGen-AI-Camp/curriculum/blob/main/Week%235/CNN%231/asset/feature%20map.png?raw=true)\n",
        "\n",
        "</details>"
      ]
    },
    {
      "cell_type": "code",
      "execution_count": 17,
      "metadata": {
        "colab": {
          "base_uri": "https://localhost:8080/",
          "height": 358
        },
        "id": "orTla4CWO9Gh",
        "outputId": "69415ba8-ee30-447c-f7bf-ea441a6034ce"
      },
      "outputs": [
        {
          "data": {
            "image/png": "[encoded data removed]",
            "text/plain": [
              "<Figure size 1200x600 with 8 Axes>"
            ]
          },
          "metadata": {},
          "output_type": "display_data"
        }
      ],
      "source": [
        "### START CODE HERE ###\n",
        "\n",
        "conv1_triangle, conv2_triangle = model.get_features(tensor_triangle.unsqueeze(1).float().to(device))\n",
        "conv1_square, conv2_square = model.get_features(tensor_square.unsqueeze(1).float().to(device))\n",
        "\n",
        "plt.figure(figsize=(12, 6))\n",
        "\n",
        "feature_maps = [conv1_triangle, conv2_triangle, conv1_square, conv2_square]\n",
        "titles = ['Conv layer1', 'Conv layer2']\n",
        "\n",
        "for i, feature_map in enumerate(feature_maps):\n",
        "\n",
        "    plt.subplot(2, 4, i + 1)\n",
        "    plt.xticks([])\n",
        "    plt.yticks([])\n",
        "    plt.imshow(feature_map[0, 0].squeeze().cpu().detach().numpy(), cmap='gray')\n",
        "    if i == 0:\n",
        "        plt.ylabel('\\n—————— Triangle ——————', fontsize=20,y=-0.25)\n",
        "    elif i == 2:\n",
        "        plt.ylabel('\\n—————— Square ——————', fontsize=20,y=-0.25)\n",
        "    plt.title(titles[i%2!=0])\n",
        "\n",
        "    plt.subplot(2, 4, i + 5)\n",
        "    plt.xticks([])\n",
        "    plt.yticks([])\n",
        "    plt.imshow(feature_map[0, 1].squeeze().cpu().detach().numpy(), cmap='gray')\n",
        "    plt.title(titles[i%2!=0])\n",
        "plt.tight_layout()\n",
        "plt.show()\n",
        "\n",
        "### END CODE HERE ###"
      ]
    },
    {
      "cell_type": "markdown",
      "metadata": {
        "id": "TRjrmksSQe_C"
      },
      "source": [
        "## **Model Evaluation.**\n",
        "\n",
        "- **สร้างภาพสองภาพ:** หนึ่งสำหรับสี่เหลี่ยมและอีกหนึ่งสำหรับสามเหลี่ยม<br>\n",
        "แต่ละภาพควรมีขนาด 4x4 พิกเซลด้วยค่าตามที่แสดงด้านล่าง<br>\n",
        "จากนั้นนำมันมาซ้อนเป็นเทนเซอร์เช่น `torch.tensor([<square tensor>,<triangle tensor>])`.\n",
        "\n",
        "- **สร้าง label**: ให้ตรงกับแต่ละภาพ โดยใช้ 1 สำหรับสี่เหลี่ยมจัตุรัสและ 0 สำหรับสามเหลี่ยม<br>\n",
        "\n",
        "\n"
      ]
    },
    {
      "cell_type": "code",
      "execution_count": 26,
      "metadata": {
        "colab": {
          "base_uri": "https://localhost:8080/"
        },
        "id": "QIXYGWBhP0ut",
        "outputId": "2cf5d407-e689-4530-9087-db655c0734ac"
      },
      "outputs": [
        {
          "data": {
            "text/plain": [
              "<All keys matched successfully>"
            ]
          },
          "execution_count": 26,
          "metadata": {},
          "output_type": "execute_result"
        }
      ],
      "source": [
        "### START CODE HERE ###\n",
        "model.load_state_dict(torch.load('model.pth'))\n",
        "### END CODE HERE ###"
      ]
    },
    {
      "cell_type": "code",
      "execution_count": 27,
      "metadata": {
        "colab": {
          "base_uri": "https://localhost:8080/",
          "height": 284
        },
        "id": "QrMEfJwpQbxd",
        "outputId": "d2fd0f98-4859-4e90-b903-88590dafe8ad"
      },
      "outputs": [
        {
          "data": {
            "image/png": "[encoded data removed]",
            "text/plain": [
              "<Figure size 640x480 with 2 Axes>"
            ]
          },
          "metadata": {},
          "output_type": "display_data"
        }
      ],
      "source": [
        "### START CODE HERE ###\n",
        "square_test = [[[1,1,1,1],\n",
        "          [1,2,2,1],\n",
        "          [1,2,2,1],\n",
        "          [1,1,1,1]]]\n",
        "triangle_test = [[[1,1,1,2],\n",
        "            [1,1,2,2],\n",
        "            [1,2,2,2],\n",
        "            [2,2,2,2]]]\n",
        "\n",
        "tensor_square_test = torch.tensor(square_test)\n",
        "tensor_triangle_test = torch.tensor(triangle_test)\n",
        "\n",
        "labels_square_test = torch.tensor([1])\n",
        "labels_triangle_test = torch.tensor([0])\n",
        "\n",
        "test_data_tensors = torch.stack([tensor_square_test, tensor_triangle_test])\n",
        "test_data_labels = torch.stack([labels_square_test, labels_triangle_test])\n",
        "\n",
        "plt.subplot(1, 2, 1)\n",
        "plt.axis('off')\n",
        "plt.imshow(tensor_square_test[0])\n",
        "plt.title('Square')\n",
        "for i in range(tensor_square_test.shape[1]):\n",
        "    for j in range(tensor_square_test.shape[2]):\n",
        "        plt.text(j, i, tensor_square_test[0, i, j].item(), ha='center', va='center', color='white')\n",
        "\n",
        "plt.subplot(1, 2, 2)\n",
        "plt.axis('off')\n",
        "plt.imshow(tensor_triangle_test[0])\n",
        "plt.title('Triangle')\n",
        "for i in range(tensor_triangle_test.shape[1]):\n",
        "    for j in range(tensor_triangle_test.shape[2]):\n",
        "        plt.text(j, i, tensor_triangle_test[0, i, j].item(), ha='center', va='center', color='white')\n",
        "\n",
        "plt.show()\n",
        "### END CODE HERE ###"
      ]
    },
    {
      "cell_type": "markdown",
      "metadata": {
        "id": "2ePsvfpNRcfl"
      },
      "source": [
        "If your code is correct, this cell will execute without any issues."
      ]
    },
    {
      "cell_type": "code",
      "execution_count": 20,
      "metadata": {
        "colab": {
          "base_uri": "https://localhost:8080/"
        },
        "id": "uZniORJNRW15",
        "outputId": "9568aec8-31c9-4ffe-82e8-da70bd0b5ee2"
      },
      "outputs": [
        {
          "name": "stdout",
          "output_type": "stream",
          "text": [
            "You have successfully created the data_tensors!\n"
          ]
        }
      ],
      "source": [
        "assert data_tensors.shape == torch.Size([2, 1, 4, 4])\n",
        "assert data_labels.shape == torch.Size([2, 1])\n",
        "print(\"You have successfully created the data_tensors!\")"
      ]
    },
    {
      "cell_type": "markdown",
      "metadata": {
        "id": "bL2y6OTFRk0z"
      },
      "source": [
        "**Show feature maps of each model's filters with 2 classes of test data.**\n",
        "\n",
        "- Use `.get_features()`\n",
        "\n",
        "<details>\n",
        "\n",
        "<summary>\n",
        "<font size=\"3\" color=\"orange\">\n",
        "<b>Expected output</b>\n",
        "</font>\n",
        "</summary>\n",
        "\n",
        "- The output should resemble this, but not be identical.\n",
        "\n",
        "![image.png](https://github.com/NextGen-AI-Camp/curriculum/blob/main/Week%235/CNN%231/asset/feature%20map%20evaluation.png?raw=true)\n",
        "\n",
        "</details>"
      ]
    },
    {
      "cell_type": "code",
      "execution_count": 21,
      "metadata": {
        "colab": {
          "base_uri": "https://localhost:8080/",
          "height": 610
        },
        "id": "WQ1pNyBc1sZI",
        "outputId": "f8b99c2f-842a-4e32-92eb-b7a4032ca5ea"
      },
      "outputs": [
        {
          "data": {
            "image/png": "[encoded data removed]",
            "text/plain": [
              "<Figure size 1200x600 with 8 Axes>"
            ]
          },
          "metadata": {},
          "output_type": "display_data"
        }
      ],
      "source": [
        "### START CODE HERE ###\n",
        "conv1_triangle, conv2_triangle = model.get_features(tensor_triangle_test.unsqueeze(1).float().to(device))\n",
        "conv1_square, conv2_square = model.get_features(tensor_square_test.unsqueeze(1).float().to(device))\n",
        "\n",
        "plt.figure(figsize=(12, 6))\n",
        "\n",
        "feature_maps = [conv1_triangle, conv2_triangle, conv1_square, conv2_square]\n",
        "titles = ['Conv layer1', 'Conv layer2']\n",
        "\n",
        "for i, feature_map in enumerate(feature_maps):\n",
        "    plt.subplot(2, 4, i + 1)\n",
        "    plt.xticks([])\n",
        "    plt.yticks([])\n",
        "    plt.imshow(feature_map[0, 0].squeeze().cpu().detach().numpy(), cmap='gray')\n",
        "    if i == 0:\n",
        "        plt.ylabel('\\n—————— Triangle ——————', fontsize=20,y=-0.25)\n",
        "    elif i == 2:\n",
        "        plt.ylabel('\\n—————— Square ——————', fontsize=20,y=-0.25)\n",
        "    plt.title(titles[i%2!=0])\n",
        "\n",
        "    plt.subplot(2, 4, i + 5)\n",
        "    plt.xticks([])\n",
        "    plt.yticks([])\n",
        "    plt.imshow(feature_map[0, 1].squeeze().cpu().detach().numpy(), cmap='gray')\n",
        "    plt.title(titles[i%2!=0])\n",
        "plt.tight_layout()\n",
        "plt.show()\n",
        "### END CODE HERE ###"
      ]
    },
    {
      "cell_type": "markdown",
      "metadata": {
        "id": "z9DkwVytue0e"
      },
      "source": [
        "### **การประเมิน model โดยใช้ confusion matrix**\n",
        "\n",
        "ในการประเมิน model จะมีอยู่ด้วยกันหลายวิธีการ วิธีการหนึ่งเรียกว่า confusion matrix ซึ่งมักจะใช้กับงานที่เป็น Classification วิธีการ คือ นำผลการทำนาย กับ label หรือข้อมูลจริงทุกข้อมูล มาเทียบกัน และ plot เป็น matrix ซึ่งข้อมูลที่ทำนายถูกต้องจะอยู่ตรงเส้นทะแยงมุม และจะทำให้เห็นว่าข้อมูลที่ผิด มักจะผิดที่ตัวใดบ้าง ซึ่งอาจจะนำข้อมูลนี้มาปรับปรุงโมเดลต่อไป\n",
        "\n",
        "นอกเหนือจากการใช้ confusion matrix ก็จะมีการประเมินต่างๆ ที่ควรจะรู้จักดังนี้\n",
        "- Precision (ความแม่นยำ): เปอร์เซ็นต์ของตัวอย่างที่ทำนายว่าเป็นบวกที่เป็นบวกจริง คำนวณจาก $\\frac{True Positives} { (True Positives+False Positives)}$\n",
        "\n",
        "- Recall (ความครอบคลุม): เปอร์เซ็นต์ของตัวอย่างบวกที่ถูกทำนายถูกต้อง คำนวณจาก $\\frac{True Positives} { (True Positives+False Negatives)}$\n",
        "\n",
        "- F1-Score: ค่าคะแนนที่เป็น Harmonic Mean ระหว่าง Precision และ Recall คำนวณจาก $\\frac{2 (Precision×Recall​)}{(Precision+Recall)}$\n",
        "\n",
        "<img src=https://miro.medium.com/v2/resize:fit:1334/format:webp/1*3yGLac6F4mTENnj5dBNvNQ.jpeg>\n",
        "\n",
        "source: \"https://miro.medium.com/v2/resize:fit:1334/format:webp/1*3yGLac6F4mTENnj5dBNvNQ.jpeg\""
      ]
    },
    {
      "cell_type": "code",
      "execution_count": 22,
      "metadata": {
        "colab": {
          "base_uri": "https://localhost:8080/",
          "height": 605
        },
        "id": "vqcNIUtER94b",
        "outputId": "1425d3c5-e4a1-488f-9f1a-97b9c11f2679"
      },
      "outputs": [
        {
          "name": "stdout",
          "output_type": "stream",
          "text": [
            "predicted_label: [1. 0.]\n",
            "true_labels: [1 0]\n"
          ]
        },
        {
          "data": {
            "image/png": "[encoded data removed]",
            "text/plain": [
              "<Figure size 600x400 with 2 Axes>"
            ]
          },
          "metadata": {},
          "output_type": "display_data"
        },
        {
          "name": "stdout",
          "output_type": "stream",
          "text": [
            "              precision    recall  f1-score   support\n",
            "\n",
            "           0       1.00      1.00      1.00         1\n",
            "           1       1.00      1.00      1.00         1\n",
            "\n",
            "    accuracy                           1.00         2\n",
            "   macro avg       1.00      1.00      1.00         2\n",
            "weighted avg       1.00      1.00      1.00         2\n",
            "\n"
          ]
        }
      ],
      "source": [
        "### START CODE HERE ###\n",
        "predictions = model(test_data_tensors.float().to(device))\n",
        "predicted_labels = (predictions > 0.5).float().cpu().detach().numpy().flatten()\n",
        "true_labels = test_data_labels.cpu().numpy().flatten()\n",
        "print('predicted_label:',predicted_labels)\n",
        "print('true_labels:',true_labels)\n",
        "\n",
        "cm = confusion_matrix(true_labels, predicted_labels)\n",
        "\n",
        "plt.figure(figsize=(6, 4))\n",
        "sns.heatmap(cm, annot=True, cmap='Blues', fmt='d', xticklabels=['Triangle', 'Square'], yticklabels=['Triangle', 'Square'])\n",
        "plt.title('Confusion Matrix')\n",
        "plt.xlabel('Predicted')\n",
        "plt.ylabel('True')\n",
        "plt.show()\n",
        "\n",
        "print(classification_report(true_labels, predicted_labels))\n",
        "### END CODE HERE ###"
      ]
    }
  ],
  "metadata": {
    "accelerator": "GPU",
    "colab": {
      "gpuType": "T4",
      "provenance": [],
      "toc_visible": true
    },
    "kernelspec": {
      "display_name": "Python 3",
      "name": "python3"
    },
    "language_info": {
      "codemirror_mode": {
        "name": "ipython",
        "version": 3
      },
      "file_extension": ".py",
      "mimetype": "text/x-python",
      "name": "python",
      "nbconvert_exporter": "python",
      "pygments_lexer": "ipython3",
      "version": "3.11.2"
    }
  },
  "nbformat": 4,
  "nbformat_minor": 0
}
