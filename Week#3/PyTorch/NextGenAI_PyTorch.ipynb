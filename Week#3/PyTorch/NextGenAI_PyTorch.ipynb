{
  "cells": [
    {
      "cell_type": "markdown",
      "metadata": {
        "id": "jSNK7duj5SeU"
      },
      "source": [
        "# 00. PyTorch Fundamentals\n",
        "\n",
        "## อะไรคือ PyTorch?\n",
        "\n",
        "[PyTorch](https://pytorch.org/) เป็น open source machine learning and deep learning framework.\n",
        "\n",
        "## Pytorch ใช้สำหรับทำอะไร?\n",
        "\n",
        "PyTorch ช่วยให้สามารถจัดการและประมวลผลข้อมูลและเขียนอัลกอริธึมการเรียนรู้ของเครื่องโดยใช้โค้ดภาษา Python\n",
        "\n",
        "## ใครบ้างที่ใช้ Pytorch?\n",
        "\n",
        "บริษัทเทคโนโลยีรายใหญ่ของโลกหลายแห่ง เช่น Meta (Facebook), Tesla และ Microsoft รวมถึงบริษัทวิจัยปัญญาประดิษฐ์ เช่น OpenAI ใช้ PyTorch เพื่อในการ Research แทบทั้งหมด\n",
        "\n",
        "![PyTorch ถูกใช้อย่างแพร่หลายในอุตสาหกรรมและการวิจัย](https://raw.githubusercontent.com/mrdbourke/pytorch-deep-learning/main/images/00-pytorch-being-used-across-research-and-industry.png)\n",
        "\n",
        "ตัวอย่างเช่น Andrej Karpathy (หัวหน้าฝ่าย AI ที่ Tesla) ได้กล่าวสุนทรพจน์หลายครั้ง ([PyTorch DevCon 2019](https://youtu.be/oBklltKXtDE), [Tesla AI Day 2021](https://youtu.be/j0z4FweCy4M?t=2904)) เกี่ยวกับวิธีที่ Tesla ใช้ PyTorch ในงานของ computer vision สำหรับรถขับเคลื่อนอัตโนมัติ\n",
        "\n",
        "\n",
        "PyTorch ยังถูกใช้งานในอุตสาหกรรมอื่น ๆ เช่น การเกษตรเพื่อ [Computer vision บนรถแทรกเตอร์](https://medium.com/pytorch/ai-for-ag-production-machine-learning-for-agriculture-e8cfdb9849a1).\n",
        "\n",
        "## ทำไมต้อง PyTorch?\n",
        "\n",
        "นักวิจัยด้านการ Macinhe Learning นิยมใช้ PyTorch โดยนับตั้งแต่เดือนกุมภาพันธ์ 2022 PyTorch เป็น [framework machine learning ที่ถูกใช้งานมากที่สุดบน Papers With Code](https://paperswithcode.com/trends), เป็นเว็บไซต์สำหรับติดตามงานวิจัยด้าน machine learning และที่เก็บโค้ดที่แนบมากับงานวิจัยเหล่านั้น\n",
        "\n",
        "PyTorch ยังช่วยใน optimize ภายในตัว เช่น การเร่งความเร็วด้วย GPU (ทำให้โค้ดทำงานได้เร็วขึ้น)\n",
        "\n",
        "\n",
        "ดังนั้นคุณจึงสามารถมุ่งเน้นไปที่การจัดการข้อมูลและการเขียนอัลกอริธึมได้ และ PyTorch จะช่วยให้มั่นใจว่าโค้ดของคุณทำงานได้อย่างรวดเร็ว\n",
        "\n",
        "และหากบริษัทอย่าง Tesla และ Meta (Facebook) ใช้ PyTorch เพื่อสร้างโมเดลที่นำไปใช้ในแอปพลิเคชันหลายร้อยแอป ขับเคลื่อนรถยนต์นับพันคัน และได้ใช้กับโปรเจคอื่นๆ รวมเป็นผู้คนนับพันล้านคน แสดงว่า PyTorch มีความสามารถในด้านการพัฒนาอย่างชัดเจนเช่นกัน\n",
        "\n",
        "## สิ่งที่เราจะมาเรียนรู้กัน\n",
        "\n",
        "\n",
        "คอร์สนี้ถูกแบ่งออกเป็นส่วนต่าง ๆ (Notebook)\n",
        "\n",
        "แต่ละ Notebook จะครอบคลุมถึงแนวคิดและแนวความคิดที่สำคัญภายใน PyTorch โน้ตบุ๊กต่อมาจะพัฒนาความรู้จากโน้ตบุ๊กก่อนหน้า (เริ่มต้นที่ 00, 01, 02 เรื่อยๆ)\n",
        "\n",
        "Notebook นี้เกี่ยวกับหลักสูตรพื้นฐานของ Machine Learning และ Deep Learning ที่ชื่อว่า Tensor\n",
        "\n",
        "โดยเฉพาะเราจะพูดถึง:\n",
        "\n",
        "| **Topic** | **Contents** |\n",
        "| ----- | ----- |\n",
        "| **Introducing tensors** | Tensors เป็นหลักประกอบพื้นฐานของ machine learning and deep learning. |\n",
        "| **How to create tensors** | Tensors สามารถ represent ข้อมูลได้แทบทุกอย่าง  (รูป, คำ, ตารางข้อมูลตัวเลข). |\n",
        "| **Getting information from tensors** | Tensor สามารถเอาข้อมูลใส่ลงไปได้ และ เอาข้อมูลออกมาได้เช่นกัน |\n",
        "| **Manipulating tensors** | Machine learning algorithms (เช่น neural networks) เกิดจากการรวมตัวของ operation ใน tensor เช่น adding, multiplying, combining. |\n",
        "| **Dealing with tensor shapes** | ปัญหาที่เวลาใช้ tensor ส่วนใหญ่จะเจอเป็น Shape mismatch (พยายามที่จะรวม tensor ที่ shape ไม่ตรงกันเข้าด้วยกัน). |\n",
        "| **Indexing on tensors** | ถ้าหากเคยใช้ indexed on a Python list or NumPy array แล้วมันก็จะคล้ายกับ tensors อย่างมากแต่ต่างกันตรงที่ tensors จะมีมิติมากกว่ามากๆ |\n",
        "| **Mixing PyTorch tensors and NumPy** | ใน PyTorch เราสามารถเล่นกับ tensors ([`torch.Tensor`](https://pytorch.org/docs/stable/tensors.html)) หรือ tensor NumPy arrays ([`np.ndarray`](https://numpy.org/doc/stable/reference/generated/numpy.ndarray.html)) โดยเราสามารถเอามาใช้ด้วยกันได้|\n",
        "| **Reproducibility** | Machine learning ส่วนใหญ่เกิดจากการ *ส่มค่า* แต่ว่ามีทีเราต้องการที่จะเปลี่ยนการ *สุ่มค่า* ให้ไม่ random 100%|\n",
        "\n",
        "## ถ้าติดปัญหาทำยังไง?\n",
        "\n",
        "todo แปะลิ้ง:\n",
        "\n",
        "\n",
        "\n",
        "สามารถถามได้ที่ [Discussions page](https://github.com/mrdbourke/pytorch-deep-learning/discussions)\n",
        "\n",
        "และ [PyTorch developer forums](https://discuss.pytorch.org/), สำหรับการอ่าน forum ที่เคยเจอ bug คล้ายๆกัน"
      ]
    },
    {
      "cell_type": "markdown",
      "metadata": {
        "id": "5v3iRCRUTGeu"
      },
      "source": [
        "## Importing PyTorch\n",
        "\n",
        "> **Note:** ก่อนที่จะรันโค้ดใน notebook นี้แนะนำว่าให้ดู Docs ของ pytorch ด้วย [PyTorch setup steps](https://pytorch.org/get-started/locally/).\n",
        ">\n",
        "> แต่ว่า, **ถ้ารันใน Google Colab หรือ Kaggle**, ก็รันได้เลยเพราะมี env มาให้แล้ว.\n",
        "\n",
        "มาเริ่มกันที่การเช็คเวอร์ชั่นของ pytorch"
      ]
    },
    {
      "cell_type": "code",
      "execution_count": null,
      "metadata": {
        "colab": {
          "base_uri": "https://localhost:8080/",
          "height": 36
        },
        "id": "1VxEOik46Y4i",
        "outputId": "7cb33261-762e-4206-cd01-13c7d899f1f2"
      },
      "outputs": [
        {
          "output_type": "execute_result",
          "data": {
            "text/plain": [
              "'2.3.0+cu121'"
            ],
            "application/vnd.google.colaboratory.intrinsic+json": {
              "type": "string"
            }
          },
          "metadata": {},
          "execution_count": 1
        }
      ],
      "source": [
        "import torch\n",
        "torch.__version__"
      ]
    },
    {
      "cell_type": "markdown",
      "metadata": {
        "id": "i-33BKR16iWc"
      },
      "source": [
        "## Introduction to tensors\n",
        "\n",
        "หลังจากที่เรา import pytorch มาแล้ว, ได้เวลาที่จะเรียนเกี่ยวกับ Tensors\n",
        "\n",
        "Tensors เป็นพื้นฐานสุดๆ สำหรับการสร้าง machine learning\n",
        "\n",
        "มีไว้สำหรับ represent ข้อมูลต่างๆให้เป็นรูปแบบของตัวเลข\n",
        "\n",
        "ยกตัวอย่างเช่น, รูปภาพสามารถแปลงเป็น tensor ที่มี shape `[3, 224, 224]` นั่นหมายถึง `[colour_channels (RGB), ความสูง, ความกว้าง]`, ก็คือรูปมี `3` colour channels (red, green, blue), สูง`224` pixels  และกว้าง `224` pixels.\n",
        "\n",
        "![example of going from an input image to a tensor representation of the image, image gets broken down into 3 colour channels as well as numbers to represent the height and width](https://raw.githubusercontent.com/mrdbourke/pytorch-deep-learning/main/images/00-tensor-shape-example-of-image.png)\n",
        "\n"
      ]
    },
    {
      "cell_type": "markdown",
      "metadata": {
        "id": "gFF0N2TU7S7Q"
      },
      "source": [
        "### Creating tensors\n",
        "\n",
        "ถ้าน้องๆสนใจก็สามารถอ่าน docs เพิ่มเติมได้ [documentation `torch.Tensor`](https://pytorch.org/docs/stable/tensors.html).\n",
        "\n",
        "\n",
        "\n",
        "สิ่งแรกที่เราจะมาสร้างกันก็คือ **scalar**.\n",
        "\n",
        "Scalar เป็นตัวเลขตัวเดียว ถ้ามองในมุมของ tensor จะมี dimension เป็น 0"
      ]
    },
    {
      "cell_type": "code",
      "execution_count": null,
      "metadata": {
        "colab": {
          "base_uri": "https://localhost:8080/"
        },
        "id": "YUDgG2zk7Us5",
        "outputId": "b949dde1-ed65-43c5-e6e9-41fc761a41c0"
      },
      "outputs": [
        {
          "output_type": "execute_result",
          "data": {
            "text/plain": [
              "tensor(7)"
            ]
          },
          "metadata": {},
          "execution_count": 2
        }
      ],
      "source": [
        "# Scalar\n",
        "scalar = torch.tensor(7)\n",
        "scalar"
      ]
    },
    {
      "cell_type": "markdown",
      "metadata": {
        "id": "JqSuhW7rTGey"
      },
      "source": [
        "สังเกตว่าจะได้ output เป็น `tensor(7)`?\n",
        "\n",
        "นั่นหมายถึง `scalar` เป็นเลขที่เป็น type ของ `torch.Tensor`.\n",
        "\n",
        "We can check the dimensions of a tensor using the `ndim` attribute."
      ]
    },
    {
      "cell_type": "code",
      "execution_count": null,
      "metadata": {
        "colab": {
          "base_uri": "https://localhost:8080/"
        },
        "id": "lV98Yz868bav",
        "outputId": "bf0fc4a8-a5b7-4f16-8297-6b4013c850f8"
      },
      "outputs": [
        {
          "output_type": "execute_result",
          "data": {
            "text/plain": [
              "0"
            ]
          },
          "metadata": {},
          "execution_count": 3
        }
      ],
      "source": [
        "scalar.ndim"
      ]
    },
    {
      "cell_type": "markdown",
      "metadata": {
        "id": "ZO2YW_QGTGez"
      },
      "source": [
        "ถ้าเราอยากจะแค่เอาตัวเลขจาก tensor ละ?\n",
        "\n",
        "\n",
        "โดยการแปลง `torch.Tensor` ให้เป้น integer ใน python\n",
        "\n",
        "เราสามารถใช่คำสั่ง item() ได้"
      ]
    },
    {
      "cell_type": "code",
      "execution_count": null,
      "metadata": {
        "colab": {
          "base_uri": "https://localhost:8080/"
        },
        "id": "-k4cyKumPfbE",
        "outputId": "05876720-ea16-4055-adb6-1b9e030c9a8a"
      },
      "outputs": [
        {
          "output_type": "execute_result",
          "data": {
            "text/plain": [
              "7"
            ]
          },
          "metadata": {},
          "execution_count": 4
        }
      ],
      "source": [
        "# Get the Python number within a tensor (only works with one-element tensors)\n",
        "scalar.item()"
      ]
    },
    {
      "cell_type": "markdown",
      "metadata": {
        "id": "qYs7ulrATGe0"
      },
      "source": [
        "ต่อมาเราจะมาดูกันที่ **vector** กัน\n",
        "\n",
        "vector มี 1 dimension แต่เก็บได้หลากตัวเลข\n",
        "\n",
        "ยกตัวอย่างเช่น vector [3, 2] เพื่อที่จะให้หมายถึงจำนวน [ห้องนอน, ห้องน้ำ] ในบ้าน หรือ [3, 2, 2] จำนวน [ห้องนอน, ห้องน้ำ, ที่จอดรถ] ในบ้าน\n",
        "\n",
        "จะเห็นได้ว่า vector จะมีความสามารถในการอธิบายสิ่งต่างๆได้"
      ]
    },
    {
      "cell_type": "code",
      "execution_count": null,
      "metadata": {
        "colab": {
          "base_uri": "https://localhost:8080/"
        },
        "id": "-IZF6ASs8QH9",
        "outputId": "7f371f4d-bef1-4674-d7b7-682a51381b53"
      },
      "outputs": [
        {
          "output_type": "execute_result",
          "data": {
            "text/plain": [
              "tensor([7, 7])"
            ]
          },
          "metadata": {},
          "execution_count": 5
        }
      ],
      "source": [
        "# Vector\n",
        "vector = torch.tensor([7, 7])\n",
        "vector"
      ]
    },
    {
      "cell_type": "markdown",
      "metadata": {
        "id": "mXxRUUW2TGe1"
      },
      "source": [
        "\n",
        "\n",
        "แล้วเวกเตอร์มีกี่ dimension ละ"
      ]
    },
    {
      "cell_type": "code",
      "execution_count": null,
      "metadata": {
        "colab": {
          "base_uri": "https://localhost:8080/"
        },
        "id": "03hm3VVv8kr4",
        "outputId": "6d74d97e-1400-4a3d-8323-a398fa26d023"
      },
      "outputs": [
        {
          "output_type": "execute_result",
          "data": {
            "text/plain": [
              "1"
            ]
          },
          "metadata": {},
          "execution_count": 6
        }
      ],
      "source": [
        "# Check the number of dimensions of vector\n",
        "vector.ndim"
      ]
    },
    {
      "cell_type": "markdown",
      "metadata": {
        "id": "W0VYvSGbTGe1"
      },
      "source": [
        "เห็นอะไรแปลกๆมั้ยครับ `vector` มี 2 ตัวเลขแต่ทำไมมันมีแค่ 1 dimension กัน\n",
        "\n",
        "เดียวจะบอกทริคให้ฟัง\n",
        "\n",
        "สังเกตว่า dimensions ของ tensor pytorch ที่มึ (`[`) เราจำนับทั้งก้อนนั้นเป็น 1 dimension เลย\n",
        "\n",
        "แล้ว vector มี `[` จำนวนเท่าไหร่ละก็คือ 1 นั้นเอง\n",
        "\n",
        "เวลาที่ใช้คำสั่ง shape จะบอกข้อมูลที่ถูก arranged แล้ว\n"
      ]
    },
    {
      "cell_type": "code",
      "execution_count": null,
      "metadata": {
        "colab": {
          "base_uri": "https://localhost:8080/"
        },
        "id": "6zREV1bDTGe2",
        "outputId": "068dbbb3-746f-4d65-89c9-e4ecfe947e15"
      },
      "outputs": [
        {
          "output_type": "execute_result",
          "data": {
            "text/plain": [
              "torch.Size([2])"
            ]
          },
          "metadata": {},
          "execution_count": 7
        }
      ],
      "source": [
        "# Check shape of vector\n",
        "vector.shape"
      ]
    },
    {
      "cell_type": "markdown",
      "metadata": {
        "id": "9aWKppNyTGe2"
      },
      "source": [
        "โค้ดข้องบนจะได้  `torch.Size([2])` นั้นหมายถึง vector การดู shape `[2]`.\n",
        "\n",
        "มาต่อกันที่ **matrix**."
      ]
    },
    {
      "cell_type": "code",
      "execution_count": null,
      "metadata": {
        "colab": {
          "base_uri": "https://localhost:8080/"
        },
        "id": "D5iNwCYL8QO9",
        "outputId": "1dd3f7f1-f126-47b0-df21-631d15cd4d38"
      },
      "outputs": [
        {
          "output_type": "execute_result",
          "data": {
            "text/plain": [
              "tensor([[ 7,  8],\n",
              "        [ 9, 10]])"
            ]
          },
          "metadata": {},
          "execution_count": 8
        }
      ],
      "source": [
        "# Matrix\n",
        "MATRIX = torch.tensor([[7, 8],\n",
        "                       [9, 10]])\n",
        "MATRIX"
      ]
    },
    {
      "cell_type": "markdown",
      "metadata": {
        "id": "a3U1bCdjTGe3"
      },
      "source": [
        "จะสังเกตได้ว่า matrix จะมีความยืดหยุ่นมากกว่า เพราะมี dimension มากกว่า"
      ]
    },
    {
      "cell_type": "code",
      "execution_count": null,
      "metadata": {
        "colab": {
          "base_uri": "https://localhost:8080/"
        },
        "id": "8LREUbeb8r8j",
        "outputId": "dd517bcd-deec-4d1e-8c81-96253f9f6834"
      },
      "outputs": [
        {
          "output_type": "execute_result",
          "data": {
            "text/plain": [
              "2"
            ]
          },
          "metadata": {},
          "execution_count": 9
        }
      ],
      "source": [
        "# Check number of dimensions\n",
        "MATRIX.ndim"
      ]
    },
    {
      "cell_type": "markdown",
      "metadata": {
        "id": "LhXXgq-dTGe3"
      },
      "source": [
        "`MATRIX` มี 2 dimension (ลองเช็คดูว่ามี [ กี่อัน?).\n",
        "\n",
        "แล้ว `shape` เป็นเท่าไหร่กันนะ"
      ]
    },
    {
      "cell_type": "code",
      "execution_count": null,
      "metadata": {
        "colab": {
          "base_uri": "https://localhost:8080/"
        },
        "id": "_TL26I31TGe3",
        "outputId": "ff0274ea-f374-43bc-da47-e6fede4969e0"
      },
      "outputs": [
        {
          "output_type": "execute_result",
          "data": {
            "text/plain": [
              "torch.Size([2, 2])"
            ]
          },
          "metadata": {},
          "execution_count": 10
        }
      ],
      "source": [
        "MATRIX.shape"
      ]
    },
    {
      "cell_type": "markdown",
      "metadata": {
        "id": "dvLpUvrKTGe4"
      },
      "source": [
        "จะได้ค่า `torch.Size([2, 2])` หมายถึง `MATRIX`  มี 2 element ในแนวแนวกว้าง\n",
        "\n",
        "เราจะมาสร้าง **tensor** กัน"
      ]
    },
    {
      "cell_type": "code",
      "execution_count": null,
      "metadata": {
        "colab": {
          "base_uri": "https://localhost:8080/"
        },
        "id": "wEMDQr188QWW",
        "outputId": "5441b2d6-8704-4dd0-dc6d-4263284b3304"
      },
      "outputs": [
        {
          "output_type": "execute_result",
          "data": {
            "text/plain": [
              "tensor([[[1, 2, 3],\n",
              "         [3, 6, 9],\n",
              "         [2, 4, 5]]])"
            ]
          },
          "metadata": {},
          "execution_count": 11
        }
      ],
      "source": [
        "# Tensor\n",
        "TENSOR = torch.tensor([[[1, 2, 3],\n",
        "                        [3, 6, 9],\n",
        "                        [2, 4, 5]]])\n",
        "TENSOR"
      ]
    },
    {
      "cell_type": "markdown",
      "metadata": {
        "id": "UmJKkXD7TGe4"
      },
      "source": [
        "tensors สามารถ represent ค่าได้เกือบทุกอย่าง\n",
        "\n",
        "\n",
        "เราอาจจะสร้าง tensors เหมือนเป็นตารางยอดขายสินค้าต่างๆได้\n",
        "\n",
        "![a simple tensor in google sheets showing day of week, steak sales and almond butter sales](https://raw.githubusercontent.com/mrdbourke/pytorch-deep-learning/main/images/00_simple_tensor.png)\n",
        "\n",
        "ให้ทายว่า tensors มีกี่ dimensions กัน (ลองนับตรง [ ดู)"
      ]
    },
    {
      "cell_type": "code",
      "execution_count": null,
      "metadata": {
        "colab": {
          "base_uri": "https://localhost:8080/"
        },
        "id": "8dhuEsjS8QcT",
        "outputId": "d3f673dc-da0b-424e-ad0f-9dba372f6099"
      },
      "outputs": [
        {
          "output_type": "execute_result",
          "data": {
            "text/plain": [
              "3"
            ]
          },
          "metadata": {},
          "execution_count": 12
        }
      ],
      "source": [
        "# Check number of dimensions for TENSOR\n",
        "TENSOR.ndim"
      ]
    },
    {
      "cell_type": "markdown",
      "metadata": {
        "id": "ln9dys5VTGe4"
      },
      "source": [
        "แล้ว shape ละ"
      ]
    },
    {
      "cell_type": "code",
      "execution_count": null,
      "metadata": {
        "colab": {
          "base_uri": "https://localhost:8080/"
        },
        "id": "hdVv4iNRTGe5",
        "outputId": "83ce9572-6a2a-4ac0-f485-fe7961ee7b55"
      },
      "outputs": [
        {
          "output_type": "execute_result",
          "data": {
            "text/plain": [
              "torch.Size([1, 3, 3])"
            ]
          },
          "metadata": {},
          "execution_count": 13
        }
      ],
      "source": [
        "# Check shape of TENSOR\n",
        "TENSOR.shape"
      ]
    },
    {
      "cell_type": "markdown",
      "metadata": {
        "id": "zxk8GU7oTGe5"
      },
      "source": [
        "จะได้ output `torch.Size([1, 3, 3])`.\n",
        "\n",
        "The dimensions go outer to inner.\n",
        "\n",
        "![example of different tensor dimensions](https://raw.githubusercontent.com/mrdbourke/pytorch-deep-learning/main/images/00-pytorch-different-tensor-dimensions.png)\n",
        "\n",
        "อย่างนี้มีความหมายอยู่ว่าค่าพวก scalars และ vectors จะถูกใช้เป็นตัวพิมเล็กเช่น  `y` หรือ `a` และ matrices และ tensors จะถูกใช้เป็นตัวพิมพ์ใหญ่เช่น `X` หรือ `W`\n",
        "> **Note:** สังเกตได้ว่าตัวพิมเล็กจะถูกใช้กับ `scalar` และ `vector`และตัวพิมใหญ่จะถูกใช้กับ `MATRIX` และ `TENSOR`. อย่างนี้มีความหมายอยู่ว่าค่าพวก scalars และ vectors จะถูกใช้เป็นตัวพิมเล็กเช่น  `y` หรือ `a` และ matrices และ tensors จะถูกใช้เป็นตัวพิมพ์ใหญ่เช่น `X` หรือ `W`\n",
        ">\n",
        "\n",
        "มาสรุปจากที่เรียนก่อนหน้านี้กัน\n",
        "\n",
        "| Name | What is it? | Number of dimensions | Lower or upper (usually/example) |\n",
        "| ----- | ----- | ----- | ----- |\n",
        "| **scalar** | เป็นตัวเลขเดียว | 0 | Lower (`a`) |\n",
        "| **vector** | ปริมาณทางคณิตศาสตร์ที่มีทิศทาง (e.g. ความเร็วลมพร้อมทิศทาง) และมีได้หลายเลข| 1 | Lower (`y`) |\n",
        "| **matrix** | array ของตัวเลขที่มี 2 มิติ | 2 | Upper (`Q`) |\n",
        "| **tensor** | array ของตัวเลขที่มีได้ n มิติ| can be any number, a 0-dimension tensor is a scalar, a 1-dimension tensor is a vector | Upper (`X`) |\n",
        "\n",
        "![scalar vector matrix tensor and what they look like](https://raw.githubusercontent.com/mrdbourke/pytorch-deep-learning/main/images/00-scalar-vector-matrix-tensor.png)"
      ]
    },
    {
      "cell_type": "markdown",
      "metadata": {
        "id": "dms7G4nkTGe5"
      },
      "source": [
        "### Random tensors\n",
        "\n",
        "ในการสร้าง tensors ก่อนหน้านี้เราจะใช้ tensors ที่เป็นลักษณะแบบกำหนัดค่าขึ้นมาเองและในการสร้าง machine learning models เช่น neural network จะปรับกอบไปด้วย tensors หลาย shape หลายรูปแบบ ซึ่งเราจะมีการกำหนดค่าของ tensors เองน้อยมาก\n",
        "\n",
        "โดยในการสร้าง machine learning models เราจะเริ่มจากการ init weight ที่เป็นค่า random ขึ้นมาก่อนแล้วปรับค่าเหล่านั้นเพื่อให้ model ดีขึ้นด้วยอัลกอริทึมต่างๆ\n",
        "\n",
        "จะประมาณว่า:\n",
        "\n",
        "`Start with random numbers -> look at data -> update random numbers -> look at data -> update random numbers...`\n",
        "\n",
        "\n",
        "ถ้ามองในมุมของ data scientist เราจะมองทำนองนี้ (initialization), looks at data (representation) and updates (optimization) its random numbers.\n",
        "\n",
        "\n",
        "ถ้าอย่างงั้นเรามาเริ่มสร้าง random tensors กันเลย!\n",
        "\n",
        "เราจะใช้ [`torch.rand()`](https://pytorch.org/docs/stable/generated/torch.rand.html) และใส่ค่า `size` ใน parameter."
      ]
    },
    {
      "cell_type": "code",
      "execution_count": null,
      "metadata": {
        "colab": {
          "base_uri": "https://localhost:8080/"
        },
        "id": "EOJEtDx--GnK",
        "outputId": "4046b2f1-10fe-441a-ff5c-c297f8b9bb40"
      },
      "outputs": [
        {
          "output_type": "execute_result",
          "data": {
            "text/plain": [
              "(tensor([[0.4758, 0.0401, 0.7584, 0.7365],\n",
              "         [0.1942, 0.6436, 0.2718, 0.2011],\n",
              "         [0.7617, 0.0694, 0.1354, 0.8651]]),\n",
              " torch.float32)"
            ]
          },
          "metadata": {},
          "execution_count": 16
        }
      ],
      "source": [
        "# Create a random tensor of size (3, 4)\n",
        "random_tensor = torch.rand(size=(3, 4))\n",
        "random_tensor, random_tensor.dtype"
      ]
    },
    {
      "cell_type": "markdown",
      "metadata": {
        "id": "-wB1c_cXTGe5"
      },
      "source": [
        "ข้อดีความยือหยุ่นของ `torch.rand()`คือเราสามารถปรับ `size` ให้เป็นเท่าไหร่ก็ได้ที่ต้องการ\n",
        "\n",
        "เช่นถ้าเกิดเราต้องการสร้างรูปเราก็จะใช้ shape\n",
        "`[224, 224, 3]` (`[height, width, color_channels`])."
      ]
    },
    {
      "cell_type": "code",
      "execution_count": null,
      "metadata": {
        "colab": {
          "base_uri": "https://localhost:8080/"
        },
        "id": "xMF_NUp3Ym__",
        "outputId": "ab148105-da63-4ae7-f955-5b7a3197ce70"
      },
      "outputs": [
        {
          "output_type": "execute_result",
          "data": {
            "text/plain": [
              "(torch.Size([224, 224, 3]), 3)"
            ]
          },
          "metadata": {},
          "execution_count": 17
        }
      ],
      "source": [
        "# Create a random tensor of size (224, 224, 3)\n",
        "random_image_size_tensor = torch.rand(size=(224, 224, 3))\n",
        "random_image_size_tensor.shape, random_image_size_tensor.ndim"
      ]
    },
    {
      "cell_type": "markdown",
      "metadata": {
        "id": "0MQNTY0eTGe6"
      },
      "source": [
        "### Zeros and ones\n",
        "\n",
        "บางครั้งเราก็ต้องการค่า tensors ที่มีเฉพาะ 0 หรือ 1\n",
        "\n",
        "ซึ่งจะเป็นเทคนิคสำหรับการ masking ค่า (เหมือนกับว่าเราจะต้องการให้ค่าไหนมี value และค่าไหนไม่มี value เพื่อที่จะทำให้ model ไม่เรียนรู้มัน)\n",
        "\n",
        "ในการสร้างเราจะใช้คำสั่ง [`torch.zeros()`](https://pytorch.org/docs/stable/generated/torch.zeros.html)\n",
        "\n",
        "และเราสามารถปรับค่า `size` parameter ได้ตามที่ต้องการ"
      ]
    },
    {
      "cell_type": "code",
      "execution_count": null,
      "metadata": {
        "colab": {
          "base_uri": "https://localhost:8080/"
        },
        "id": "oCzhd0hl9Vp6",
        "outputId": "b30144da-1df6-4e7d-9946-e72f7a607ce3"
      },
      "outputs": [
        {
          "output_type": "execute_result",
          "data": {
            "text/plain": [
              "(tensor([[0., 0., 0., 0.],\n",
              "         [0., 0., 0., 0.],\n",
              "         [0., 0., 0., 0.]]),\n",
              " torch.float32)"
            ]
          },
          "metadata": {},
          "execution_count": 18
        }
      ],
      "source": [
        "# Create a tensor of all zeros\n",
        "zeros = torch.zeros(size=(3, 4))\n",
        "zeros, zeros.dtype"
      ]
    },
    {
      "cell_type": "markdown",
      "metadata": {
        "id": "WDQBZJRUZWTN"
      },
      "source": [
        "ในการทำเราจะสร้าง tensors ที่มีแต่ 1 ก็ใช้คำสั่ง [`torch.ones()` ](https://pytorch.org/docs/stable/generated/torch.ones.html) ได้เลย"
      ]
    },
    {
      "cell_type": "code",
      "execution_count": null,
      "metadata": {
        "colab": {
          "base_uri": "https://localhost:8080/"
        },
        "id": "HRe6sSXiTGe6",
        "outputId": "e5e04f7d-c0a7-439c-85db-86ff7398ecf3"
      },
      "outputs": [
        {
          "output_type": "execute_result",
          "data": {
            "text/plain": [
              "(tensor([[1., 1., 1., 1.],\n",
              "         [1., 1., 1., 1.],\n",
              "         [1., 1., 1., 1.]]),\n",
              " torch.float32)"
            ]
          },
          "metadata": {},
          "execution_count": 19
        }
      ],
      "source": [
        "# Create a tensor of all ones\n",
        "ones = torch.ones(size=(3, 4))\n",
        "ones, ones.dtype"
      ]
    },
    {
      "cell_type": "markdown",
      "metadata": {
        "id": "hib1NYrSarL2"
      },
      "source": [
        "### Creating a range and tensors like\n",
        "\n",
        "ถ้าเกิดว่าอยากที่จะสร้างตัวเลขที่มี range เยอะเช่น 1 ถึง 100\n",
        "\n",
        "เราสามารถใช้คำสั่ง `torch.arange(start, end, step)` ได้\n",
        "\n",
        "\n",
        "โดย:\n",
        "* `start` = ค่าที่ต้องการเริ่ม (e.g. 0)\n",
        "* `end` = ค่าที่ต้องการจบ (e.g. 10)\n",
        "* `step` = เราจะเพิ่มค่านั้นที่ละเท่าไหร่ (e.g. 1)"
      ]
    },
    {
      "cell_type": "code",
      "execution_count": null,
      "metadata": {
        "colab": {
          "base_uri": "https://localhost:8080/"
        },
        "id": "1IqUs81d9W4W",
        "outputId": "4e0286a5-d622-496e-ff84-4abc64d74b32"
      },
      "outputs": [
        {
          "output_type": "stream",
          "name": "stderr",
          "text": [
            "<ipython-input-20-a404776195c1>:2: UserWarning: torch.range is deprecated and will be removed in a future release because its behavior is inconsistent with Python's range builtin. Instead, use torch.arange, which produces values in [start, end).\n",
            "  zero_to_ten_deprecated = torch.range(0, 10) # Note: this may return an error in the future\n"
          ]
        },
        {
          "output_type": "execute_result",
          "data": {
            "text/plain": [
              "tensor([0, 1, 2, 3, 4, 5, 6, 7, 8, 9])"
            ]
          },
          "metadata": {},
          "execution_count": 20
        }
      ],
      "source": [
        "# Use torch.arange(), torch.range() is deprecated\n",
        "zero_to_ten_deprecated = torch.range(0, 10) # Note: this may return an error in the future\n",
        "\n",
        "# Create a range of values 0 to 10\n",
        "zero_to_ten = torch.arange(start=0, end=10, step=1)\n",
        "zero_to_ten"
      ]
    },
    {
      "cell_type": "markdown",
      "metadata": {
        "id": "i-bXf0Ugbh-D"
      },
      "source": [
        "Sometimes you might want one tensor of a certain type with the same shape as another tensor.\n",
        "\n",
        "For example, a tensor of all zeros with the same shape as a previous tensor.\n",
        "\n",
        "To do so you can use [`torch.zeros_like(input)`](https://pytorch.org/docs/stable/generated/torch.zeros_like.html) or [`torch.ones_like(input)`](https://pytorch.org/docs/1.9.1/generated/torch.ones_like.html) which return a tensor filled with zeros or ones in the same shape as the `input` respectively."
      ]
    },
    {
      "cell_type": "code",
      "execution_count": null,
      "metadata": {
        "colab": {
          "base_uri": "https://localhost:8080/"
        },
        "id": "ZvXwUut5BhHq",
        "outputId": "5fff3548-982c-4a6f-c56e-12a805b12dbb"
      },
      "outputs": [
        {
          "output_type": "execute_result",
          "data": {
            "text/plain": [
              "tensor([0, 0, 0, 0, 0, 0, 0, 0, 0, 0])"
            ]
          },
          "metadata": {},
          "execution_count": 19
        }
      ],
      "source": [
        "# Can also create a tensor of zeros similar to another tensor\n",
        "ten_zeros = torch.zeros_like(input=zero_to_ten) # will have same shape\n",
        "ten_zeros"
      ]
    },
    {
      "cell_type": "markdown",
      "metadata": {
        "id": "huKZ6QlYTGe7"
      },
      "source": [
        "### Tensor datatypes\n",
        "\n",
        "\n",
        "มีหลายประเภทของ [tensor datatypes ที่ใช้ได้ใน PyTorch](https://pytorch.org/docs/stable/tensors.html#data-types).\n",
        "\n",
        "บางประเภทเหมาะสำหรับ CPU และบางประเภทเหมาะสำหรับ GPU\n",
        "\n",
        "การทำความเข้าใจว่าแต่ละประเภทคืออะไรอาจใช้เวลาสักหน่อย\n",
        "\n",
        "โดยทั่วไปแล้วถ้าคุณเห็น torch.cuda อยู่ที่ไหน นั่นหมายถึง tensor นั้นถูกใช้สำหรับ GPU (เนื่องจาก Nvidia GPUs ใช้ toolkit สำหรับคำนวณที่เรียกว่า CUDA)\n",
        "\n",
        "ประเภทที่พบบ่อยที่สุด (และเป็นค่าเริ่มต้นทั่วไป) คือ torch.float32 หรือ torch.float\n",
        "\n",
        "ซึ่งเรียกว่า \"32-bit floating point\"\n",
        "\n",
        "แต่ก็ยังมี 16-bit floating point (torch.float16 หรือ torch.half) และ 64-bit floating point (torch.float64 หรือ torch.double)\n",
        "\n",
        "และยังมีความซับซ้อนมากขึ้นอีกโดยยังมี integers ขนาด 8-bit, 16-bit, 32-bit และ 64-bit\n",
        "\n",
        "และยังมีอีกมากมาย!\n",
        "\n",
        "> **Note:** integer คือเลขจำนวนเต็ม เช่น `7` ในขณะที่ float มีจุดทศนิยม เช่น `7.0`.\n",
        "\n",
        "เหตุผลที่มีหลายประเภทพวกนี้เกี่ยวข้องกับ  **precision in computing**.\n",
        "\n",
        "เพราะความแม่นยำคือปริมาณรายละเอียดที่ใช้ในการอธิบายตัวเลข\n",
        "\n",
        "ค่าความแม่นยำที่สูงขึ้น (8, 16, 32) มีรายละเอียดมากขึ้นและดังนั้นจึงใช้ข้อมูลมากขึ้นในการแสดงตัวเลข\n",
        "\n",
        "เรื่องนี้สำคัญใน deep learning และการคำนวณทางตัวเลขเพราะคุณต้องทำการคำนวณหลายๆ อย่าง ยิ่งมีรายละเอียดมากเท่าไหร่ก็ยิ่งใช้การคำนวณมากขึ้นเท่านั้น\n",
        "\n",
        "ดังนั้น datatypes ที่มีความแม่นยำต่ำกว่ามักจะคำนวณได้เร็วกว่าแต่แลกกับประสิทธิภาพที่ต่ำลงในตัวชี้วัดเช่นความแม่นยำ (คำนวณได้เร็วกว่าแต่แม่นยำน้อยลง)\n",
        "\n",
        "> **Resources:**\n",
        "  * [PyTorch documentation for a list of all available tensor datatypes](htt\n",
        "  ps://pytorch.org/docs/stable/tensors.html#data-types).\n",
        "  * [Wikipedia page for an overview of what precision in computing](https://en.wikipedia.org/wiki/Precision_(computer_science)) is.\n",
        "\n",
        "มาดูกันว่าเราจะสร้าง tensors ด้วย datatypes เฉพาะได้อย่างไร เราสามารถทำได้โดยใช้พารามิเตอร์ `dtype`"
      ]
    },
    {
      "cell_type": "code",
      "execution_count": null,
      "metadata": {
        "colab": {
          "base_uri": "https://localhost:8080/"
        },
        "id": "q3MoGnpw9XaF",
        "outputId": "a72b34d6-c692-426f-a20b-43de9034fb93"
      },
      "outputs": [
        {
          "output_type": "execute_result",
          "data": {
            "text/plain": [
              "(torch.Size([3]), torch.float32, device(type='cpu'))"
            ]
          },
          "metadata": {},
          "execution_count": 21
        }
      ],
      "source": [
        "# Default datatype for tensors is float32\n",
        "float_32_tensor = torch.tensor([3.0, 6.0, 9.0],\n",
        "                               dtype=None, # defaults to None, which is torch.float32 or whatever datatype is passed\n",
        "                               device=None, # defaults to None, which uses the default tensor type\n",
        "                               requires_grad=False) # if True, operations performed on the tensor are recorded\n",
        "\n",
        "float_32_tensor.shape, float_32_tensor.dtype, float_32_tensor.device"
      ]
    },
    {
      "cell_type": "markdown",
      "metadata": {
        "id": "MhP8kzDfe_ty"
      },
      "source": [
        "นอกจากปัญหาเรื่อง shape (รูปแบบของ tensor ไม่ตรงกัน) ปัญหาที่พบบ่อยอีกสองอย่างใน PyTorch คือปัญหาเรื่อง datatype และ device\n",
        "\n",
        "ตัวอย่างเช่น หนึ่งใน tensor เป็น `torch.float32` และอีกหนึ่งเป็น `torch.float16` (PyTorch มักต้องการให้ `tensors` มีรูปแบบเดียวกัน)\n",
        "\n",
        "หรือหนึ่งใน tensor อยู่บน CPU และอีกหนึ่งอยู่บน GPU (PyTorch ต้องการให้การคำนวณระหว่าง tensors อยู่บนอุปกรณ์เดียวกัน)\n",
        "\n",
        "เราจะเห็นเรื่องการใช้งานอุปกรณ์ (device) มากขึ้นในภายหลัง\n",
        "\n",
        "ตอนนี้มาสร้าง tensor ด้วย `dtype=torch.float16` กัน"
      ]
    },
    {
      "cell_type": "code",
      "execution_count": null,
      "metadata": {
        "colab": {
          "base_uri": "https://localhost:8080/"
        },
        "id": "PKSuajld_09s",
        "outputId": "f9cfb78a-e846-455b-f306-99cf75dcc104"
      },
      "outputs": [
        {
          "output_type": "execute_result",
          "data": {
            "text/plain": [
              "torch.float16"
            ]
          },
          "metadata": {},
          "execution_count": 22
        }
      ],
      "source": [
        "float_16_tensor = torch.tensor([3.0, 6.0, 9.0],\n",
        "                               dtype=torch.float16) # torch.half would also work\n",
        "\n",
        "float_16_tensor.dtype"
      ]
    },
    {
      "cell_type": "markdown",
      "metadata": {
        "id": "gUjkB2AX7Upz"
      },
      "source": [
        "## Getting information from tensors\n",
        "\n",
        "เมื่อสร้าง tensors ขึ้นมาแล้ว (หรือคนอื่นหรือโมดูล PyTorch สร้างขึ้นมาให้) อาจต้องการดึงข้อมูลบางอย่างจากมัน\n",
        "\n",
        "เราเคยเห็นสิ่งเหล่านี้มาก่อน แต่คุณสมบัติที่พบได้บ่อยที่สุดสามอย่างที่คุณอาจต้องการทราบเกี่ยวกับ tensors คือ:\n",
        "\n",
        "`shape` - tensor มีรูปแบบอย่างไร? (บางการดำเนินการต้องการกฎรูปแบบเฉพาะ)\n",
        "`dtype` - องค์ประกอบภายใน tensor ถูกจัดเก็บในรูปแบบข้อมูลใด?\n",
        "`device` - tensor ถูกจัดเก็บในอุปกรณ์อะไร? (ปกติจะเป็น GPU หรือ CPU)\n",
        "มาสร้าง tensor แบบสุ่มแล้วหาข้อมูลเกี่ยวกับมันกัน"
      ]
    },
    {
      "cell_type": "code",
      "execution_count": null,
      "metadata": {
        "colab": {
          "base_uri": "https://localhost:8080/"
        },
        "id": "hd_X4D0j7Umq",
        "outputId": "aca49b6d-ee1a-42df-9210-2f6be4de7675"
      },
      "outputs": [
        {
          "output_type": "stream",
          "name": "stdout",
          "text": [
            "tensor([[0.4076, 0.1076, 0.6742, 0.2798],\n",
            "        [0.4752, 0.7375, 0.4973, 0.3623],\n",
            "        [0.6723, 0.3057, 0.3841, 0.3233]])\n",
            "Shape of tensor: torch.Size([3, 4])\n",
            "Datatype of tensor: torch.float32\n",
            "Device tensor is stored on: cpu\n"
          ]
        }
      ],
      "source": [
        "# Create a tensor\n",
        "some_tensor = torch.rand(3, 4)\n",
        "\n",
        "# Find out details about it\n",
        "print(some_tensor)\n",
        "print(f\"Shape of tensor: {some_tensor.shape}\")\n",
        "print(f\"Datatype of tensor: {some_tensor.dtype}\")\n",
        "print(f\"Device tensor is stored on: {some_tensor.device}\") # will default to CPU"
      ]
    },
    {
      "cell_type": "markdown",
      "metadata": {
        "id": "BdiWvoAi7UjL"
      },
      "source": [
        "## Manipulating tensors (tensor operations)\n",
        "\n",
        "ใน deep learning ข้อมูล (รูปภาพ, ข้อความ, วิดีโอ, เสียง, โครงสร้างโปรตีน ฯลฯ) จะถูกแทนด้วย tensors\n",
        "\n",
        "model เรียนรู้จาก tensors เหล่านั้นและทำ operation การหลายๆ อย่าง (อาจจะเป็นล้านๆ ครั้ง) บน tensors เพื่อสร้างการแสดงผลของรูปแบบในข้อมูลอินพุต\n",
        "\n",
        "การดำเนินการเหล่านี้มักจะเกิดจากการผสมผสาน operation ระหว่าง:\n",
        "\n",
        "การบวก\n",
        "การลบ\n",
        "การคูณ (แบบ element-wise)\n",
        "การหาร\n",
        "การคูณเมทริกซ์\n",
        "และนั่นคือทั้งหมด แน่นอนว่ามีอีกไม่กี่อย่างแต่เหล่านี้คือส่วนประกอบพื้นฐานของ neural networks\n",
        "\n",
        "การเรียงลำดับส่วนประกอบเหล่านี้อย่างถูกต้อง คุณสามารถสร้าง neural networks ที่ซับซ้อนที่สุดได้ (เหมือนกับการต่อเลโก้เลย!)"
      ]
    },
    {
      "cell_type": "markdown",
      "metadata": {
        "id": "Sk_6Dd7L7Uce"
      },
      "source": [
        "### Basic operations\n",
        "\n",
        "มาเริ่มต้นกับการทำงานพื้นฐาน เช่น การบวก (+), การลบ (-), และ การคูณ (*)\n",
        "\n",
        "มันก็ทำงานเหมือนที่เราเรียนมากันเลย"
      ]
    },
    {
      "cell_type": "code",
      "execution_count": null,
      "metadata": {
        "colab": {
          "base_uri": "https://localhost:8080/"
        },
        "id": "X71WpQoPD7a4",
        "outputId": "7e62a279-4732-4dfb-c154-4f5691b6827e"
      },
      "outputs": [
        {
          "output_type": "execute_result",
          "data": {
            "text/plain": [
              "tensor([11, 12, 13])"
            ]
          },
          "metadata": {},
          "execution_count": 23
        }
      ],
      "source": [
        "# Create a tensor of values and add a number to it\n",
        "tensor = torch.tensor([1, 2, 3])\n",
        "tensor + 10"
      ]
    },
    {
      "cell_type": "code",
      "execution_count": null,
      "metadata": {
        "colab": {
          "base_uri": "https://localhost:8080/"
        },
        "id": "Sp4TlTWWEFeO",
        "outputId": "6745713a-81d6-4779-da06-c527e466bbfc"
      },
      "outputs": [
        {
          "output_type": "execute_result",
          "data": {
            "text/plain": [
              "tensor([10, 20, 30])"
            ]
          },
          "metadata": {},
          "execution_count": 24
        }
      ],
      "source": [
        "# Multiply it by 10\n",
        "tensor * 10"
      ]
    },
    {
      "cell_type": "markdown",
      "metadata": {
        "id": "-1VEHnuRkn8Q"
      },
      "source": [
        "สังเกตว่าค่า tensor ด้านบนไม่ได้เป็น `tensor([110, 120, 130])` เป็นเพราะค่าภายใน tensor จะไม่เปลี่ยนแปลงนอกจากถ้าจะทำการกำหนดค่าใหม่"
      ]
    },
    {
      "cell_type": "code",
      "execution_count": null,
      "metadata": {
        "colab": {
          "base_uri": "https://localhost:8080/"
        },
        "id": "XuB1UjCIEJIA",
        "outputId": "ad6aa2e9-8ab0-46d8-a742-45a402562ddd"
      },
      "outputs": [
        {
          "output_type": "execute_result",
          "data": {
            "text/plain": [
              "tensor([1, 2, 3])"
            ]
          },
          "metadata": {},
          "execution_count": 25
        }
      ],
      "source": [
        "# Tensors don't change unless reassigned\n",
        "tensor"
      ]
    },
    {
      "cell_type": "markdown",
      "metadata": {
        "id": "VYvqGpUTk1o6"
      },
      "source": [
        "เราจะลบออก พร้อมกับการ reassign ตัวแปร `tensor`  "
      ]
    },
    {
      "cell_type": "code",
      "execution_count": null,
      "metadata": {
        "colab": {
          "base_uri": "https://localhost:8080/"
        },
        "id": "U4iWKoLsENry",
        "outputId": "def60953-93b2-407c-e46f-fa5320c45871"
      },
      "outputs": [
        {
          "output_type": "execute_result",
          "data": {
            "text/plain": [
              "tensor([-9, -8, -7])"
            ]
          },
          "metadata": {},
          "execution_count": 26
        }
      ],
      "source": [
        "# Subtract and reassign\n",
        "tensor = tensor - 10\n",
        "tensor"
      ]
    },
    {
      "cell_type": "code",
      "execution_count": null,
      "metadata": {
        "colab": {
          "base_uri": "https://localhost:8080/"
        },
        "id": "tFgZY-PaFNXa",
        "outputId": "acb933ec-e11a-4158-cc37-f032ec4c6256"
      },
      "outputs": [
        {
          "output_type": "execute_result",
          "data": {
            "text/plain": [
              "tensor([1, 2, 3])"
            ]
          },
          "metadata": {},
          "execution_count": 27
        }
      ],
      "source": [
        "# Add and reassign\n",
        "tensor = tensor + 10\n",
        "tensor"
      ]
    },
    {
      "cell_type": "markdown",
      "metadata": {
        "id": "CYXDoIOzk-6I"
      },
      "source": [
        "PyTorch  ยังมีฟังก์ชันที่ใช้งานง่ายมากมาย เช่น [`torch.mul()`](https://pytorch.org/docs/stable/generated/torch.mul.html#torch.mul)(ย่อมาจากการคูณ) และ [`torch.add()`](https://pytorch.org/docs/stable/generated/torch.add.html) เพื่อทำการดำเนินการพื้นฐานได้เลย"
      ]
    },
    {
      "cell_type": "code",
      "execution_count": null,
      "metadata": {
        "colab": {
          "base_uri": "https://localhost:8080/"
        },
        "id": "uVysdk3kFWbY",
        "outputId": "caa8a9f6-287a-4207-9aee-65269c0bb301"
      },
      "outputs": [
        {
          "output_type": "execute_result",
          "data": {
            "text/plain": [
              "tensor([10, 20, 30])"
            ]
          },
          "metadata": {},
          "execution_count": 28
        }
      ],
      "source": [
        "# Can also use torch functions\n",
        "torch.multiply(tensor, 10)"
      ]
    },
    {
      "cell_type": "code",
      "execution_count": null,
      "metadata": {
        "colab": {
          "base_uri": "https://localhost:8080/"
        },
        "id": "IxuPJIpNFbqO",
        "outputId": "1318f0f9-0228-463d-aec9-927a0f45fc57"
      },
      "outputs": [
        {
          "output_type": "execute_result",
          "data": {
            "text/plain": [
              "tensor([1, 2, 3])"
            ]
          },
          "metadata": {},
          "execution_count": 29
        }
      ],
      "source": [
        "# Original tensor is still unchanged\n",
        "tensor"
      ]
    },
    {
      "cell_type": "markdown",
      "metadata": {
        "id": "70UNL33AlVQq"
      },
      "source": [
        "แต่วิธีที่พบมากกว่าในการใช้งานคือการใช้สัญลักษณ์ของตัวดำเนินการเช่น`*`  แทนที่จะใช้ `torch.mul()`"
      ]
    },
    {
      "cell_type": "code",
      "execution_count": null,
      "metadata": {
        "colab": {
          "base_uri": "https://localhost:8080/"
        },
        "id": "S5v3RkR0F2Jq",
        "outputId": "8fe3f78f-c7e9-44c0-d1c4-be0f20850b41"
      },
      "outputs": [
        {
          "output_type": "stream",
          "name": "stdout",
          "text": [
            "tensor([1, 2, 3]) * tensor([1, 2, 3])\n",
            "Equals: tensor([1, 4, 9])\n"
          ]
        }
      ],
      "source": [
        "# Element-wise multiplication (each element multiplies its equivalent, index 0->0, 1->1, 2->2)\n",
        "print(tensor, \"*\", tensor)\n",
        "print(\"Equals:\", tensor * tensor)"
      ]
    },
    {
      "cell_type": "markdown",
      "metadata": {
        "id": "TT5fVuyu7q5z"
      },
      "source": [
        "### Matrix multiplication (is all you need)\n",
        "\n",
        "หนึ่งใน operation ที่ใช้บ่อยมากๆๆๆ ในทาง machine learning และ deep learning algorithms (เหมือน neural networks ) คือ [matrix multiplication](https://www.mathsisfun.com/algebra/matrix-multiplying.html).\n",
        "\n",
        "ใน pytorch มีการ implements matrix multiplication โดยการใช้คำสั่ง [`torch.matmul()`](https://pytorch.org/docs/stable/generated/torch.matmul.html)\n",
        "\n",
        "กฎในการ matrix multiplication คือ\n",
        "\n",
        "1. จำนวนหลักของเมทริกซ์ตัวหน้าต้อง เท่ากับ จำนวนแถวของเมทริกซ์ตัวหลัง:\n",
        "  * `(3, 2) @ (3, 2)` ไม่ได้\n",
        "  * `(2, 3) @ (3, 2)` ได้\n",
        "  * `(3, 2) @ (2, 3)` ได้\n",
        "2. มิติของเมทริกซ์ผลลัพธ์จะเท่ากับ จำนวนแถวของตัวหน้าคูณจำนวนหลักของตัวหลัง:\n",
        " * `(2, 3) @ (3, 2)` -> `(2, 2)`\n",
        " * `(3, 2) @ (2, 3)` -> `(3, 3)`\n",
        "\n",
        "> **Note:** \"`@`\" ใน Python เป็นสัณลักษณะสำหรับการทำ matrix multiplication.\n",
        "\n",
        "> **Resource:** เราสามารถดู กฎสำหรับ matrix multiplication ด้วย `torch.matmul()` ได้ที่ [PyTorch documentation](https://pytorch.org/docs/stable/generated/torch.matmul.html).\n",
        "\n"
      ]
    },
    {
      "cell_type": "code",
      "execution_count": null,
      "metadata": {
        "colab": {
          "base_uri": "https://localhost:8080/"
        },
        "id": "ZE7loucmDlEM",
        "outputId": "d841eae5-ceac-4f3e-d6e5-77575703d37d"
      },
      "outputs": [
        {
          "output_type": "execute_result",
          "data": {
            "text/plain": [
              "torch.Size([3])"
            ]
          },
          "metadata": {},
          "execution_count": 31
        }
      ],
      "source": [
        "import torch\n",
        "tensor = torch.tensor([1, 2, 3])\n",
        "tensor.shape"
      ]
    },
    {
      "cell_type": "markdown",
      "metadata": {
        "id": "VUAZ3_b0vOKv"
      },
      "source": [
        "ความต่างระหว่าง element-wise multiplication กับ matrix multiplication\n",
        "\n",
        "ถ้าเรามีค่า `tensor`  `[1, 2, 3]`:\n",
        "\n",
        "| Operation | Calculation | Code |\n",
        "| ----- | ----- | ----- |\n",
        "| **Element-wise multiplication** | `[1*1, 2*2, 3*3]` = `[1, 4, 9]` | `tensor * tensor` |\n",
        "| **Matrix multiplication** | `[1*1 + 2*2 + 3*3]` = `[14]` | `tensor.matmul(tensor)` |\n"
      ]
    },
    {
      "cell_type": "code",
      "execution_count": null,
      "metadata": {
        "colab": {
          "base_uri": "https://localhost:8080/"
        },
        "id": "i42gkUeHvI_1",
        "outputId": "b8aedaf0-6c95-4402-e1c2-58a3f3e55cf6"
      },
      "outputs": [
        {
          "output_type": "execute_result",
          "data": {
            "text/plain": [
              "tensor([1, 4, 9])"
            ]
          },
          "metadata": {},
          "execution_count": 32
        }
      ],
      "source": [
        "# Element-wise matrix multiplication\n",
        "tensor * tensor"
      ]
    },
    {
      "cell_type": "code",
      "execution_count": null,
      "metadata": {
        "colab": {
          "base_uri": "https://localhost:8080/"
        },
        "id": "PvCBiiTTDk8y",
        "outputId": "486cea29-21bf-48c6-bb65-76d6b7684a4f"
      },
      "outputs": [
        {
          "output_type": "execute_result",
          "data": {
            "text/plain": [
              "tensor(14)"
            ]
          },
          "metadata": {},
          "execution_count": 33
        }
      ],
      "source": [
        "# Matrix multiplication\n",
        "torch.matmul(tensor, tensor)"
      ]
    },
    {
      "cell_type": "code",
      "execution_count": null,
      "metadata": {
        "colab": {
          "base_uri": "https://localhost:8080/"
        },
        "id": "m4E_pROBDk2r",
        "outputId": "c7683b63-dbd4-428c-9f60-0d4e92b3806f"
      },
      "outputs": [
        {
          "output_type": "execute_result",
          "data": {
            "text/plain": [
              "tensor(14)"
            ]
          },
          "metadata": {},
          "execution_count": 34
        }
      ],
      "source": [
        "# Can also use the \"@\" symbol for matrix multiplication, though not recommended\n",
        "tensor @ tensor"
      ]
    },
    {
      "cell_type": "markdown",
      "metadata": {
        "id": "obbginUMv43A"
      },
      "source": [
        "จริงๆแล้ว สามารถคูณเมทริกซ์ด้วยมือได้นะ แต่ไม่แนะนำ55\n",
        "\n",
        "ใช้ `torch.matmul()` จะเร็วกว่า"
      ]
    },
    {
      "cell_type": "code",
      "execution_count": null,
      "metadata": {
        "colab": {
          "base_uri": "https://localhost:8080/"
        },
        "id": "6qMSaLOoJscL",
        "outputId": "f62dad15-2498-4096-e8a0-699ca1888f0b"
      },
      "outputs": [
        {
          "output_type": "stream",
          "name": "stdout",
          "text": [
            "CPU times: user 1.69 ms, sys: 0 ns, total: 1.69 ms\n",
            "Wall time: 1.8 ms\n"
          ]
        },
        {
          "output_type": "execute_result",
          "data": {
            "text/plain": [
              "tensor(14)"
            ]
          },
          "metadata": {},
          "execution_count": 35
        }
      ],
      "source": [
        "%%time\n",
        "# Matrix multiplication by hand\n",
        "# (avoid doing operations with for loops at all cost, they are computationally expensive)\n",
        "value = 0\n",
        "for i in range(len(tensor)):\n",
        "  value += tensor[i] * tensor[i]\n",
        "value"
      ]
    },
    {
      "cell_type": "code",
      "execution_count": null,
      "metadata": {
        "colab": {
          "base_uri": "https://localhost:8080/"
        },
        "id": "vVWiKB0KwH74",
        "outputId": "a1649a0b-2905-4122-e1a0-9068dfc00f09"
      },
      "outputs": [
        {
          "output_type": "stream",
          "name": "stdout",
          "text": [
            "CPU times: user 128 µs, sys: 0 ns, total: 128 µs\n",
            "Wall time: 134 µs\n"
          ]
        },
        {
          "output_type": "execute_result",
          "data": {
            "text/plain": [
              "tensor(14)"
            ]
          },
          "metadata": {},
          "execution_count": 36
        }
      ],
      "source": [
        "%%time\n",
        "torch.matmul(tensor, tensor)"
      ]
    },
    {
      "cell_type": "markdown",
      "metadata": {
        "id": "aJ4DDmo1TGe-"
      },
      "source": [
        "## One of the most common errors in deep learning (shape errors)\n",
        "\n",
        "เนื่องจากส่วนใหญ่ของ deep learning เป็นการคูณและดำเนินการบนเมทริกซ์ และเมทริกซ์มีกฎ เกี่ยวกับรูปร่างและขนาดที่สามารถรวมกันได้ หนึ่ง error ที่พบบ่อยที่สุดใน deep learning คือการไม่ตรงกันของรูปร่าง (shape mismatches)"
      ]
    },
    {
      "cell_type": "code",
      "execution_count": null,
      "metadata": {
        "colab": {
          "base_uri": "https://localhost:8080/",
          "height": 182
        },
        "id": "rN5RcoD4Jo6y",
        "outputId": "ae5c084f-fcb9-41ff-f295-72ada4389e35"
      },
      "outputs": [
        {
          "output_type": "error",
          "ename": "RuntimeError",
          "evalue": "mat1 and mat2 shapes cannot be multiplied (3x2 and 3x2)",
          "traceback": [
            "\u001b[0;31m---------------------------------------------------------------------------\u001b[0m",
            "\u001b[0;31mRuntimeError\u001b[0m                              Traceback (most recent call last)",
            "\u001b[0;32m<ipython-input-38-5893e600ebdf>\u001b[0m in \u001b[0;36m<cell line: 10>\u001b[0;34m()\u001b[0m\n\u001b[1;32m      8\u001b[0m                          [9, 12]], dtype=torch.float32)\n\u001b[1;32m      9\u001b[0m \u001b[0;34m\u001b[0m\u001b[0m\n\u001b[0;32m---> 10\u001b[0;31m \u001b[0mtorch\u001b[0m\u001b[0;34m.\u001b[0m\u001b[0mmatmul\u001b[0m\u001b[0;34m(\u001b[0m\u001b[0mtensor_A\u001b[0m\u001b[0;34m,\u001b[0m \u001b[0mtensor_B\u001b[0m\u001b[0;34m)\u001b[0m \u001b[0;31m# (this will error)\u001b[0m\u001b[0;34m\u001b[0m\u001b[0;34m\u001b[0m\u001b[0m\n\u001b[0m",
            "\u001b[0;31mRuntimeError\u001b[0m: mat1 and mat2 shapes cannot be multiplied (3x2 and 3x2)"
          ]
        }
      ],
      "source": [
        "# Shapes need to be in the right way\n",
        "tensor_A = torch.tensor([[1, 2],\n",
        "                         [3, 4],\n",
        "                         [5, 6]], dtype=torch.float32)\n",
        "\n",
        "tensor_B = torch.tensor([[7, 10],\n",
        "                         [8, 11],\n",
        "                         [9, 12]], dtype=torch.float32)\n",
        "\n",
        "torch.matmul(tensor_A, tensor_B) # (this will error)"
      ]
    },
    {
      "cell_type": "markdown",
      "metadata": {
        "id": "HNA6MZEFxWVt"
      },
      "source": [
        "We can make matrix multiplication work between `tensor_A` and `tensor_B` by making their inner dimensions match.\n",
        "\n",
        "One of the ways to do this is with a **transpose** (switch the dimensions of a given tensor).\n",
        "\n",
        "You can perform transposes in PyTorch using either:\n",
        "* `torch.transpose(input, dim0, dim1)` - where `input` is the desired tensor to transpose and `dim0` and `dim1` are the dimensions to be swapped.\n",
        "* `tensor.T` - where `tensor` is the desired tensor to transpose.\n",
        "\n",
        "Let's try the latter."
      ]
    },
    {
      "cell_type": "code",
      "execution_count": null,
      "metadata": {
        "colab": {
          "base_uri": "https://localhost:8080/"
        },
        "id": "lUqgaANiy1wq",
        "outputId": "b42e5b5e-4933-4d1e-c915-3ad46ed71e3c"
      },
      "outputs": [
        {
          "output_type": "stream",
          "name": "stdout",
          "text": [
            "tensor([[1., 2.],\n",
            "        [3., 4.],\n",
            "        [5., 6.]])\n",
            "tensor([[ 7., 10.],\n",
            "        [ 8., 11.],\n",
            "        [ 9., 12.]])\n"
          ]
        }
      ],
      "source": [
        "# View tensor_A and tensor_B\n",
        "print(tensor_A)\n",
        "print(tensor_B)"
      ]
    },
    {
      "cell_type": "code",
      "execution_count": null,
      "metadata": {
        "colab": {
          "base_uri": "https://localhost:8080/"
        },
        "id": "DveqxO7iy_Fi",
        "outputId": "b5d83baa-e6fb-489c-d6f3-96ac75307bba"
      },
      "outputs": [
        {
          "output_type": "stream",
          "name": "stdout",
          "text": [
            "tensor([[1., 2.],\n",
            "        [3., 4.],\n",
            "        [5., 6.]])\n",
            "tensor([[ 7.,  8.,  9.],\n",
            "        [10., 11., 12.]])\n"
          ]
        }
      ],
      "source": [
        "# View tensor_A and tensor_B.T\n",
        "print(tensor_A)\n",
        "print(tensor_B.T)"
      ]
    },
    {
      "cell_type": "code",
      "execution_count": null,
      "metadata": {
        "colab": {
          "base_uri": "https://localhost:8080/"
        },
        "id": "35rEIu-NKtVE",
        "outputId": "c08140ac-6f99-46e5-b578-9d8e79e7db20"
      },
      "outputs": [
        {
          "output_type": "stream",
          "name": "stdout",
          "text": [
            "Original shapes: tensor_A = torch.Size([3, 2]), tensor_B = torch.Size([3, 2])\n",
            "\n",
            "New shapes: tensor_A = torch.Size([3, 2]) (same as above), tensor_B.T = torch.Size([2, 3])\n",
            "\n",
            "Multiplying: torch.Size([3, 2]) * torch.Size([2, 3]) <- inner dimensions match\n",
            "\n",
            "Output:\n",
            "\n",
            "tensor([[ 27.,  30.,  33.],\n",
            "        [ 61.,  68.,  75.],\n",
            "        [ 95., 106., 117.]])\n",
            "\n",
            "Output shape: torch.Size([3, 3])\n"
          ]
        }
      ],
      "source": [
        "# The operation works when tensor_B is transposed\n",
        "print(f\"Original shapes: tensor_A = {tensor_A.shape}, tensor_B = {tensor_B.shape}\\n\")\n",
        "print(f\"New shapes: tensor_A = {tensor_A.shape} (same as above), tensor_B.T = {tensor_B.T.shape}\\n\")\n",
        "print(f\"Multiplying: {tensor_A.shape} * {tensor_B.T.shape} <- inner dimensions match\\n\")\n",
        "print(\"Output:\\n\")\n",
        "output = torch.matmul(tensor_A, tensor_B.T)\n",
        "print(output)\n",
        "print(f\"\\nOutput shape: {output.shape}\")"
      ]
    },
    {
      "cell_type": "markdown",
      "metadata": {
        "id": "MfcFEqfLjN24"
      },
      "source": [
        "You can also use [`torch.mm()`](https://pytorch.org/docs/stable/generated/torch.mm.html) which is a short for `torch.matmul()`."
      ]
    },
    {
      "cell_type": "code",
      "execution_count": null,
      "metadata": {
        "colab": {
          "base_uri": "https://localhost:8080/"
        },
        "id": "x3rJvW_TTGe_",
        "outputId": "dc06917a-12c1-47a5-fe0d-9e1510d5969c"
      },
      "outputs": [
        {
          "output_type": "execute_result",
          "data": {
            "text/plain": [
              "tensor([[ 27.,  30.,  33.],\n",
              "        [ 61.,  68.,  75.],\n",
              "        [ 95., 106., 117.]])"
            ]
          },
          "metadata": {},
          "execution_count": 41
        }
      ],
      "source": [
        "# torch.mm is a shortcut for matmul\n",
        "torch.mm(tensor_A, tensor_B.T)"
      ]
    },
    {
      "cell_type": "markdown",
      "metadata": {
        "id": "bXKozI4T0hFi"
      },
      "source": [
        "ถ้าไม่มีการสลับเมทริกซ์ (transpose) กฎของการคูณเมทริกซ์จะไม่ถูกต้องและจะเกิดข้อผิดพลาดเหมือนที่เห็นข้างบน\n",
        "\n",
        "เอาแบบภาพอธิบายดีไหม?\n",
        "\n",
        "![visual demo of matrix multiplication](https://github.com/mrdbourke/pytorch-deep-learning/raw/main/images/00-matrix-multiply-crop.gif)\n",
        "\n",
        "You can create your own matrix multiplication visuals like this at http://matrixmultiplication.xyz/.\n",
        "\n",
        "> **Note:** A matrix multiplication like this is also referred to as the [**dot product**](https://www.mathsisfun.com/algebra/vectors-dot-product.html) of two matrices.\n",
        "\n"
      ]
    },
    {
      "cell_type": "markdown",
      "metadata": {
        "id": "hA64Z4DmkB31"
      },
      "source": [
        "Neural networks เต็มไปด้วยการคูณเมทริกซ์และการ dot products\n",
        "\n",
        "The [`torch.nn.Linear()`](https://pytorch.org/docs/1.9.1/generated/torch.nn.Linear.html) (เราจะได้เห็นในภายหลัง) หรือที่รู้จักกันว่า feed-forward layer หรือ fully connected layer จะทำการคูณเมทริกซ์ระหว่างอินพุต  `x` และเมทริกซ์ weight`A`.\n",
        "\n",
        "$$\n",
        "y = x\\cdot{A^T} + b\n",
        "$$\n",
        "\n",
        "ซึ่ง:\n",
        "* `x` คืออินพุตของเลเยอร์ (การเรียนรู้เชิงลึกคือการซ้อนกันของเลเยอร์ต่างๆ เช่น `torch.nn.Linear()` และอื่นๆ ที่ต่อกัน).\n",
        "* `A` คือเมทริกซ์น้ำหนักที่ถูกสร้างโดยเลเยอร์ ซึ่งเริ่มต้นจากตัวเลขสุ่มที่ถูกปรับปรุงเมื่อ neural network เรียนรู้ที่จะสื่อถึงรูปแบบในข้อมูลได้ดีขึ้น (สังเกต \"`T`\" นั่นคือเพราะเมทริกซ์ weightถูกสลับเมทริกซ์)\n",
        "  * **Note:** อาจเห็น`W` หรืออักษรอื่นๆ เช่น  `X` ใช้เพื่อแสดงเมทริกซ์ weight\n",
        "* `b` คือค่าลำเอียง (bias) ที่ใช้เพื่อปรับน้ำหนักและอินพุตเล็กน้อย\n",
        "* `y` คือเอาต์พุต (การปรับแต่งอินพุตเพื่อหวังจะค้นหารูปแบบในนั้น)\n",
        "\n",
        "นี่คือฟังก์ชันเชิงเส้น (อาจเคยเห็นบางอย่างเช่น $y = mx+b$ ในโรงเรียนหรือที่อื่น) และสามารถใช้เพื่อวาดเส้นตรงได้!\n",
        "\n",
        "มาลองเล่นกับ linear layer กัน\n",
        "\n",
        "ลองเปลี่ยนค่าของ `in_features` และ  `out_features` ด้านล่างแล้วดูว่าจะเกิดอะไรขึ้น\n",
        "\n",
        "สังเกตอะไรเกี่ยวกับรูปร่างบ้างไหม?"
      ]
    },
    {
      "cell_type": "code",
      "source": [
        "tensor_A"
      ],
      "metadata": {
        "colab": {
          "base_uri": "https://localhost:8080/"
        },
        "id": "5DXfvHwCvSBx",
        "outputId": "a2e5e899-253f-4842-aed0-0047c0c4ecd0"
      },
      "execution_count": null,
      "outputs": [
        {
          "output_type": "execute_result",
          "data": {
            "text/plain": [
              "tensor([[1., 2.],\n",
              "        [3., 4.],\n",
              "        [5., 6.]])"
            ]
          },
          "metadata": {},
          "execution_count": 66
        }
      ]
    },
    {
      "cell_type": "code",
      "execution_count": null,
      "metadata": {
        "colab": {
          "base_uri": "https://localhost:8080/"
        },
        "id": "mC_MjKW1LX7T",
        "outputId": "08c010e5-5f56-4010-de96-d9de731277f5"
      },
      "outputs": [
        {
          "output_type": "stream",
          "name": "stdout",
          "text": [
            "Input shape: torch.Size([3, 2])\n",
            "\n",
            "Output:\n",
            "tensor([[1.5488],\n",
            "        [3.8038],\n",
            "        [6.0588]], grad_fn=<AddmmBackward0>)\n",
            "\n",
            "Output shape: torch.Size([3, 1])\n"
          ]
        }
      ],
      "source": [
        "# Since the linear layer starts with a random weights matrix, let's make it reproducible (more on this later)\n",
        "torch.manual_seed(42)\n",
        "# This uses matrix multiplication\n",
        "linear = torch.nn.Linear(in_features=2, # in_features = matches inner dimension of input\n",
        "                         out_features=1) # out_features = describes outer value\n",
        "x = tensor_A\n",
        "output = linear(x)\n",
        "print(f\"Input shape: {x.shape}\\n\")\n",
        "print(f\"Output:\\n{output}\\n\\nOutput shape: {output.shape}\")"
      ]
    },
    {
      "cell_type": "code",
      "source": [
        "output"
      ],
      "metadata": {
        "colab": {
          "base_uri": "https://localhost:8080/"
        },
        "id": "0xlKj5K3t0dZ",
        "outputId": "0b7b210c-51ab-42f3-bbd0-8dee97d2987c"
      },
      "execution_count": null,
      "outputs": [
        {
          "output_type": "execute_result",
          "data": {
            "text/plain": [
              "tensor([[1.5488],\n",
              "        [3.8038],\n",
              "        [6.0588]], grad_fn=<AddmmBackward0>)"
            ]
          },
          "metadata": {},
          "execution_count": 72
        }
      ]
    },
    {
      "cell_type": "markdown",
      "metadata": {
        "id": "EPNF0nMWoGEj"
      },
      "source": [
        "ถ้าไม่เคยทำมันมาก่อน, การคูณเมทริกซ์อาจเป็นเรื่องที่งงๆ ในตอนแรก\n",
        "\n",
        "แต่พอได้ลองเล่นกับมันหลายครั้งแล้ว และอาจจะได้เจอ neural networks บ้าง จะเห็นว่ามันคล้ายๆกันไปหมดเลย\n",
        "\n",
        "matrix multiplication is all you need.\n",
        "![matrix multiplication is all you need](https://raw.githubusercontent.com/mrdbourke/pytorch-deep-learning/main/images/00_matrix_multiplication_is_all_you_need.jpeg)\n",
        "\n",
        "*When you start digging into neural network layers and building your own, you'll find matrix multiplications everywhere. **Source:** https://marksaroufim.substack.com/p/working-class-deep-learner*"
      ]
    },
    {
      "cell_type": "markdown",
      "metadata": {
        "id": "pjMmrJOOPv5e"
      },
      "source": [
        "### Finding the min, max, mean, sum, etc (aggregation)\n",
        "\n",
        "ตอนนี้หลังจากที่เราเห็นวิธีการจัดการ tensors บ้างแล้ว, มาดูวิธีการรวมพวกเข้าด้วยกันบ้าง (ทำให้มีค่าน้อยลง)\n",
        "\n",
        "เริ่มต้นจากการสร้าง tensor แล้วหาค่าสูงสุด (max), ต่ำสุด (min), ค่าเฉลี่ย (mean), และผลรวม (sum) ของมันดูครับ\n",
        "\n",
        "\n",
        "\n"
      ]
    },
    {
      "cell_type": "code",
      "execution_count": null,
      "metadata": {
        "colab": {
          "base_uri": "https://localhost:8080/"
        },
        "id": "jrFQbe5fP1Rk",
        "outputId": "cf4d43f0-8a5a-4254-f826-2f5bb754f916"
      },
      "outputs": [
        {
          "output_type": "execute_result",
          "data": {
            "text/plain": [
              "tensor([  0,  10,  20,  30,  40,  50,  60,  70,  80,  90, 100])"
            ]
          },
          "metadata": {},
          "execution_count": 73
        }
      ],
      "source": [
        "# Create a tensor\n",
        "x = torch.arange(0, 110, 10)\n",
        "x"
      ]
    },
    {
      "cell_type": "markdown",
      "metadata": {
        "id": "-J-wfMdlsEco"
      },
      "source": [
        "ใช้ tensor ที่เราสร้างไว้เพื่อหาค่าสูงสุด (max), ต่ำสุด (min), ค่าเฉลี่ย (mean), และผลรวม (sum)"
      ]
    },
    {
      "cell_type": "code",
      "execution_count": null,
      "metadata": {
        "colab": {
          "base_uri": "https://localhost:8080/"
        },
        "id": "e5wSP9YKP3Lb",
        "outputId": "90e364fd-f7d1-4d42-ffbd-541d2af6f935"
      },
      "outputs": [
        {
          "output_type": "stream",
          "name": "stdout",
          "text": [
            "Minimum: 0\n",
            "Maximum: 100\n",
            "Mean: 50.0\n",
            "Sum: 550\n"
          ]
        }
      ],
      "source": [
        "print(f\"Minimum: {x.min()}\")\n",
        "print(f\"Maximum: {x.max()}\")\n",
        "# print(f\"Mean: {x.mean()}\") # this will error\n",
        "print(f\"Mean: {x.type(torch.float32).mean()}\") # won't work without float datatype\n",
        "print(f\"Sum: {x.sum()}\")"
      ]
    },
    {
      "cell_type": "markdown",
      "metadata": {
        "id": "JHoKpsg3sKQE"
      },
      "source": [
        "> **Note:** บางกรณีเช่น คำสั่ง `torch.mean()` อาจต้องการให้ tensors เป็นชนิดข้อมูล `torch.float32` หรือชนิดข้อมูลอื่นๆ ที่ระบุไว้เป็นเงื่อนไข มิฉะนั้นการดำเนินการอาจล้มเหลวได้ครับ\n",
        "\n",
        "สามารถทำเหมือนเดิมด้วยเมทอด `torch` ได้เช่นกัน"
      ]
    },
    {
      "cell_type": "code",
      "execution_count": null,
      "metadata": {
        "colab": {
          "base_uri": "https://localhost:8080/"
        },
        "id": "0Cr23Y9uP3HO",
        "outputId": "d830172c-9a40-45f9-e68b-d4abeac14f7e"
      },
      "outputs": [
        {
          "output_type": "execute_result",
          "data": {
            "text/plain": [
              "(100, tensor(0), tensor(50.), tensor(550))"
            ]
          },
          "metadata": {},
          "execution_count": 76
        }
      ],
      "source": [
        "torch.max(x), torch.min(x), torch.mean(x.type(torch.float32)), torch.sum(x)"
      ]
    },
    {
      "cell_type": "markdown",
      "metadata": {
        "id": "i7ApCaZjDkvp"
      },
      "source": [
        "### Positional min/max\n",
        "\n",
        "สามารถหาค่า index ของ tensor ที่มีค่าสูงสุดหรือต่ำสุดได้ด้วย[`torch.argmax()`](https://pytorch.org/docs/stable/generated/torch.argmax.html) และ [`torch.argmin()`](https://pytorch.org/docs/stable/generated/torch.argmin.html) respectively.\n",
        "\n",
        "การนี้จะช่วยให้ได้แค่ตำแหน่งที่มีค่าสูงสุด (หรือต่ำสุด) โดยไม่ต้องได้ค่ามันมาจริงๆ\n"
      ]
    },
    {
      "cell_type": "code",
      "execution_count": null,
      "metadata": {
        "colab": {
          "base_uri": "https://localhost:8080/"
        },
        "id": "FzNBl9JSGlHi",
        "outputId": "6344f4cb-9ae4-474c-b851-3134d5d6d657"
      },
      "outputs": [
        {
          "output_type": "stream",
          "name": "stdout",
          "text": [
            "Tensor: tensor([  0,   5,  10,  15,  20,  25,  30,  35,  40,  45,  50,  55,  60,  65,\n",
            "         70,  75,  80,  85,  90,  95, 100, 105, 110, 115, 120, 125, 130, 135,\n",
            "        140, 145, 150, 155, 160, 165, 170, 175, 180, 185, 190, 195])\n",
            "Index where max value occurs: 39\n",
            "Index where min value occurs: 0\n"
          ]
        }
      ],
      "source": [
        "# Create a tensor\n",
        "tensor = torch.arange(0, 200, 5)\n",
        "print(f\"Tensor: {tensor}\")\n",
        "\n",
        "# Returns index of max and min values\n",
        "print(f\"Index where max value occurs: {tensor.argmax()}\")\n",
        "print(f\"Index where min value occurs: {tensor.argmin()}\")\n"
      ]
    },
    {
      "cell_type": "markdown",
      "metadata": {
        "id": "QBu33WihOXBk"
      },
      "source": [
        "### Change tensor datatype\n",
        "\n",
        "เหมือนกับที่พูดเอาไว้ก้อนหน้า ปัญหาที่พบบ่อยในการดำเนินการ deep learning คือการมี tensors ที่มีประเภทข้อมูล (datatypes)ต่างกัน\n",
        "\n",
        "ถ้า tensor หนึ่งเป็น `torch.float64` และอีกตัวเป็น `torch.float32`, อาจเกิด error ได้\n",
        "\n",
        "แต่มีวิธีแก้ไข\n",
        "\n",
        "เราสามารถเปลี่ยนประเภทข้อมูลของ tensors โดยใช้\n",
        "[`torch.Tensor.type(dtype=None)`](https://pytorch.org/docs/stable/generated/torch.Tensor.type.html) โดยที่`dtype` เป็นประเภทของข้อมูลที่คุณต้องการใช้\n",
        "\n",
        "เริ่มต้นจากการสร้าง tensor แล้วตรวจสอบประเภทของข้อมูล (ค่าเริ่มต้นคือ`torch.float32`)."
      ]
    },
    {
      "cell_type": "code",
      "execution_count": null,
      "metadata": {
        "colab": {
          "base_uri": "https://localhost:8080/"
        },
        "id": "rY2FEsCAOaLu",
        "outputId": "4390537f-a908-4959-82a0-97eb51222fb0"
      },
      "outputs": [
        {
          "output_type": "execute_result",
          "data": {
            "text/plain": [
              "torch.float32"
            ]
          },
          "metadata": {},
          "execution_count": 80
        }
      ],
      "source": [
        "# Create a tensor and check its datatype\n",
        "tensor = torch.arange(10., 100., 10.)\n",
        "tensor.dtype"
      ]
    },
    {
      "cell_type": "code",
      "source": [
        "tensor"
      ],
      "metadata": {
        "colab": {
          "base_uri": "https://localhost:8080/"
        },
        "id": "h2NDfF_bxCZn",
        "outputId": "278f9aff-b2ea-4412-d758-16f07be3b2a0"
      },
      "execution_count": null,
      "outputs": [
        {
          "output_type": "execute_result",
          "data": {
            "text/plain": [
              "tensor([10., 20., 30., 40., 50., 60., 70., 80., 90.])"
            ]
          },
          "metadata": {},
          "execution_count": 81
        }
      ]
    },
    {
      "cell_type": "markdown",
      "metadata": {
        "id": "jR30FHEc92of"
      },
      "source": [
        "ตอนนี้เราจะสร้าง tensor อีกตัวที่เหมือนเดิม แต่เปลี่ยนประเภทข้อมูลให้เป็น `torch.float16`\n",
        "\n"
      ]
    },
    {
      "cell_type": "code",
      "execution_count": null,
      "metadata": {
        "colab": {
          "base_uri": "https://localhost:8080/"
        },
        "id": "Cac8gRYjOeab",
        "outputId": "fc25df82-df52-47c4-d5c8-e6fbfc6ec26d"
      },
      "outputs": [
        {
          "output_type": "execute_result",
          "data": {
            "text/plain": [
              "tensor([10., 20., 30., 40., 50., 60., 70., 80., 90.], dtype=torch.float16)"
            ]
          },
          "metadata": {},
          "execution_count": 82
        }
      ],
      "source": [
        "# Create a float16 tensor\n",
        "tensor_float16 = tensor.type(torch.float16)\n",
        "tensor_float16\n"
      ]
    },
    {
      "cell_type": "markdown",
      "metadata": {
        "id": "ndVlKJZ4-7_5"
      },
      "source": [
        "And we can do something similar to make a `torch.int8` tensor."
      ]
    },
    {
      "cell_type": "code",
      "execution_count": null,
      "metadata": {
        "colab": {
          "base_uri": "https://localhost:8080/"
        },
        "id": "8Yqovld2Oj6s",
        "outputId": "6dd85a5a-5e7c-4a29-e661-1ded0cb0b8e5"
      },
      "outputs": [
        {
          "output_type": "execute_result",
          "data": {
            "text/plain": [
              "tensor([10, 20, 30, 40, 50, 60, 70, 80, 90], dtype=torch.int8)"
            ]
          },
          "metadata": {},
          "execution_count": 83
        }
      ],
      "source": [
        "# Create a int8 tensor\n",
        "tensor_int8 = tensor.type(torch.int8)\n",
        "tensor_int8"
      ]
    },
    {
      "cell_type": "markdown",
      "metadata": {
        "id": "44GxVabar-xe"
      },
      "source": [
        "> **Note:** ประเภทข้อมูลที่แตกต่างกันอาจทำให้สับสนในตอนแรก แต่คิดว่าเป็นแบบนี้, ตัวเลขที่น้อยลง (เช่น 32, 16, 8) จะทำให้คอมพิวเตอร์เก็บค่าได้ไม่แม่นยำเท่าไหร่ และด้วยจำนวนพื้นที่ที่น้อยลงนี้, มักจะทำให้คำนวณเร็วขึ้นและลดขนาด model โดยรวมลงไป\n",
        "\n",
        " Neural networks บนโทรศัพท์มักจะใช้ integer 8-bit, ที่เล็กกว่าและทำงานได้เร็วกว่า แต่ก็ไม่แม่นยำเท่ากับ float32 counterparts สำหรับข้อมูลเพิ่มเติมคุณสามารถอ่านเพิ่มเติมได้ที่ [precision in computing](https://en.wikipedia.org/wiki/Precision_(computer_science)).\n"
      ]
    },
    {
      "cell_type": "markdown",
      "metadata": {
        "id": "7CkCtAYmGsHY"
      },
      "source": [
        "### Reshaping, stacking, squeezing and unsqueezing\n",
        "\n",
        "โดจปกติเราจะนิยมเปลี่ยน shape ของข้อมูลกันและต้องเปลี่ยน tensors โดยที่ไม่เปลี่ยนแปลงค่าภายใน\n",
        "\n",
        "ซึ่งมีวิธีหลักๆดังนี้\n",
        "\n",
        "| Method | One-line description |\n",
        "| ----- | ----- |\n",
        "| [`torch.reshape(input, shape)`](https://pytorch.org/docs/stable/generated/torch.reshape.html#torch.reshape) | เปลี่ยนรูปร่างของ `input` to `shape`  (ถ้าเข้ากันได้), สามารถใช้ `torch.Tensor.reshape()`. |\n",
        "| [`Tensor.view(shape)`](https://pytorch.org/docs/stable/generated/torch.Tensor.view.html) | Returns a view of the original tensor in a different `shape` but shares the same data as the original tensor. |\n",
        "| [`torch.stack(tensors, dim=0)`](https://pytorch.org/docs/1.9.1/generated/torch.stack.html) | Concatenates a sequence of `tensors` along a new dimension (`dim`), all `tensors` must be same size. |\n",
        "| [`torch.squeeze(input)`](https://pytorch.org/docs/stable/generated/torch.squeeze.html) | Squeezes `input` to remove all the dimenions with value `1`. |\n",
        "| [`torch.unsqueeze(input, dim)`](https://pytorch.org/docs/1.9.1/generated/torch.unsqueeze.html) | Returns `input` with a dimension value of `1` added at `dim`. |\n",
        "| [`torch.permute(input, dims)`](https://pytorch.org/docs/stable/generated/torch.permute.html) | Returns a *view* of the original `input` with its dimensions permuted (rearranged) to `dims`. |\n",
        "\n",
        "ทำไมต้องใช้วิธีแบบนี้?\n",
        "\n",
        "เพราะโมเดล deep learning (neural networks) เกี่ยวกับการจัดการ tensors ในทางต่างๆ และเนื่องจากกฎของการคูณเมทริกซ์ หากมีข้อผิดพลาดเกี่ยวกับรูปร่างที่ไม่ตรงกัน อาจพบerror การใช้ method เหล่านี้ช่วยให้มั่นใจได้ว่าสมาชิกที่ถูกต้องของ tensors ของกำลังทำ operation กับสมาชิกที่ถูกต้องตามกฎการคูณของ tensors อื่นๆ\n",
        "\n",
        "มาลองเริ่มต้นด้วยการสร้าง tensor กัน"
      ]
    },
    {
      "cell_type": "code",
      "execution_count": null,
      "metadata": {
        "colab": {
          "base_uri": "https://localhost:8080/"
        },
        "id": "EYjRTLOzG4Ev",
        "outputId": "aa8a89de-10ad-4a6f-b4b1-a8caab69a2be"
      },
      "outputs": [
        {
          "output_type": "execute_result",
          "data": {
            "text/plain": [
              "(tensor([1., 2., 3., 4., 5., 6., 7.]), torch.Size([7]))"
            ]
          },
          "metadata": {},
          "execution_count": 92
        }
      ],
      "source": [
        "# Create a tensor\n",
        "import torch\n",
        "x = torch.arange(1., 8.)\n",
        "x, x.shape"
      ]
    },
    {
      "cell_type": "markdown",
      "metadata": {
        "id": "3_VarMO9CoT8"
      },
      "source": [
        "ตอนนี้เราจะเพิ่มมิติเพิ่มเติมด้วย `torch.reshape()`."
      ]
    },
    {
      "cell_type": "code",
      "execution_count": null,
      "metadata": {
        "colab": {
          "base_uri": "https://localhost:8080/"
        },
        "id": "US4WjpQ3SG-8",
        "outputId": "416fefcc-b385-497f-8ab3-ae51932c9c9f"
      },
      "outputs": [
        {
          "output_type": "execute_result",
          "data": {
            "text/plain": [
              "(tensor([[1., 2., 3., 4., 5., 6., 7.]]), torch.Size([1, 7]))"
            ]
          },
          "metadata": {},
          "execution_count": 85
        }
      ],
      "source": [
        "# Add an extra dimension\n",
        "x_reshaped = x.reshape(1, 7)\n",
        "x_reshaped, x_reshaped.shape"
      ]
    },
    {
      "cell_type": "markdown",
      "metadata": {
        "id": "tig5xm0jCxuU"
      },
      "source": [
        "เรายังสามารถเปลี่ยนมุมมองด้วย `torch.view()`."
      ]
    },
    {
      "cell_type": "code",
      "execution_count": null,
      "metadata": {
        "colab": {
          "base_uri": "https://localhost:8080/"
        },
        "id": "WDN2BNe5TGfB",
        "outputId": "191de76e-7bcd-4e3e-dcdf-4028326c9e9c"
      },
      "outputs": [
        {
          "output_type": "execute_result",
          "data": {
            "text/plain": [
              "(tensor([[1., 2., 3., 4., 5., 6., 7.]]), torch.Size([1, 7]))"
            ]
          },
          "metadata": {},
          "execution_count": 86
        }
      ],
      "source": [
        "# Change view (keeps same data as original but changes view)\n",
        "# See more: https://stackoverflow.com/a/54507446/7900723\n",
        "z = x.view(1, 7)\n",
        "z, z.shape"
      ]
    },
    {
      "cell_type": "markdown",
      "metadata": {
        "id": "m8joAaUEC2NX"
      },
      "source": [
        "อย่าลืมนะว่า การเปลี่ยนมุมมองของ tensor ด้วย torch.view() จริงๆ แล้วสร้างมุมมองใหม่ของ \"tensor เดียวกัน\"\n",
        "\n",
        "ดังนั้นการเปลี่ยนมุมมองจะเปลี่ยน tensor ต้นฉบับไปด้วย"
      ]
    },
    {
      "cell_type": "code",
      "execution_count": null,
      "metadata": {
        "colab": {
          "base_uri": "https://localhost:8080/"
        },
        "id": "2DxURVvXTGfC",
        "outputId": "33ff99b0-53f5-4647-eb59-2d9a5805e80b"
      },
      "outputs": [
        {
          "output_type": "execute_result",
          "data": {
            "text/plain": [
              "(tensor([[5., 2., 3., 4., 5., 6., 7.]]), tensor([1., 2., 3., 4., 5., 6., 7.]))"
            ]
          },
          "metadata": {},
          "execution_count": 93
        }
      ],
      "source": [
        "# Changing z changes x\n",
        "z[:, 0] = 5\n",
        "z, x"
      ]
    },
    {
      "cell_type": "markdown",
      "metadata": {
        "id": "YxnqDBlpDDJ_"
      },
      "source": [
        "ถ้าเราต้องการนำ tensor ใหม่ของเรามารวมกันให้ได้ห้าชั้น เราสามารถทำได้ด้วย  `torch.stack()`."
      ]
    },
    {
      "cell_type": "code",
      "execution_count": null,
      "metadata": {
        "colab": {
          "base_uri": "https://localhost:8080/"
        },
        "id": "pX5Adf3ORiTK",
        "outputId": "35f5dfe6-1882-4d88-86f6-1acfe06925be"
      },
      "outputs": [
        {
          "output_type": "execute_result",
          "data": {
            "text/plain": [
              "tensor([[1., 1., 1., 1.],\n",
              "        [2., 2., 2., 2.],\n",
              "        [3., 3., 3., 3.],\n",
              "        [4., 4., 4., 4.],\n",
              "        [5., 5., 5., 5.],\n",
              "        [6., 6., 6., 6.],\n",
              "        [7., 7., 7., 7.]])"
            ]
          },
          "metadata": {},
          "execution_count": 96
        }
      ],
      "source": [
        "# Stack tensors on top of each other\n",
        "x_stacked = torch.stack([x, x, x, x], dim=1) # try changing dim to dim=1 and see what happens\n",
        "x_stacked"
      ]
    },
    {
      "cell_type": "code",
      "source": [
        "x_stacked.shape"
      ],
      "metadata": {
        "colab": {
          "base_uri": "https://localhost:8080/"
        },
        "id": "jny7BXGIz_32",
        "outputId": "77627063-7359-47dc-962a-ffd50b83b2b7"
      },
      "execution_count": null,
      "outputs": [
        {
          "output_type": "execute_result",
          "data": {
            "text/plain": [
              "torch.Size([7, 4])"
            ]
          },
          "metadata": {},
          "execution_count": 97
        }
      ]
    },
    {
      "cell_type": "markdown",
      "metadata": {
        "id": "ET56QzNHDuOI"
      },
      "source": [
        "ถ้าต้องการลบมิติเดียวจาก tensor ทั้งหมดละ?\n",
        "\n",
        "สามารถใช้ `torch.squeeze()`"
      ]
    },
    {
      "cell_type": "code",
      "source": [
        "print(f\"Previous tensor: {x_reshaped}\")\n",
        "print(f\"Previous shape: {x_reshaped.shape}\")\n"
      ],
      "metadata": {
        "colab": {
          "base_uri": "https://localhost:8080/"
        },
        "id": "uYumjB_t0ML7",
        "outputId": "dbc59f9b-8bcb-4dce-f42d-307c736807ab"
      },
      "execution_count": null,
      "outputs": [
        {
          "output_type": "stream",
          "name": "stdout",
          "text": [
            "Previous tensor: tensor([[5., 2., 3., 4., 5., 6., 7.]])\n",
            "Previous shape: torch.Size([1, 7])\n"
          ]
        }
      ]
    },
    {
      "cell_type": "code",
      "execution_count": null,
      "metadata": {
        "colab": {
          "base_uri": "https://localhost:8080/"
        },
        "id": "w2Y2HEoDRxJZ",
        "outputId": "57f3a515-fb4d-4242-925d-358a4291fdf0"
      },
      "outputs": [
        {
          "output_type": "stream",
          "name": "stdout",
          "text": [
            "\n",
            "New tensor: tensor([5., 2., 3., 4., 5., 6., 7.])\n",
            "New shape: torch.Size([7])\n"
          ]
        }
      ],
      "source": [
        "# Remove extra dimension from x_reshaped\n",
        "x_squeezed = x_reshaped.squeeze()\n",
        "print(f\"\\nNew tensor: {x_squeezed}\")\n",
        "print(f\"New shape: {x_squeezed.shape}\")"
      ]
    },
    {
      "cell_type": "markdown",
      "metadata": {
        "id": "acjDLk8WD8NC"
      },
      "source": [
        "และหากต้องการทำการกลับกันของ torch.squeeze() สามารถใช้ torch.unsqueeze()"
      ]
    },
    {
      "cell_type": "code",
      "execution_count": null,
      "metadata": {
        "colab": {
          "base_uri": "https://localhost:8080/"
        },
        "id": "CUC-DEEwSYv7",
        "outputId": "814bcd79-dff5-4106-fee5-e79ba5819ee9"
      },
      "outputs": [
        {
          "output_type": "stream",
          "name": "stdout",
          "text": [
            "Previous tensor: tensor([5., 2., 3., 4., 5., 6., 7.])\n",
            "Previous shape: torch.Size([7])\n",
            "\n",
            "New tensor: tensor([[5., 2., 3., 4., 5., 6., 7.]])\n",
            "New shape: torch.Size([1, 7])\n"
          ]
        }
      ],
      "source": [
        "print(f\"Previous tensor: {x_squeezed}\")\n",
        "print(f\"Previous shape: {x_squeezed.shape}\")\n",
        "\n",
        "## Add an extra dimension with unsqueeze\n",
        "x_unsqueezed = x_squeezed.unsqueeze(dim=0)\n",
        "print(f\"\\nNew tensor: {x_unsqueezed}\")\n",
        "print(f\"New shape: {x_unsqueezed.shape}\")"
      ]
    },
    {
      "cell_type": "markdown",
      "metadata": {
        "id": "R9DuJzXgFbM5"
      },
      "source": [
        "อีกทั้งยังสามารถจัดเรียงลำดับค่าแกนด้วย `torch.permute(input, dims)` โดยที่ input จะได้รับการเปลี่ยนเป็น มุมมอง ใหม่ตาม dims"
      ]
    },
    {
      "cell_type": "code",
      "source": [
        "x_original = torch.rand(size=(229, 224, 3))\n",
        "x_original.shape"
      ],
      "metadata": {
        "colab": {
          "base_uri": "https://localhost:8080/"
        },
        "id": "frXUq8za0fDb",
        "outputId": "ac145a65-8c47-40dd-b01e-e246b5248864"
      },
      "execution_count": null,
      "outputs": [
        {
          "output_type": "execute_result",
          "data": {
            "text/plain": [
              "torch.Size([229, 224, 3])"
            ]
          },
          "metadata": {},
          "execution_count": 104
        }
      ]
    },
    {
      "cell_type": "code",
      "execution_count": null,
      "metadata": {
        "colab": {
          "base_uri": "https://localhost:8080/"
        },
        "id": "fCRGCX8DTGfC",
        "outputId": "9096af4e-3e2b-4d33-9820-b32409b0080f"
      },
      "outputs": [
        {
          "output_type": "stream",
          "name": "stdout",
          "text": [
            "Previous shape: torch.Size([229, 224, 3])\n",
            "New shape: torch.Size([3, 229, 224])\n"
          ]
        }
      ],
      "source": [
        "# Permute the original tensor to rearrange the axis order\n",
        "x_permuted = x_original.permute(2, 0, 1) # shifts axis 0->1, 1->2, 2->0\n",
        "\n",
        "print(f\"Previous shape: {x_original.shape}\")\n",
        "print(f\"New shape: {x_permuted.shape}\")"
      ]
    },
    {
      "cell_type": "markdown",
      "metadata": {
        "id": "nEPqVL7fTGfC"
      },
      "source": [
        "## Indexing (selecting data from tensors)\n",
        "\n",
        "บางครั้งเราก็อาจต้องการเลือกข้อมูลที่เฉพาะเจาะจงจาก tensors (เช่นเพียง columns แรกหรือแถวที่สอง)\n",
        "\n",
        "ในการทำเช่นนั้น คุณสามารถใช้การ indexing\n",
        "\n",
        "หากเคยทำการ indexing ใน Python lists หรือ NumPy arrays, การ indexing ถึงใน PyTorch ด้วย tensors จะคล้ายกันมาก"
      ]
    },
    {
      "cell_type": "code",
      "execution_count": null,
      "metadata": {
        "colab": {
          "base_uri": "https://localhost:8080/"
        },
        "id": "oSXzdxCQTGfD",
        "outputId": "6aa9df04-e4bf-405a-fc51-75bda242ef12"
      },
      "outputs": [
        {
          "output_type": "execute_result",
          "data": {
            "text/plain": [
              "(tensor([[[1, 2, 3],\n",
              "          [4, 5, 6],\n",
              "          [7, 8, 9]]]),\n",
              " torch.Size([1, 3, 3]))"
            ]
          },
          "metadata": {},
          "execution_count": 106
        }
      ],
      "source": [
        "# Create a tensor\n",
        "import torch\n",
        "x = torch.arange(1, 10).reshape(1, 3, 3)\n",
        "x, x.shape"
      ]
    },
    {
      "cell_type": "markdown",
      "metadata": {
        "id": "xQG5krnKG43B"
      },
      "source": [
        "การ indexing จะไปตามลำดับ dimension ภายนอก -> dimension ภายใน (ดูที่เครื่องหมายวงเล็บสี่เหลี่ยม `[`)."
      ]
    },
    {
      "cell_type": "code",
      "execution_count": null,
      "metadata": {
        "colab": {
          "base_uri": "https://localhost:8080/"
        },
        "id": "zv_Z3IAzTGfD",
        "outputId": "883160fa-7e3f-4711-f46f-4477f4e633cb"
      },
      "outputs": [
        {
          "output_type": "stream",
          "name": "stdout",
          "text": [
            "First square bracket:\n",
            "tensor([[1, 2, 3],\n",
            "        [4, 5, 6],\n",
            "        [7, 8, 9]])\n",
            "Second square bracket: tensor([1, 2, 3])\n",
            "Third square bracket: 1\n"
          ]
        }
      ],
      "source": [
        "# Let's index bracket by bracket\n",
        "print(f\"First square bracket:\\n{x[0]}\")\n",
        "print(f\"Second square bracket: {x[0][0]}\")\n",
        "print(f\"Third square bracket: {x[0][0][0]}\")"
      ]
    },
    {
      "cell_type": "markdown",
      "metadata": {
        "id": "XaLjaIFxHe89"
      },
      "source": [
        "และยังสามารถใช้ `:` เพื่อระบุ \"ค่าทั้งหมดใน dimension นี้\" และใช้เครื่องหมายจุลภาค (`,`) เพื่อเพิ่มมิติอื่นๆ"
      ]
    },
    {
      "cell_type": "code",
      "execution_count": null,
      "metadata": {
        "colab": {
          "base_uri": "https://localhost:8080/"
        },
        "id": "gCT09pqeTGfD",
        "outputId": "7ad79ba4-d5f9-4b16-d03e-3779ca23e8fe"
      },
      "outputs": [
        {
          "output_type": "execute_result",
          "data": {
            "text/plain": [
              "tensor([[1, 2, 3]])"
            ]
          },
          "metadata": {},
          "execution_count": 113
        }
      ],
      "source": [
        "# Get all values of 0th dimension and the 0 index of 1st dimension\n",
        "x[:, 0]"
      ]
    },
    {
      "cell_type": "code",
      "execution_count": null,
      "metadata": {
        "colab": {
          "base_uri": "https://localhost:8080/"
        },
        "id": "dwDx_gMsTGfD",
        "outputId": "76fec39c-07fc-4515-d62c-05fc34948320"
      },
      "outputs": [
        {
          "output_type": "execute_result",
          "data": {
            "text/plain": [
              "tensor([[2, 5, 8]])"
            ]
          },
          "metadata": {},
          "execution_count": 114
        }
      ],
      "source": [
        "# Get all values of 0th & 1st dimensions but only index 1 of 2nd dimension\n",
        "x[:, :, 1]"
      ]
    },
    {
      "cell_type": "code",
      "source": [
        "x[:,:2]"
      ],
      "metadata": {
        "colab": {
          "base_uri": "https://localhost:8080/"
        },
        "id": "t32gW1G83aLj",
        "outputId": "b05b580c-9467-4d8d-842c-96127058b835"
      },
      "execution_count": null,
      "outputs": [
        {
          "output_type": "execute_result",
          "data": {
            "text/plain": [
              "tensor([[[1, 2, 3],\n",
              "         [4, 5, 6]]])"
            ]
          },
          "metadata": {},
          "execution_count": 116
        }
      ]
    },
    {
      "cell_type": "code",
      "execution_count": null,
      "metadata": {
        "colab": {
          "base_uri": "https://localhost:8080/"
        },
        "id": "xiw3_1E3TGfD",
        "outputId": "db25b73b-492f-468a-aab4-045c4e5cba0c"
      },
      "outputs": [
        {
          "output_type": "execute_result",
          "data": {
            "text/plain": [
              "tensor([5])"
            ]
          },
          "metadata": {},
          "execution_count": 117
        }
      ],
      "source": [
        "# Get all values of the 0 dimension but only the 1 index value of the 1st and 2nd dimension\n",
        "x[:, 1, 1]"
      ]
    },
    {
      "cell_type": "code",
      "execution_count": null,
      "metadata": {
        "colab": {
          "base_uri": "https://localhost:8080/"
        },
        "id": "XFVEgrKhTGfD",
        "outputId": "bfd673a3-36e0-4a31-d167-ccea8b764c0c"
      },
      "outputs": [
        {
          "output_type": "execute_result",
          "data": {
            "text/plain": [
              "tensor([1, 2, 3])"
            ]
          },
          "metadata": {},
          "execution_count": 118
        }
      ],
      "source": [
        "# Get index 0 of 0th and 1st dimension and all values of 2nd dimension\n",
        "x[0, 0, :] # same as x[0][0]"
      ]
    },
    {
      "cell_type": "markdown",
      "metadata": {
        "id": "h8ZaW0Bq7rCm"
      },
      "source": [
        "## PyTorch tensors & NumPy\n",
        "\n",
        "เนื่องจาก NumPy เป็นไลบรารีการคำนวณตัวเลขของ Python ที่นิยม PyTorch มีความสามารถในการทำงานร่วมกับ NumPy ได้อย่างดี\n",
        "\n",
        "สอง method หลักที่ต้องใช้สำหรับการแปลง NumPy เป็น PyTorch (แปลงได้ทั้ง 2 ทางไป-กลับ) คือ:\n",
        "\n",
        "* [`torch.from_numpy(ndarray)`](https://pytorch.org/docs/stable/generated/torch.from_numpy.html) - NumPy array -> PyTorch tensor.\n",
        "* [`torch.Tensor.numpy()`](https://pytorch.org/docs/stable/generated/torch.Tensor.numpy.html) - PyTorch tensor -> NumPy array.\n",
        "\n",
        "มาลองใช้กัน"
      ]
    },
    {
      "cell_type": "code",
      "source": [
        "import numpy as np\n",
        "array = np.arange(1.0, 8.0)\n",
        "array"
      ],
      "metadata": {
        "colab": {
          "base_uri": "https://localhost:8080/"
        },
        "id": "AZAozmrl3w-p",
        "outputId": "3eb8a132-8242-40a1-d70f-4c1a41fed462"
      },
      "execution_count": null,
      "outputs": [
        {
          "output_type": "execute_result",
          "data": {
            "text/plain": [
              "array([1., 2., 3., 4., 5., 6., 7.])"
            ]
          },
          "metadata": {},
          "execution_count": 121
        }
      ]
    },
    {
      "cell_type": "code",
      "execution_count": null,
      "metadata": {
        "colab": {
          "base_uri": "https://localhost:8080/"
        },
        "id": "yDrDCnvY7rKS",
        "outputId": "ccf314c1-b400-4e87-c3fc-ab2cee471064"
      },
      "outputs": [
        {
          "output_type": "execute_result",
          "data": {
            "text/plain": [
              "(array([1., 2., 3., 4., 5., 6., 7.]),\n",
              " tensor([1., 2., 3., 4., 5., 6., 7.], dtype=torch.float64))"
            ]
          },
          "metadata": {},
          "execution_count": 123
        }
      ],
      "source": [
        "# NumPy array to tensor\n",
        "import torch\n",
        "import numpy as np\n",
        "\n",
        "array = np.arange(1.0, 8.0)\n",
        "\n",
        "\n",
        "tensor = torch.from_numpy(array)\n",
        "array, tensor"
      ]
    },
    {
      "cell_type": "markdown",
      "metadata": {
        "id": "16JG6cONLPnO"
      },
      "source": [
        "> **Note:** โดยค่า default NumPy arrays จะถูกสร้างขึ้นด้วยประเภทข้อมูล float64 และหากแปลงมันเป็น PyTorch tenso มันจะยังคงรักษาประเภทข้อมูลเดิม (เช่นเดียวกับที่แสดงข้างบน)\n",
        ">\n",
        "> อย่างไรก็ตาม, การคำนวณใน PyTorch มักใช้  `float32` เป็นค่า default\n",
        ">\n",
        "> ดังนั้นหากต้องการแปลง NumPy array (float64) -> PyTorch tensor (float64) -> PyTorch tensor (float32) สามารถใช้ `tensor = torch.from_numpy(array).type(torch.float32)`."
      ]
    },
    {
      "cell_type": "code",
      "execution_count": null,
      "metadata": {
        "colab": {
          "base_uri": "https://localhost:8080/"
        },
        "id": "ovwl7VCREv8L",
        "outputId": "a99a99b1-eaec-45cc-babe-eaea787d39e5"
      },
      "outputs": [
        {
          "output_type": "execute_result",
          "data": {
            "text/plain": [
              "(array([2., 3., 4., 5., 6., 7., 8.]),\n",
              " tensor([1., 2., 3., 4., 5., 6., 7.], dtype=torch.float64))"
            ]
          },
          "metadata": {},
          "execution_count": 124
        }
      ],
      "source": [
        "# Change the array, keep the tensor\n",
        "array = array + 1\n",
        "array, tensor"
      ]
    },
    {
      "cell_type": "markdown",
      "metadata": {
        "id": "geVvu1p0MTWc"
      },
      "source": [
        "หากต้องการที่จะเปลี่ยนจาก PyTorch tensor เป็น NumPy array สามารถเรียกใช้ `tensor.numpy()`."
      ]
    },
    {
      "cell_type": "code",
      "execution_count": null,
      "metadata": {
        "colab": {
          "base_uri": "https://localhost:8080/"
        },
        "id": "xw_7ZyVaTKxQ",
        "outputId": "6a2f5fd3-9e26-4c89-e132-931f96a2d37e"
      },
      "outputs": [
        {
          "output_type": "execute_result",
          "data": {
            "text/plain": [
              "(tensor([1., 1., 1., 1., 1., 1., 1.]),\n",
              " array([1., 1., 1., 1., 1., 1., 1.], dtype=float32))"
            ]
          },
          "metadata": {},
          "execution_count": 125
        }
      ],
      "source": [
        "# Tensor to NumPy array\n",
        "tensor = torch.ones(7) # create a tensor of ones with dtype=float32\n",
        "numpy_tensor = tensor.numpy() # will be dtype=float32 unless changed\n",
        "tensor, numpy_tensor"
      ]
    },
    {
      "cell_type": "markdown",
      "metadata": {
        "id": "Dt8yEV1jMfi2"
      },
      "source": [
        "หากเปลี่ยนแปลง tensor ต้นฉบับ numpy_tensor ใหม่จะยังคงเดิม"
      ]
    },
    {
      "cell_type": "code",
      "execution_count": null,
      "metadata": {
        "colab": {
          "base_uri": "https://localhost:8080/"
        },
        "id": "mMp6ZSkET4_Y",
        "outputId": "3258ec3a-aa68-4bc6-c2a5-ee1745b04d74"
      },
      "outputs": [
        {
          "output_type": "execute_result",
          "data": {
            "text/plain": [
              "(tensor([2., 2., 2., 2., 2., 2., 2.]),\n",
              " array([1., 1., 1., 1., 1., 1., 1.], dtype=float32))"
            ]
          },
          "metadata": {},
          "execution_count": 126
        }
      ],
      "source": [
        "# Change the tensor, keep the array the same\n",
        "tensor = tensor + 1\n",
        "tensor, numpy_tensor"
      ]
    },
    {
      "cell_type": "markdown",
      "metadata": {
        "id": "7gU3ubCrUkI-"
      },
      "source": [
        "## Reproducibility (trying to take the random out of random)\n",
        "\n",
        "เมื่อเรียนรู้เพิ่มเติมเกี่ยวกับ neural networks และ machine learning ไปเรื่อยๆจะเริ่มสังเกตเห็นถึงความสำคัญของความสุ่ม\n",
        "\n",
        "ความสุ่มแบบ pseudorandom (การสุ่มเทียม) นั่นเอง เพราะในทางทฤษฎีคณิตศาสตร์ คอมพิวเตอร์มีลักษณะเป็น deterministic (รันซ้ำแล้วได้ผลเดิม) ดังนั้นความสุ่มที่เกิดขึ้นคือการสร้างความสุ่มที่จำลอง [ดู ref จาก 9arm ได้ครับ \"RNG: ศาสตร์แห่งเกลือ\"](https://www.youtube.com/watch?v=12FhEYEgfo8&ab_channel=9arm)\n",
        "\n",
        "ความสัมพันธ์นี้เกี่ยวข้องกับ neural networks และ deep learning ยังไงละ\n",
        "\n",
        "ในช่วง random tensors เราได้พูดถึงว่า neural networks เริ่มต้นด้วยตัวเลขสุ่มเพื่อ represent รูปแบบในข้อมูล และพยายามปรับปรุงตัวเลขสุ่มเหล่านั้นโดยใช้ operation บน tensors  เพื่อที่จะrepresent แบบในข้อมูลได้ดีขึ้น\n",
        "\n",
        "แบบสั้นๆ:\n",
        "\n",
        "``เริ่มต้นด้วยตัวเลขสุ่ม -> การดำเนินการบน tensors -> พยายามทำ represent ได้ดีขึ้น (ทำซ้ำไปเรื่อยๆ)``\n",
        "\n",
        "แม้ว่าความสุ่มจะมีประโยชน์และมีพลัง แต่ก็บางครั้งอาจต้องการมีความสุ่มน้อยลง\n",
        "\n",
        "ทำไมถึงต้องลดการสุ่มให้น้อยลง?\n",
        "\n",
        "เพราะ \"เพื่อที่จะทำการทดลองที่สามารถทำซ้ำได้\"\n",
        "\n",
        "เช่น คุณได้สร้างอัลกอริธึมที่สามารถทำให้ได้ผลลัพธ์ X\n",
        "\n",
        "แล้วเพื่อนก็ลองเอามารัน ปรากฎว่าได้ผลลัพธ์ที่ไม่ใช่ X ละ...\n",
        "\n",
        "เราจะแก้ปัญหานี้ยังไงดี?\n",
        "\n",
        "เรากจะเรียกว่าการ **reproducibility**\n",
        "\n",
        "นั่นคือ คุณสามารถได้ผลลัพธ์เดียวกัน (หรือใกล้เคียงกัน) บนคอมพิวเตอร์ของคุณโดยใช้โค้ดเดียวกันที่ได้รับบนคอมพิวเตอร์ของเรา\n",
        "\n",
        "มาดูตัวอย่างย่อของ reproducibility ใน PyTorch กัน\n",
        "\n",
        "เราจะเริ่มต้นด้วยการสร้าง tensor สุ่มสองตัว เนื่องจากมันเป็นสุ่ม แสดงว่าไม่ควรจะไม่เหมือนกันใช่มั้ย?"
      ]
    },
    {
      "cell_type": "code",
      "execution_count": null,
      "metadata": {
        "colab": {
          "base_uri": "https://localhost:8080/"
        },
        "id": "eSwxnwEbTGfF",
        "outputId": "69f60f8b-ffd5-40b0-fdb0-bbb047bbf562"
      },
      "outputs": [
        {
          "output_type": "stream",
          "name": "stdout",
          "text": [
            "Tensor A:\n",
            "tensor([[0.0812, 0.4171, 0.6363, 0.1527],\n",
            "        [0.7885, 0.6420, 0.6613, 0.5735],\n",
            "        [0.2508, 0.2234, 0.7855, 0.8276]])\n",
            "\n",
            "Tensor B:\n",
            "tensor([[0.2666, 0.9653, 0.1008, 0.6585],\n",
            "        [0.1411, 0.1986, 0.8869, 0.9825],\n",
            "        [0.6363, 0.2474, 0.6804, 0.4681]])\n",
            "\n",
            "Does Tensor A equal Tensor B? (anywhere)\n"
          ]
        },
        {
          "output_type": "execute_result",
          "data": {
            "text/plain": [
              "tensor([[False, False, False, False],\n",
              "        [False, False, False, False],\n",
              "        [False, False, False, False]])"
            ]
          },
          "metadata": {},
          "execution_count": 130
        }
      ],
      "source": [
        "import torch\n",
        "\n",
        "# Create two random tensors\n",
        "random_tensor_A = torch.rand(3, 4)\n",
        "random_tensor_B = torch.rand(3, 4)\n",
        "\n",
        "print(f\"Tensor A:\\n{random_tensor_A}\\n\")\n",
        "print(f\"Tensor B:\\n{random_tensor_B}\\n\")\n",
        "print(f\"Does Tensor A equal Tensor B? (anywhere)\")\n",
        "random_tensor_A == random_tensor_B"
      ]
    },
    {
      "cell_type": "markdown",
      "metadata": {
        "id": "nPU6mDKJnr8M"
      },
      "source": [
        "เหมือนที่คิดไว้ tensors จะมีค่าที่แตกต่างกัน\n",
        "\n",
        "แต่ถ้าต้องการสร้าง tensors สุ่มสองตัวที่มีค่าเหมือนกันละ?\n",
        "\n",
        "\n",
        "นั่นคือที่ torch.manual_seed(seed) เข้ามาใช้, ที่ seed เป็นจำนวนเต็ม (เช่น 42 แต่อาจเป็นอะไรก็ได้) ที่ใช้ในการกำหนดลักษณะของความสุ่ม\n",
        "\n",
        "\n",
        "\n",
        "นั่นคือที่เอา  [`torch.manual_seed(seed)`](https://pytorch.org/docs/stable/generated/torch.manual_seed.html) เข้ามาใช้ ที่ seed เป็นจำนวนเต็ม (เช่น 42 แต่อาจเป็นอะไรก็ได้) ที่ใช้ในการกำหนด รหัส ของการสุ่ม\n",
        "\n",
        "มาลองใช้กันดูโดยการสร้าง tensors สุ่มที่มีลักษณะการสุ่มที่แตกต่างกันบ้าง"
      ]
    },
    {
      "cell_type": "code",
      "execution_count": null,
      "metadata": {
        "colab": {
          "base_uri": "https://localhost:8080/"
        },
        "id": "sB6d1GfYTGfF",
        "outputId": "53d3e922-1adb-4138-b437-a92e74d795bf"
      },
      "outputs": [
        {
          "output_type": "stream",
          "name": "stdout",
          "text": [
            "Tensor C:\n",
            "tensor([[0.1106, 0.1814, 0.7274, 0.7250],\n",
            "        [0.3682, 0.0088, 0.1625, 0.0876],\n",
            "        [0.5171, 0.5276, 0.8105, 0.0022]])\n",
            "\n",
            "Tensor D:\n",
            "tensor([[0.1106, 0.1814, 0.7274, 0.7250],\n",
            "        [0.3682, 0.0088, 0.1625, 0.0876],\n",
            "        [0.5171, 0.5276, 0.8105, 0.0022]])\n",
            "\n",
            "Does Tensor C equal Tensor D? (anywhere)\n"
          ]
        },
        {
          "output_type": "execute_result",
          "data": {
            "text/plain": [
              "tensor([[True, True, True, True],\n",
              "        [True, True, True, True],\n",
              "        [True, True, True, True]])"
            ]
          },
          "metadata": {},
          "execution_count": 135
        }
      ],
      "source": [
        "import torch\n",
        "import random\n",
        "\n",
        "-\n",
        "RANDOM_SEED=2248 # try changing this to different values and see what happens to the numbers below\n",
        "torch.manual_seed(seed=RANDOM_SEED)\n",
        "random_tensor_C = torch.rand(3, 4)\n",
        "\n",
        "# Have to reset the seed every time a new rand() is called\n",
        "# Without this, tensor_D would be different to tensor_C\n",
        "torch.random.manual_seed(seed=RANDOM_SEED) # try commenting this line out and seeing what happens\n",
        "random_tensor_D = torch.rand(3, 4)\n",
        "\n",
        "print(f\"Tensor C:\\n{random_tensor_C}\\n\")\n",
        "print(f\"Tensor D:\\n{random_tensor_D}\\n\")\n",
        "print(f\"Does Tensor C equal Tensor D? (anywhere)\")\n",
        "random_tensor_C == random_tensor_D"
      ]
    },
    {
      "cell_type": "code",
      "source": [],
      "metadata": {
        "id": "tAKleScntjuX"
      },
      "execution_count": null,
      "outputs": []
    }
  ],
  "metadata": {
    "colab": {
      "provenance": []
    },
    "interpreter": {
      "hash": "3fbe1355223f7b2ffc113ba3ade6a2b520cadace5d5ec3e828c83ce02eb221bf"
    },
    "kernelspec": {
      "display_name": "Python 3",
      "name": "python3"
    },
    "language_info": {
      "codemirror_mode": {
        "name": "ipython",
        "version": 3
      },
      "file_extension": ".py",
      "mimetype": "text/x-python",
      "name": "python",
      "nbconvert_exporter": "python",
      "pygments_lexer": "ipython3",
      "version": "3.8.13"
    }
  },
  "nbformat": 4,
  "nbformat_minor": 0
}